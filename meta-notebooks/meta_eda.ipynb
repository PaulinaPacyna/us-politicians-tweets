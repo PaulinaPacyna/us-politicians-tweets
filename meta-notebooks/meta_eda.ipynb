{
 "cells": [
  {
   "cell_type": "code",
   "execution_count": 56,
   "id": "c681b43d",
   "metadata": {},
   "outputs": [
    {
     "data": {
      "application/vnd.jupyter.widget-view+json": {
       "model_id": "ae6f330978994905906404fd5f2086e6",
       "version_major": 2,
       "version_minor": 0
      },
      "text/plain": [
       "VBox()"
      ]
     },
     "metadata": {},
     "output_type": "display_data"
    },
    {
     "data": {
      "application/vnd.jupyter.widget-view+json": {
       "model_id": "",
       "version_major": 2,
       "version_minor": 0
      },
      "text/plain": [
       "FloatProgress(value=0.0, bar_style='info', description='Progress:', layout=Layout(height='25px', width='50%'),…"
      ]
     },
     "metadata": {},
     "output_type": "display_data"
    }
   ],
   "source": [
    "from pyspark.sql import functions as F\n",
    "from pyspark.sql.functions import explode\n",
    "from pyspark.sql.types import StructType, StructField, StringType, IntegerType, BooleanType, ArrayType\n",
    "import pandas"
   ]
  },
  {
   "cell_type": "code",
   "execution_count": 57,
   "id": "e657df95",
   "metadata": {},
   "outputs": [
    {
     "data": {
      "application/vnd.jupyter.widget-view+json": {
       "model_id": "1c401a742be84973b13d2625d590f24e",
       "version_major": 2,
       "version_minor": 0
      },
      "text/plain": [
       "VBox()"
      ]
     },
     "metadata": {},
     "output_type": "display_data"
    },
    {
     "data": {
      "application/vnd.jupyter.widget-view+json": {
       "model_id": "",
       "version_major": 2,
       "version_minor": 0
      },
      "text/plain": [
       "FloatProgress(value=0.0, bar_style='info', description='Progress:', layout=Layout(height='25px', width='50%'),…"
      ]
     },
     "metadata": {},
     "output_type": "display_data"
    }
   ],
   "source": [
    "input_bucket = 's3://hadoop-data-tja'\n",
    "input_path = '/hadoop/*.json'\n",
    "#df = spark.read.schema(schema).json(input_bucket + input_path).cache()"
   ]
  },
  {
   "cell_type": "code",
   "execution_count": 58,
   "id": "2a61f4bf",
   "metadata": {},
   "outputs": [
    {
     "data": {
      "application/vnd.jupyter.widget-view+json": {
       "model_id": "a34c5bc9f25543cdbc3ff375ca9034fa",
       "version_major": 2,
       "version_minor": 0
      },
      "text/plain": [
       "VBox()"
      ]
     },
     "metadata": {},
     "output_type": "display_data"
    },
    {
     "data": {
      "application/vnd.jupyter.widget-view+json": {
       "model_id": "",
       "version_major": 2,
       "version_minor": 0
      },
      "text/plain": [
       "FloatProgress(value=0.0, bar_style='info', description='Progress:', layout=Layout(height='25px', width='50%'),…"
      ]
     },
     "metadata": {},
     "output_type": "display_data"
    },
    {
     "name": "stdout",
     "output_type": "stream",
     "text": [
      "root\n",
      " |-- _corrupt_record: string (nullable = true)\n",
      " |-- body: struct (nullable = true)\n",
      " |    |-- data: struct (nullable = true)\n",
      " |    |    |-- account_data: struct (nullable = true)\n",
      " |    |    |    |-- contributors_enabled: boolean (nullable = true)\n",
      " |    |    |    |-- created_at: string (nullable = true)\n",
      " |    |    |    |-- default_profile: boolean (nullable = true)\n",
      " |    |    |    |-- default_profile_image: boolean (nullable = true)\n",
      " |    |    |    |-- description: string (nullable = true)\n",
      " |    |    |    |-- entities: struct (nullable = true)\n",
      " |    |    |    |    |-- description: struct (nullable = true)\n",
      " |    |    |    |    |    |-- urls: array (nullable = true)\n",
      " |    |    |    |    |    |    |-- element: struct (containsNull = true)\n",
      " |    |    |    |    |    |    |    |-- display_url: string (nullable = true)\n",
      " |    |    |    |    |    |    |    |-- expanded_url: string (nullable = true)\n",
      " |    |    |    |    |    |    |    |-- indices: array (nullable = true)\n",
      " |    |    |    |    |    |    |    |    |-- element: long (containsNull = true)\n",
      " |    |    |    |    |    |    |    |-- url: string (nullable = true)\n",
      " |    |    |    |    |-- url: struct (nullable = true)\n",
      " |    |    |    |    |    |-- urls: array (nullable = true)\n",
      " |    |    |    |    |    |    |-- element: struct (containsNull = true)\n",
      " |    |    |    |    |    |    |    |-- display_url: string (nullable = true)\n",
      " |    |    |    |    |    |    |    |-- expanded_url: string (nullable = true)\n",
      " |    |    |    |    |    |    |    |-- indices: array (nullable = true)\n",
      " |    |    |    |    |    |    |    |    |-- element: long (containsNull = true)\n",
      " |    |    |    |    |    |    |    |-- url: string (nullable = true)\n",
      " |    |    |    |-- favourites_count: long (nullable = true)\n",
      " |    |    |    |-- follow_request_sent: string (nullable = true)\n",
      " |    |    |    |-- followers_count: long (nullable = true)\n",
      " |    |    |    |-- following: string (nullable = true)\n",
      " |    |    |    |-- friends_count: long (nullable = true)\n",
      " |    |    |    |-- geo_enabled: boolean (nullable = true)\n",
      " |    |    |    |-- has_extended_profile: boolean (nullable = true)\n",
      " |    |    |    |-- id: long (nullable = true)\n",
      " |    |    |    |-- id_str: string (nullable = true)\n",
      " |    |    |    |-- is_translation_enabled: boolean (nullable = true)\n",
      " |    |    |    |-- is_translator: boolean (nullable = true)\n",
      " |    |    |    |-- lang: string (nullable = true)\n",
      " |    |    |    |-- listed_count: long (nullable = true)\n",
      " |    |    |    |-- location: string (nullable = true)\n",
      " |    |    |    |-- name: string (nullable = true)\n",
      " |    |    |    |-- notifications: string (nullable = true)\n",
      " |    |    |    |-- profile_background_color: string (nullable = true)\n",
      " |    |    |    |-- profile_background_image_url: string (nullable = true)\n",
      " |    |    |    |-- profile_background_image_url_https: string (nullable = true)\n",
      " |    |    |    |-- profile_background_tile: boolean (nullable = true)\n",
      " |    |    |    |-- profile_banner_url: string (nullable = true)\n",
      " |    |    |    |-- profile_image_url: string (nullable = true)\n",
      " |    |    |    |-- profile_image_url_https: string (nullable = true)\n",
      " |    |    |    |-- profile_link_color: string (nullable = true)\n",
      " |    |    |    |-- profile_location: struct (nullable = true)\n",
      " |    |    |    |    |-- bounding_box: string (nullable = true)\n",
      " |    |    |    |    |-- contained_within: array (nullable = true)\n",
      " |    |    |    |    |    |-- element: string (containsNull = true)\n",
      " |    |    |    |    |-- country: string (nullable = true)\n",
      " |    |    |    |    |-- country_code: string (nullable = true)\n",
      " |    |    |    |    |-- full_name: string (nullable = true)\n",
      " |    |    |    |    |-- id: string (nullable = true)\n",
      " |    |    |    |    |-- name: string (nullable = true)\n",
      " |    |    |    |    |-- place_type: string (nullable = true)\n",
      " |    |    |    |    |-- url: string (nullable = true)\n",
      " |    |    |    |-- profile_sidebar_border_color: string (nullable = true)\n",
      " |    |    |    |-- profile_sidebar_fill_color: string (nullable = true)\n",
      " |    |    |    |-- profile_text_color: string (nullable = true)\n",
      " |    |    |    |-- profile_use_background_image: boolean (nullable = true)\n",
      " |    |    |    |-- protected: boolean (nullable = true)\n",
      " |    |    |    |-- screen_name: string (nullable = true)\n",
      " |    |    |    |-- status: struct (nullable = true)\n",
      " |    |    |    |    |-- contributors: string (nullable = true)\n",
      " |    |    |    |    |-- coordinates: string (nullable = true)\n",
      " |    |    |    |    |-- created_at: string (nullable = true)\n",
      " |    |    |    |    |-- entities: struct (nullable = true)\n",
      " |    |    |    |    |    |-- hashtags: array (nullable = true)\n",
      " |    |    |    |    |    |    |-- element: struct (containsNull = true)\n",
      " |    |    |    |    |    |    |    |-- indices: array (nullable = true)\n",
      " |    |    |    |    |    |    |    |    |-- element: long (containsNull = true)\n",
      " |    |    |    |    |    |    |    |-- text: string (nullable = true)\n",
      " |    |    |    |    |    |-- media: array (nullable = true)\n",
      " |    |    |    |    |    |    |-- element: struct (containsNull = true)\n",
      " |    |    |    |    |    |    |    |-- display_url: string (nullable = true)\n",
      " |    |    |    |    |    |    |    |-- expanded_url: string (nullable = true)\n",
      " |    |    |    |    |    |    |    |-- id: long (nullable = true)\n",
      " |    |    |    |    |    |    |    |-- id_str: string (nullable = true)\n",
      " |    |    |    |    |    |    |    |-- indices: array (nullable = true)\n",
      " |    |    |    |    |    |    |    |    |-- element: long (containsNull = true)\n",
      " |    |    |    |    |    |    |    |-- media_url: string (nullable = true)\n",
      " |    |    |    |    |    |    |    |-- media_url_https: string (nullable = true)\n",
      " |    |    |    |    |    |    |    |-- sizes: struct (nullable = true)\n",
      " |    |    |    |    |    |    |    |    |-- large: struct (nullable = true)\n",
      " |    |    |    |    |    |    |    |    |    |-- h: long (nullable = true)\n",
      " |    |    |    |    |    |    |    |    |    |-- resize: string (nullable = true)\n",
      " |    |    |    |    |    |    |    |    |    |-- w: long (nullable = true)\n",
      " |    |    |    |    |    |    |    |    |-- medium: struct (nullable = true)\n",
      " |    |    |    |    |    |    |    |    |    |-- h: long (nullable = true)\n",
      " |    |    |    |    |    |    |    |    |    |-- resize: string (nullable = true)\n",
      " |    |    |    |    |    |    |    |    |    |-- w: long (nullable = true)\n",
      " |    |    |    |    |    |    |    |    |-- small: struct (nullable = true)\n",
      " |    |    |    |    |    |    |    |    |    |-- h: long (nullable = true)\n",
      " |    |    |    |    |    |    |    |    |    |-- resize: string (nullable = true)\n",
      " |    |    |    |    |    |    |    |    |    |-- w: long (nullable = true)\n",
      " |    |    |    |    |    |    |    |    |-- thumb: struct (nullable = true)\n",
      " |    |    |    |    |    |    |    |    |    |-- h: long (nullable = true)\n",
      " |    |    |    |    |    |    |    |    |    |-- resize: string (nullable = true)\n",
      " |    |    |    |    |    |    |    |    |    |-- w: long (nullable = true)\n",
      " |    |    |    |    |    |    |    |-- source_status_id: long (nullable = true)\n",
      " |    |    |    |    |    |    |    |-- source_status_id_str: string (nullable = true)\n",
      " |    |    |    |    |    |    |    |-- source_user_id: long (nullable = true)\n",
      " |    |    |    |    |    |    |    |-- source_user_id_str: string (nullable = true)\n",
      " |    |    |    |    |    |    |    |-- type: string (nullable = true)\n",
      " |    |    |    |    |    |    |    |-- url: string (nullable = true)\n",
      " |    |    |    |    |    |-- symbols: array (nullable = true)\n",
      " |    |    |    |    |    |    |-- element: string (containsNull = true)\n",
      " |    |    |    |    |    |-- urls: array (nullable = true)\n",
      " |    |    |    |    |    |    |-- element: struct (containsNull = true)\n",
      " |    |    |    |    |    |    |    |-- display_url: string (nullable = true)\n",
      " |    |    |    |    |    |    |    |-- expanded_url: string (nullable = true)\n",
      " |    |    |    |    |    |    |    |-- indices: array (nullable = true)\n",
      " |    |    |    |    |    |    |    |    |-- element: long (containsNull = true)\n",
      " |    |    |    |    |    |    |    |-- url: string (nullable = true)\n",
      " |    |    |    |    |    |-- user_mentions: array (nullable = true)\n",
      " |    |    |    |    |    |    |-- element: struct (containsNull = true)\n",
      " |    |    |    |    |    |    |    |-- id: long (nullable = true)\n",
      " |    |    |    |    |    |    |    |-- id_str: string (nullable = true)\n",
      " |    |    |    |    |    |    |    |-- indices: array (nullable = true)\n",
      " |    |    |    |    |    |    |    |    |-- element: long (containsNull = true)\n",
      " |    |    |    |    |    |    |    |-- name: string (nullable = true)\n",
      " |    |    |    |    |    |    |    |-- screen_name: string (nullable = true)\n",
      " |    |    |    |    |-- extended_entities: struct (nullable = true)\n",
      " |    |    |    |    |    |-- media: array (nullable = true)\n",
      " |    |    |    |    |    |    |-- element: struct (containsNull = true)\n",
      " |    |    |    |    |    |    |    |-- additional_media_info: struct (nullable = true)\n",
      " |    |    |    |    |    |    |    |    |-- monetizable: boolean (nullable = true)\n",
      " |    |    |    |    |    |    |    |-- display_url: string (nullable = true)\n",
      " |    |    |    |    |    |    |    |-- expanded_url: string (nullable = true)\n",
      " |    |    |    |    |    |    |    |-- id: long (nullable = true)\n",
      " |    |    |    |    |    |    |    |-- id_str: string (nullable = true)\n",
      " |    |    |    |    |    |    |    |-- indices: array (nullable = true)\n",
      " |    |    |    |    |    |    |    |    |-- element: long (containsNull = true)\n",
      " |    |    |    |    |    |    |    |-- media_url: string (nullable = true)\n",
      " |    |    |    |    |    |    |    |-- media_url_https: string (nullable = true)\n",
      " |    |    |    |    |    |    |    |-- sizes: struct (nullable = true)\n",
      " |    |    |    |    |    |    |    |    |-- large: struct (nullable = true)\n",
      " |    |    |    |    |    |    |    |    |    |-- h: long (nullable = true)\n",
      " |    |    |    |    |    |    |    |    |    |-- resize: string (nullable = true)\n",
      " |    |    |    |    |    |    |    |    |    |-- w: long (nullable = true)\n",
      " |    |    |    |    |    |    |    |    |-- medium: struct (nullable = true)\n",
      " |    |    |    |    |    |    |    |    |    |-- h: long (nullable = true)\n",
      " |    |    |    |    |    |    |    |    |    |-- resize: string (nullable = true)\n",
      " |    |    |    |    |    |    |    |    |    |-- w: long (nullable = true)\n",
      " |    |    |    |    |    |    |    |    |-- small: struct (nullable = true)\n",
      " |    |    |    |    |    |    |    |    |    |-- h: long (nullable = true)\n",
      " |    |    |    |    |    |    |    |    |    |-- resize: string (nullable = true)\n",
      " |    |    |    |    |    |    |    |    |    |-- w: long (nullable = true)\n",
      " |    |    |    |    |    |    |    |    |-- thumb: struct (nullable = true)\n",
      " |    |    |    |    |    |    |    |    |    |-- h: long (nullable = true)\n",
      " |    |    |    |    |    |    |    |    |    |-- resize: string (nullable = true)\n",
      " |    |    |    |    |    |    |    |    |    |-- w: long (nullable = true)\n",
      " |    |    |    |    |    |    |    |-- source_status_id: long (nullable = true)\n",
      " |    |    |    |    |    |    |    |-- source_status_id_str: string (nullable = true)\n",
      " |    |    |    |    |    |    |    |-- source_user_id: long (nullable = true)\n",
      " |    |    |    |    |    |    |    |-- source_user_id_str: string (nullable = true)\n",
      " |    |    |    |    |    |    |    |-- type: string (nullable = true)\n",
      " |    |    |    |    |    |    |    |-- url: string (nullable = true)\n",
      " |    |    |    |    |    |    |    |-- video_info: struct (nullable = true)\n",
      " |    |    |    |    |    |    |    |    |-- aspect_ratio: array (nullable = true)\n",
      " |    |    |    |    |    |    |    |    |    |-- element: long (containsNull = true)\n",
      " |    |    |    |    |    |    |    |    |-- duration_millis: long (nullable = true)\n",
      " |    |    |    |    |    |    |    |    |-- variants: array (nullable = true)\n",
      " |    |    |    |    |    |    |    |    |    |-- element: struct (containsNull = true)\n",
      " |    |    |    |    |    |    |    |    |    |    |-- bitrate: long (nullable = true)\n",
      " |    |    |    |    |    |    |    |    |    |    |-- content_type: string (nullable = true)\n",
      " |    |    |    |    |    |    |    |    |    |    |-- url: string (nullable = true)\n",
      " |    |    |    |    |-- favorite_count: long (nullable = true)\n",
      " |    |    |    |    |-- favorited: boolean (nullable = true)\n",
      " |    |    |    |    |-- geo: string (nullable = true)\n",
      " |    |    |    |    |-- id: long (nullable = true)\n",
      " |    |    |    |    |-- id_str: string (nullable = true)\n",
      " |    |    |    |    |-- in_reply_to_screen_name: string (nullable = true)\n",
      " |    |    |    |    |-- in_reply_to_status_id: long (nullable = true)\n",
      " |    |    |    |    |-- in_reply_to_status_id_str: string (nullable = true)\n",
      " |    |    |    |    |-- in_reply_to_user_id: long (nullable = true)\n",
      " |    |    |    |    |-- in_reply_to_user_id_str: string (nullable = true)\n",
      " |    |    |    |    |-- is_quote_status: boolean (nullable = true)\n",
      " |    |    |    |    |-- lang: string (nullable = true)\n",
      " |    |    |    |    |-- place: string (nullable = true)\n",
      " |    |    |    |    |-- possibly_sensitive: boolean (nullable = true)\n",
      " |    |    |    |    |-- quoted_status_id: long (nullable = true)\n",
      " |    |    |    |    |-- quoted_status_id_str: string (nullable = true)\n",
      " |    |    |    |    |-- retweet_count: long (nullable = true)\n",
      " |    |    |    |    |-- retweeted: boolean (nullable = true)\n",
      " |    |    |    |    |-- retweeted_status: struct (nullable = true)\n",
      " |    |    |    |    |    |-- contributors: string (nullable = true)\n",
      " |    |    |    |    |    |-- coordinates: string (nullable = true)\n",
      " |    |    |    |    |    |-- created_at: string (nullable = true)\n",
      " |    |    |    |    |    |-- entities: struct (nullable = true)\n",
      " |    |    |    |    |    |    |-- hashtags: array (nullable = true)\n",
      " |    |    |    |    |    |    |    |-- element: struct (containsNull = true)\n",
      " |    |    |    |    |    |    |    |    |-- indices: array (nullable = true)\n",
      " |    |    |    |    |    |    |    |    |    |-- element: long (containsNull = true)\n",
      " |    |    |    |    |    |    |    |    |-- text: string (nullable = true)\n",
      " |    |    |    |    |    |    |-- media: array (nullable = true)\n",
      " |    |    |    |    |    |    |    |-- element: struct (containsNull = true)\n",
      " |    |    |    |    |    |    |    |    |-- display_url: string (nullable = true)\n",
      " |    |    |    |    |    |    |    |    |-- expanded_url: string (nullable = true)\n",
      " |    |    |    |    |    |    |    |    |-- id: long (nullable = true)\n",
      " |    |    |    |    |    |    |    |    |-- id_str: string (nullable = true)\n",
      " |    |    |    |    |    |    |    |    |-- indices: array (nullable = true)\n",
      " |    |    |    |    |    |    |    |    |    |-- element: long (containsNull = true)\n",
      " |    |    |    |    |    |    |    |    |-- media_url: string (nullable = true)\n",
      " |    |    |    |    |    |    |    |    |-- media_url_https: string (nullable = true)\n",
      " |    |    |    |    |    |    |    |    |-- sizes: struct (nullable = true)\n",
      " |    |    |    |    |    |    |    |    |    |-- large: struct (nullable = true)\n",
      " |    |    |    |    |    |    |    |    |    |    |-- h: long (nullable = true)\n",
      " |    |    |    |    |    |    |    |    |    |    |-- resize: string (nullable = true)\n",
      " |    |    |    |    |    |    |    |    |    |    |-- w: long (nullable = true)\n",
      " |    |    |    |    |    |    |    |    |    |-- medium: struct (nullable = true)\n",
      " |    |    |    |    |    |    |    |    |    |    |-- h: long (nullable = true)\n",
      " |    |    |    |    |    |    |    |    |    |    |-- resize: string (nullable = true)\n",
      " |    |    |    |    |    |    |    |    |    |    |-- w: long (nullable = true)\n",
      " |    |    |    |    |    |    |    |    |    |-- small: struct (nullable = true)\n",
      " |    |    |    |    |    |    |    |    |    |    |-- h: long (nullable = true)\n",
      " |    |    |    |    |    |    |    |    |    |    |-- resize: string (nullable = true)\n",
      " |    |    |    |    |    |    |    |    |    |    |-- w: long (nullable = true)\n",
      " |    |    |    |    |    |    |    |    |    |-- thumb: struct (nullable = true)\n",
      " |    |    |    |    |    |    |    |    |    |    |-- h: long (nullable = true)\n",
      " |    |    |    |    |    |    |    |    |    |    |-- resize: string (nullable = true)\n",
      " |    |    |    |    |    |    |    |    |    |    |-- w: long (nullable = true)\n",
      " |    |    |    |    |    |    |    |    |-- type: string (nullable = true)\n",
      " |    |    |    |    |    |    |    |    |-- url: string (nullable = true)\n",
      " |    |    |    |    |    |    |-- symbols: array (nullable = true)\n",
      " |    |    |    |    |    |    |    |-- element: string (containsNull = true)\n",
      " |    |    |    |    |    |    |-- urls: array (nullable = true)\n",
      " |    |    |    |    |    |    |    |-- element: struct (containsNull = true)\n",
      " |    |    |    |    |    |    |    |    |-- display_url: string (nullable = true)\n",
      " |    |    |    |    |    |    |    |    |-- expanded_url: string (nullable = true)\n",
      " |    |    |    |    |    |    |    |    |-- indices: array (nullable = true)\n",
      " |    |    |    |    |    |    |    |    |    |-- element: long (containsNull = true)\n",
      " |    |    |    |    |    |    |    |    |-- url: string (nullable = true)\n",
      " |    |    |    |    |    |    |-- user_mentions: array (nullable = true)\n",
      " |    |    |    |    |    |    |    |-- element: struct (containsNull = true)\n",
      " |    |    |    |    |    |    |    |    |-- id: long (nullable = true)\n",
      " |    |    |    |    |    |    |    |    |-- id_str: string (nullable = true)\n",
      " |    |    |    |    |    |    |    |    |-- indices: array (nullable = true)\n",
      " |    |    |    |    |    |    |    |    |    |-- element: long (containsNull = true)\n",
      " |    |    |    |    |    |    |    |    |-- name: string (nullable = true)\n",
      " |    |    |    |    |    |    |    |    |-- screen_name: string (nullable = true)\n",
      " |    |    |    |    |    |-- extended_entities: struct (nullable = true)\n",
      " |    |    |    |    |    |    |-- media: array (nullable = true)\n",
      " |    |    |    |    |    |    |    |-- element: struct (containsNull = true)\n",
      " |    |    |    |    |    |    |    |    |-- display_url: string (nullable = true)\n",
      " |    |    |    |    |    |    |    |    |-- expanded_url: string (nullable = true)\n",
      " |    |    |    |    |    |    |    |    |-- id: long (nullable = true)\n",
      " |    |    |    |    |    |    |    |    |-- id_str: string (nullable = true)\n",
      " |    |    |    |    |    |    |    |    |-- indices: array (nullable = true)\n",
      " |    |    |    |    |    |    |    |    |    |-- element: long (containsNull = true)\n",
      " |    |    |    |    |    |    |    |    |-- media_url: string (nullable = true)\n",
      " |    |    |    |    |    |    |    |    |-- media_url_https: string (nullable = true)\n",
      " |    |    |    |    |    |    |    |    |-- sizes: struct (nullable = true)\n",
      " |    |    |    |    |    |    |    |    |    |-- large: struct (nullable = true)\n",
      " |    |    |    |    |    |    |    |    |    |    |-- h: long (nullable = true)\n",
      " |    |    |    |    |    |    |    |    |    |    |-- resize: string (nullable = true)\n",
      " |    |    |    |    |    |    |    |    |    |    |-- w: long (nullable = true)\n",
      " |    |    |    |    |    |    |    |    |    |-- medium: struct (nullable = true)\n",
      " |    |    |    |    |    |    |    |    |    |    |-- h: long (nullable = true)\n",
      " |    |    |    |    |    |    |    |    |    |    |-- resize: string (nullable = true)\n",
      " |    |    |    |    |    |    |    |    |    |    |-- w: long (nullable = true)\n",
      " |    |    |    |    |    |    |    |    |    |-- small: struct (nullable = true)\n",
      " |    |    |    |    |    |    |    |    |    |    |-- h: long (nullable = true)\n",
      " |    |    |    |    |    |    |    |    |    |    |-- resize: string (nullable = true)\n",
      " |    |    |    |    |    |    |    |    |    |    |-- w: long (nullable = true)\n",
      " |    |    |    |    |    |    |    |    |    |-- thumb: struct (nullable = true)\n",
      " |    |    |    |    |    |    |    |    |    |    |-- h: long (nullable = true)\n",
      " |    |    |    |    |    |    |    |    |    |    |-- resize: string (nullable = true)\n",
      " |    |    |    |    |    |    |    |    |    |    |-- w: long (nullable = true)\n",
      " |    |    |    |    |    |    |    |    |-- type: string (nullable = true)\n",
      " |    |    |    |    |    |    |    |    |-- url: string (nullable = true)\n",
      " |    |    |    |    |    |-- favorite_count: long (nullable = true)\n",
      " |    |    |    |    |    |-- favorited: boolean (nullable = true)\n",
      " |    |    |    |    |    |-- geo: string (nullable = true)\n",
      " |    |    |    |    |    |-- id: long (nullable = true)\n",
      " |    |    |    |    |    |-- id_str: string (nullable = true)\n",
      " |    |    |    |    |    |-- in_reply_to_screen_name: string (nullable = true)\n",
      " |    |    |    |    |    |-- in_reply_to_status_id: string (nullable = true)\n",
      " |    |    |    |    |    |-- in_reply_to_status_id_str: string (nullable = true)\n",
      " |    |    |    |    |    |-- in_reply_to_user_id: string (nullable = true)\n",
      " |    |    |    |    |    |-- in_reply_to_user_id_str: string (nullable = true)\n",
      " |    |    |    |    |    |-- is_quote_status: boolean (nullable = true)\n",
      " |    |    |    |    |    |-- lang: string (nullable = true)\n",
      " |    |    |    |    |    |-- place: string (nullable = true)\n",
      " |    |    |    |    |    |-- possibly_sensitive: boolean (nullable = true)\n",
      " |    |    |    |    |    |-- quoted_status_id: long (nullable = true)\n",
      " |    |    |    |    |    |-- quoted_status_id_str: string (nullable = true)\n",
      " |    |    |    |    |    |-- retweet_count: long (nullable = true)\n",
      " |    |    |    |    |    |-- retweeted: boolean (nullable = true)\n",
      " |    |    |    |    |    |-- source: string (nullable = true)\n",
      " |    |    |    |    |    |-- text: string (nullable = true)\n",
      " |    |    |    |    |    |-- truncated: boolean (nullable = true)\n",
      " |    |    |    |    |-- source: string (nullable = true)\n",
      " |    |    |    |    |-- text: string (nullable = true)\n",
      " |    |    |    |    |-- truncated: boolean (nullable = true)\n",
      " |    |    |    |-- statuses_count: long (nullable = true)\n",
      " |    |    |    |-- time_zone: string (nullable = true)\n",
      " |    |    |    |-- translator_type: string (nullable = true)\n",
      " |    |    |    |-- url: string (nullable = true)\n",
      " |    |    |    |-- utc_offset: string (nullable = true)\n",
      " |    |    |    |-- verified: boolean (nullable = true)\n",
      " |    |    |    |-- withheld_in_countries: array (nullable = true)\n",
      " |    |    |    |    |-- element: string (containsNull = true)\n",
      " |    |    |-- followers: array (nullable = true)\n",
      " |    |    |    |-- element: long (containsNull = true)\n",
      " |    |    |-- friends: array (nullable = true)\n",
      " |    |    |    |-- element: long (containsNull = true)\n",
      " |    |-- extractionTime: long (nullable = true)\n",
      " |    |-- user: string (nullable = true)\n",
      " |-- extractionTimestamp: long (nullable = true)\n",
      " |-- statusCode: long (nullable = true)"
     ]
    }
   ],
   "source": [
    "df = spark.read.option(\"multiline\",True).json(\"s3://hadoop-data-tja/hadoop/hadoop/*.json\")\n",
    "df.printSchema()"
   ]
  },
  {
   "cell_type": "code",
   "execution_count": 59,
   "id": "273ba956",
   "metadata": {},
   "outputs": [
    {
     "data": {
      "application/vnd.jupyter.widget-view+json": {
       "model_id": "688100de785f4b4d9094ca17be6f93b6",
       "version_major": 2,
       "version_minor": 0
      },
      "text/plain": [
       "VBox()"
      ]
     },
     "metadata": {},
     "output_type": "display_data"
    },
    {
     "data": {
      "application/vnd.jupyter.widget-view+json": {
       "model_id": "",
       "version_major": 2,
       "version_minor": 0
      },
      "text/plain": [
       "FloatProgress(value=0.0, bar_style='info', description='Progress:', layout=Layout(height='25px', width='50%'),…"
      ]
     },
     "metadata": {},
     "output_type": "display_data"
    }
   ],
   "source": [
    "schema = df.schema\n",
    "true_schema = schema[1:-1]"
   ]
  },
  {
   "cell_type": "code",
   "execution_count": 60,
   "id": "bde2cb22",
   "metadata": {},
   "outputs": [
    {
     "data": {
      "application/vnd.jupyter.widget-view+json": {
       "model_id": "a53b5c39fab94f9aa213eb85adced2aa",
       "version_major": 2,
       "version_minor": 0
      },
      "text/plain": [
       "VBox()"
      ]
     },
     "metadata": {},
     "output_type": "display_data"
    },
    {
     "data": {
      "application/vnd.jupyter.widget-view+json": {
       "model_id": "",
       "version_major": 2,
       "version_minor": 0
      },
      "text/plain": [
       "FloatProgress(value=0.0, bar_style='info', description='Progress:', layout=Layout(height='25px', width='50%'),…"
      ]
     },
     "metadata": {},
     "output_type": "display_data"
    },
    {
     "name": "stdout",
     "output_type": "stream",
     "text": [
      "root\n",
      " |-- body: struct (nullable = true)\n",
      " |    |-- data: struct (nullable = true)\n",
      " |    |    |-- account_data: struct (nullable = true)\n",
      " |    |    |    |-- contributors_enabled: boolean (nullable = true)\n",
      " |    |    |    |-- created_at: string (nullable = true)\n",
      " |    |    |    |-- default_profile: boolean (nullable = true)\n",
      " |    |    |    |-- default_profile_image: boolean (nullable = true)\n",
      " |    |    |    |-- description: string (nullable = true)\n",
      " |    |    |    |-- entities: struct (nullable = true)\n",
      " |    |    |    |    |-- description: struct (nullable = true)\n",
      " |    |    |    |    |    |-- urls: array (nullable = true)\n",
      " |    |    |    |    |    |    |-- element: struct (containsNull = true)\n",
      " |    |    |    |    |    |    |    |-- display_url: string (nullable = true)\n",
      " |    |    |    |    |    |    |    |-- expanded_url: string (nullable = true)\n",
      " |    |    |    |    |    |    |    |-- indices: array (nullable = true)\n",
      " |    |    |    |    |    |    |    |    |-- element: long (containsNull = true)\n",
      " |    |    |    |    |    |    |    |-- url: string (nullable = true)\n",
      " |    |    |    |    |-- url: struct (nullable = true)\n",
      " |    |    |    |    |    |-- urls: array (nullable = true)\n",
      " |    |    |    |    |    |    |-- element: struct (containsNull = true)\n",
      " |    |    |    |    |    |    |    |-- display_url: string (nullable = true)\n",
      " |    |    |    |    |    |    |    |-- expanded_url: string (nullable = true)\n",
      " |    |    |    |    |    |    |    |-- indices: array (nullable = true)\n",
      " |    |    |    |    |    |    |    |    |-- element: long (containsNull = true)\n",
      " |    |    |    |    |    |    |    |-- url: string (nullable = true)\n",
      " |    |    |    |-- favourites_count: long (nullable = true)\n",
      " |    |    |    |-- follow_request_sent: string (nullable = true)\n",
      " |    |    |    |-- followers_count: long (nullable = true)\n",
      " |    |    |    |-- following: string (nullable = true)\n",
      " |    |    |    |-- friends_count: long (nullable = true)\n",
      " |    |    |    |-- geo_enabled: boolean (nullable = true)\n",
      " |    |    |    |-- has_extended_profile: boolean (nullable = true)\n",
      " |    |    |    |-- id: long (nullable = true)\n",
      " |    |    |    |-- id_str: string (nullable = true)\n",
      " |    |    |    |-- is_translation_enabled: boolean (nullable = true)\n",
      " |    |    |    |-- is_translator: boolean (nullable = true)\n",
      " |    |    |    |-- lang: string (nullable = true)\n",
      " |    |    |    |-- listed_count: long (nullable = true)\n",
      " |    |    |    |-- location: string (nullable = true)\n",
      " |    |    |    |-- name: string (nullable = true)\n",
      " |    |    |    |-- notifications: string (nullable = true)\n",
      " |    |    |    |-- profile_background_color: string (nullable = true)\n",
      " |    |    |    |-- profile_background_image_url: string (nullable = true)\n",
      " |    |    |    |-- profile_background_image_url_https: string (nullable = true)\n",
      " |    |    |    |-- profile_background_tile: boolean (nullable = true)\n",
      " |    |    |    |-- profile_banner_url: string (nullable = true)\n",
      " |    |    |    |-- profile_image_url: string (nullable = true)\n",
      " |    |    |    |-- profile_image_url_https: string (nullable = true)\n",
      " |    |    |    |-- profile_link_color: string (nullable = true)\n",
      " |    |    |    |-- profile_location: struct (nullable = true)\n",
      " |    |    |    |    |-- bounding_box: string (nullable = true)\n",
      " |    |    |    |    |-- contained_within: array (nullable = true)\n",
      " |    |    |    |    |    |-- element: string (containsNull = true)\n",
      " |    |    |    |    |-- country: string (nullable = true)\n",
      " |    |    |    |    |-- country_code: string (nullable = true)\n",
      " |    |    |    |    |-- full_name: string (nullable = true)\n",
      " |    |    |    |    |-- id: string (nullable = true)\n",
      " |    |    |    |    |-- name: string (nullable = true)\n",
      " |    |    |    |    |-- place_type: string (nullable = true)\n",
      " |    |    |    |    |-- url: string (nullable = true)\n",
      " |    |    |    |-- profile_sidebar_border_color: string (nullable = true)\n",
      " |    |    |    |-- profile_sidebar_fill_color: string (nullable = true)\n",
      " |    |    |    |-- profile_text_color: string (nullable = true)\n",
      " |    |    |    |-- profile_use_background_image: boolean (nullable = true)\n",
      " |    |    |    |-- protected: boolean (nullable = true)\n",
      " |    |    |    |-- screen_name: string (nullable = true)\n",
      " |    |    |    |-- status: struct (nullable = true)\n",
      " |    |    |    |    |-- contributors: string (nullable = true)\n",
      " |    |    |    |    |-- coordinates: string (nullable = true)\n",
      " |    |    |    |    |-- created_at: string (nullable = true)\n",
      " |    |    |    |    |-- entities: struct (nullable = true)\n",
      " |    |    |    |    |    |-- hashtags: array (nullable = true)\n",
      " |    |    |    |    |    |    |-- element: struct (containsNull = true)\n",
      " |    |    |    |    |    |    |    |-- indices: array (nullable = true)\n",
      " |    |    |    |    |    |    |    |    |-- element: long (containsNull = true)\n",
      " |    |    |    |    |    |    |    |-- text: string (nullable = true)\n",
      " |    |    |    |    |    |-- media: array (nullable = true)\n",
      " |    |    |    |    |    |    |-- element: struct (containsNull = true)\n",
      " |    |    |    |    |    |    |    |-- display_url: string (nullable = true)\n",
      " |    |    |    |    |    |    |    |-- expanded_url: string (nullable = true)\n",
      " |    |    |    |    |    |    |    |-- id: long (nullable = true)\n",
      " |    |    |    |    |    |    |    |-- id_str: string (nullable = true)\n",
      " |    |    |    |    |    |    |    |-- indices: array (nullable = true)\n",
      " |    |    |    |    |    |    |    |    |-- element: long (containsNull = true)\n",
      " |    |    |    |    |    |    |    |-- media_url: string (nullable = true)\n",
      " |    |    |    |    |    |    |    |-- media_url_https: string (nullable = true)\n",
      " |    |    |    |    |    |    |    |-- sizes: struct (nullable = true)\n",
      " |    |    |    |    |    |    |    |    |-- large: struct (nullable = true)\n",
      " |    |    |    |    |    |    |    |    |    |-- h: long (nullable = true)\n",
      " |    |    |    |    |    |    |    |    |    |-- resize: string (nullable = true)\n",
      " |    |    |    |    |    |    |    |    |    |-- w: long (nullable = true)\n",
      " |    |    |    |    |    |    |    |    |-- medium: struct (nullable = true)\n",
      " |    |    |    |    |    |    |    |    |    |-- h: long (nullable = true)\n",
      " |    |    |    |    |    |    |    |    |    |-- resize: string (nullable = true)\n",
      " |    |    |    |    |    |    |    |    |    |-- w: long (nullable = true)\n",
      " |    |    |    |    |    |    |    |    |-- small: struct (nullable = true)\n",
      " |    |    |    |    |    |    |    |    |    |-- h: long (nullable = true)\n",
      " |    |    |    |    |    |    |    |    |    |-- resize: string (nullable = true)\n",
      " |    |    |    |    |    |    |    |    |    |-- w: long (nullable = true)\n",
      " |    |    |    |    |    |    |    |    |-- thumb: struct (nullable = true)\n",
      " |    |    |    |    |    |    |    |    |    |-- h: long (nullable = true)\n",
      " |    |    |    |    |    |    |    |    |    |-- resize: string (nullable = true)\n",
      " |    |    |    |    |    |    |    |    |    |-- w: long (nullable = true)\n",
      " |    |    |    |    |    |    |    |-- source_status_id: long (nullable = true)\n",
      " |    |    |    |    |    |    |    |-- source_status_id_str: string (nullable = true)\n",
      " |    |    |    |    |    |    |    |-- source_user_id: long (nullable = true)\n",
      " |    |    |    |    |    |    |    |-- source_user_id_str: string (nullable = true)\n",
      " |    |    |    |    |    |    |    |-- type: string (nullable = true)\n",
      " |    |    |    |    |    |    |    |-- url: string (nullable = true)\n",
      " |    |    |    |    |    |-- symbols: array (nullable = true)\n",
      " |    |    |    |    |    |    |-- element: string (containsNull = true)\n",
      " |    |    |    |    |    |-- urls: array (nullable = true)\n",
      " |    |    |    |    |    |    |-- element: struct (containsNull = true)\n",
      " |    |    |    |    |    |    |    |-- display_url: string (nullable = true)\n",
      " |    |    |    |    |    |    |    |-- expanded_url: string (nullable = true)\n",
      " |    |    |    |    |    |    |    |-- indices: array (nullable = true)\n",
      " |    |    |    |    |    |    |    |    |-- element: long (containsNull = true)\n",
      " |    |    |    |    |    |    |    |-- url: string (nullable = true)\n",
      " |    |    |    |    |    |-- user_mentions: array (nullable = true)\n",
      " |    |    |    |    |    |    |-- element: struct (containsNull = true)\n",
      " |    |    |    |    |    |    |    |-- id: long (nullable = true)\n",
      " |    |    |    |    |    |    |    |-- id_str: string (nullable = true)\n",
      " |    |    |    |    |    |    |    |-- indices: array (nullable = true)\n",
      " |    |    |    |    |    |    |    |    |-- element: long (containsNull = true)\n",
      " |    |    |    |    |    |    |    |-- name: string (nullable = true)\n",
      " |    |    |    |    |    |    |    |-- screen_name: string (nullable = true)\n",
      " |    |    |    |    |-- extended_entities: struct (nullable = true)\n",
      " |    |    |    |    |    |-- media: array (nullable = true)\n",
      " |    |    |    |    |    |    |-- element: struct (containsNull = true)\n",
      " |    |    |    |    |    |    |    |-- additional_media_info: struct (nullable = true)\n",
      " |    |    |    |    |    |    |    |    |-- monetizable: boolean (nullable = true)\n",
      " |    |    |    |    |    |    |    |-- display_url: string (nullable = true)\n",
      " |    |    |    |    |    |    |    |-- expanded_url: string (nullable = true)\n",
      " |    |    |    |    |    |    |    |-- id: long (nullable = true)\n",
      " |    |    |    |    |    |    |    |-- id_str: string (nullable = true)\n",
      " |    |    |    |    |    |    |    |-- indices: array (nullable = true)\n",
      " |    |    |    |    |    |    |    |    |-- element: long (containsNull = true)\n",
      " |    |    |    |    |    |    |    |-- media_url: string (nullable = true)\n",
      " |    |    |    |    |    |    |    |-- media_url_https: string (nullable = true)\n",
      " |    |    |    |    |    |    |    |-- sizes: struct (nullable = true)\n",
      " |    |    |    |    |    |    |    |    |-- large: struct (nullable = true)\n",
      " |    |    |    |    |    |    |    |    |    |-- h: long (nullable = true)\n",
      " |    |    |    |    |    |    |    |    |    |-- resize: string (nullable = true)\n",
      " |    |    |    |    |    |    |    |    |    |-- w: long (nullable = true)\n",
      " |    |    |    |    |    |    |    |    |-- medium: struct (nullable = true)\n",
      " |    |    |    |    |    |    |    |    |    |-- h: long (nullable = true)\n",
      " |    |    |    |    |    |    |    |    |    |-- resize: string (nullable = true)\n",
      " |    |    |    |    |    |    |    |    |    |-- w: long (nullable = true)\n",
      " |    |    |    |    |    |    |    |    |-- small: struct (nullable = true)\n",
      " |    |    |    |    |    |    |    |    |    |-- h: long (nullable = true)\n",
      " |    |    |    |    |    |    |    |    |    |-- resize: string (nullable = true)\n",
      " |    |    |    |    |    |    |    |    |    |-- w: long (nullable = true)\n",
      " |    |    |    |    |    |    |    |    |-- thumb: struct (nullable = true)\n",
      " |    |    |    |    |    |    |    |    |    |-- h: long (nullable = true)\n",
      " |    |    |    |    |    |    |    |    |    |-- resize: string (nullable = true)\n",
      " |    |    |    |    |    |    |    |    |    |-- w: long (nullable = true)\n",
      " |    |    |    |    |    |    |    |-- source_status_id: long (nullable = true)\n",
      " |    |    |    |    |    |    |    |-- source_status_id_str: string (nullable = true)\n",
      " |    |    |    |    |    |    |    |-- source_user_id: long (nullable = true)\n",
      " |    |    |    |    |    |    |    |-- source_user_id_str: string (nullable = true)\n",
      " |    |    |    |    |    |    |    |-- type: string (nullable = true)\n",
      " |    |    |    |    |    |    |    |-- url: string (nullable = true)\n",
      " |    |    |    |    |    |    |    |-- video_info: struct (nullable = true)\n",
      " |    |    |    |    |    |    |    |    |-- aspect_ratio: array (nullable = true)\n",
      " |    |    |    |    |    |    |    |    |    |-- element: long (containsNull = true)\n",
      " |    |    |    |    |    |    |    |    |-- duration_millis: long (nullable = true)\n",
      " |    |    |    |    |    |    |    |    |-- variants: array (nullable = true)\n",
      " |    |    |    |    |    |    |    |    |    |-- element: struct (containsNull = true)\n",
      " |    |    |    |    |    |    |    |    |    |    |-- bitrate: long (nullable = true)\n",
      " |    |    |    |    |    |    |    |    |    |    |-- content_type: string (nullable = true)\n",
      " |    |    |    |    |    |    |    |    |    |    |-- url: string (nullable = true)\n",
      " |    |    |    |    |-- favorite_count: long (nullable = true)\n",
      " |    |    |    |    |-- favorited: boolean (nullable = true)\n",
      " |    |    |    |    |-- geo: string (nullable = true)\n",
      " |    |    |    |    |-- id: long (nullable = true)\n",
      " |    |    |    |    |-- id_str: string (nullable = true)\n",
      " |    |    |    |    |-- in_reply_to_screen_name: string (nullable = true)\n",
      " |    |    |    |    |-- in_reply_to_status_id: long (nullable = true)\n",
      " |    |    |    |    |-- in_reply_to_status_id_str: string (nullable = true)\n",
      " |    |    |    |    |-- in_reply_to_user_id: long (nullable = true)\n",
      " |    |    |    |    |-- in_reply_to_user_id_str: string (nullable = true)\n",
      " |    |    |    |    |-- is_quote_status: boolean (nullable = true)\n",
      " |    |    |    |    |-- lang: string (nullable = true)\n",
      " |    |    |    |    |-- place: string (nullable = true)\n",
      " |    |    |    |    |-- possibly_sensitive: boolean (nullable = true)\n",
      " |    |    |    |    |-- quoted_status_id: long (nullable = true)\n",
      " |    |    |    |    |-- quoted_status_id_str: string (nullable = true)\n",
      " |    |    |    |    |-- retweet_count: long (nullable = true)\n",
      " |    |    |    |    |-- retweeted: boolean (nullable = true)\n",
      " |    |    |    |    |-- retweeted_status: struct (nullable = true)\n",
      " |    |    |    |    |    |-- contributors: string (nullable = true)\n",
      " |    |    |    |    |    |-- coordinates: string (nullable = true)\n",
      " |    |    |    |    |    |-- created_at: string (nullable = true)\n",
      " |    |    |    |    |    |-- entities: struct (nullable = true)\n",
      " |    |    |    |    |    |    |-- hashtags: array (nullable = true)\n",
      " |    |    |    |    |    |    |    |-- element: struct (containsNull = true)\n",
      " |    |    |    |    |    |    |    |    |-- indices: array (nullable = true)\n",
      " |    |    |    |    |    |    |    |    |    |-- element: long (containsNull = true)\n",
      " |    |    |    |    |    |    |    |    |-- text: string (nullable = true)\n",
      " |    |    |    |    |    |    |-- media: array (nullable = true)\n",
      " |    |    |    |    |    |    |    |-- element: struct (containsNull = true)\n",
      " |    |    |    |    |    |    |    |    |-- display_url: string (nullable = true)\n",
      " |    |    |    |    |    |    |    |    |-- expanded_url: string (nullable = true)\n",
      " |    |    |    |    |    |    |    |    |-- id: long (nullable = true)\n",
      " |    |    |    |    |    |    |    |    |-- id_str: string (nullable = true)\n",
      " |    |    |    |    |    |    |    |    |-- indices: array (nullable = true)\n",
      " |    |    |    |    |    |    |    |    |    |-- element: long (containsNull = true)\n",
      " |    |    |    |    |    |    |    |    |-- media_url: string (nullable = true)\n",
      " |    |    |    |    |    |    |    |    |-- media_url_https: string (nullable = true)\n",
      " |    |    |    |    |    |    |    |    |-- sizes: struct (nullable = true)\n",
      " |    |    |    |    |    |    |    |    |    |-- large: struct (nullable = true)\n",
      " |    |    |    |    |    |    |    |    |    |    |-- h: long (nullable = true)\n",
      " |    |    |    |    |    |    |    |    |    |    |-- resize: string (nullable = true)\n",
      " |    |    |    |    |    |    |    |    |    |    |-- w: long (nullable = true)\n",
      " |    |    |    |    |    |    |    |    |    |-- medium: struct (nullable = true)\n",
      " |    |    |    |    |    |    |    |    |    |    |-- h: long (nullable = true)\n",
      " |    |    |    |    |    |    |    |    |    |    |-- resize: string (nullable = true)\n",
      " |    |    |    |    |    |    |    |    |    |    |-- w: long (nullable = true)\n",
      " |    |    |    |    |    |    |    |    |    |-- small: struct (nullable = true)\n",
      " |    |    |    |    |    |    |    |    |    |    |-- h: long (nullable = true)\n",
      " |    |    |    |    |    |    |    |    |    |    |-- resize: string (nullable = true)\n",
      " |    |    |    |    |    |    |    |    |    |    |-- w: long (nullable = true)\n",
      " |    |    |    |    |    |    |    |    |    |-- thumb: struct (nullable = true)\n",
      " |    |    |    |    |    |    |    |    |    |    |-- h: long (nullable = true)\n",
      " |    |    |    |    |    |    |    |    |    |    |-- resize: string (nullable = true)\n",
      " |    |    |    |    |    |    |    |    |    |    |-- w: long (nullable = true)\n",
      " |    |    |    |    |    |    |    |    |-- type: string (nullable = true)\n",
      " |    |    |    |    |    |    |    |    |-- url: string (nullable = true)\n",
      " |    |    |    |    |    |    |-- symbols: array (nullable = true)\n",
      " |    |    |    |    |    |    |    |-- element: string (containsNull = true)\n",
      " |    |    |    |    |    |    |-- urls: array (nullable = true)\n",
      " |    |    |    |    |    |    |    |-- element: struct (containsNull = true)\n",
      " |    |    |    |    |    |    |    |    |-- display_url: string (nullable = true)\n",
      " |    |    |    |    |    |    |    |    |-- expanded_url: string (nullable = true)\n",
      " |    |    |    |    |    |    |    |    |-- indices: array (nullable = true)\n",
      " |    |    |    |    |    |    |    |    |    |-- element: long (containsNull = true)\n",
      " |    |    |    |    |    |    |    |    |-- url: string (nullable = true)\n",
      " |    |    |    |    |    |    |-- user_mentions: array (nullable = true)\n",
      " |    |    |    |    |    |    |    |-- element: struct (containsNull = true)\n",
      " |    |    |    |    |    |    |    |    |-- id: long (nullable = true)\n",
      " |    |    |    |    |    |    |    |    |-- id_str: string (nullable = true)\n",
      " |    |    |    |    |    |    |    |    |-- indices: array (nullable = true)\n",
      " |    |    |    |    |    |    |    |    |    |-- element: long (containsNull = true)\n",
      " |    |    |    |    |    |    |    |    |-- name: string (nullable = true)\n",
      " |    |    |    |    |    |    |    |    |-- screen_name: string (nullable = true)\n",
      " |    |    |    |    |    |-- extended_entities: struct (nullable = true)\n",
      " |    |    |    |    |    |    |-- media: array (nullable = true)\n",
      " |    |    |    |    |    |    |    |-- element: struct (containsNull = true)\n",
      " |    |    |    |    |    |    |    |    |-- display_url: string (nullable = true)\n",
      " |    |    |    |    |    |    |    |    |-- expanded_url: string (nullable = true)\n",
      " |    |    |    |    |    |    |    |    |-- id: long (nullable = true)\n",
      " |    |    |    |    |    |    |    |    |-- id_str: string (nullable = true)\n",
      " |    |    |    |    |    |    |    |    |-- indices: array (nullable = true)\n",
      " |    |    |    |    |    |    |    |    |    |-- element: long (containsNull = true)\n",
      " |    |    |    |    |    |    |    |    |-- media_url: string (nullable = true)\n",
      " |    |    |    |    |    |    |    |    |-- media_url_https: string (nullable = true)\n",
      " |    |    |    |    |    |    |    |    |-- sizes: struct (nullable = true)\n",
      " |    |    |    |    |    |    |    |    |    |-- large: struct (nullable = true)\n",
      " |    |    |    |    |    |    |    |    |    |    |-- h: long (nullable = true)\n",
      " |    |    |    |    |    |    |    |    |    |    |-- resize: string (nullable = true)\n",
      " |    |    |    |    |    |    |    |    |    |    |-- w: long (nullable = true)\n",
      " |    |    |    |    |    |    |    |    |    |-- medium: struct (nullable = true)\n",
      " |    |    |    |    |    |    |    |    |    |    |-- h: long (nullable = true)\n",
      " |    |    |    |    |    |    |    |    |    |    |-- resize: string (nullable = true)\n",
      " |    |    |    |    |    |    |    |    |    |    |-- w: long (nullable = true)\n",
      " |    |    |    |    |    |    |    |    |    |-- small: struct (nullable = true)\n",
      " |    |    |    |    |    |    |    |    |    |    |-- h: long (nullable = true)\n",
      " |    |    |    |    |    |    |    |    |    |    |-- resize: string (nullable = true)\n",
      " |    |    |    |    |    |    |    |    |    |    |-- w: long (nullable = true)\n",
      " |    |    |    |    |    |    |    |    |    |-- thumb: struct (nullable = true)\n",
      " |    |    |    |    |    |    |    |    |    |    |-- h: long (nullable = true)\n",
      " |    |    |    |    |    |    |    |    |    |    |-- resize: string (nullable = true)\n",
      " |    |    |    |    |    |    |    |    |    |    |-- w: long (nullable = true)\n",
      " |    |    |    |    |    |    |    |    |-- type: string (nullable = true)\n",
      " |    |    |    |    |    |    |    |    |-- url: string (nullable = true)\n",
      " |    |    |    |    |    |-- favorite_count: long (nullable = true)\n",
      " |    |    |    |    |    |-- favorited: boolean (nullable = true)\n",
      " |    |    |    |    |    |-- geo: string (nullable = true)\n",
      " |    |    |    |    |    |-- id: long (nullable = true)\n",
      " |    |    |    |    |    |-- id_str: string (nullable = true)\n",
      " |    |    |    |    |    |-- in_reply_to_screen_name: string (nullable = true)\n",
      " |    |    |    |    |    |-- in_reply_to_status_id: string (nullable = true)\n",
      " |    |    |    |    |    |-- in_reply_to_status_id_str: string (nullable = true)\n",
      " |    |    |    |    |    |-- in_reply_to_user_id: string (nullable = true)\n",
      " |    |    |    |    |    |-- in_reply_to_user_id_str: string (nullable = true)\n",
      " |    |    |    |    |    |-- is_quote_status: boolean (nullable = true)\n",
      " |    |    |    |    |    |-- lang: string (nullable = true)\n",
      " |    |    |    |    |    |-- place: string (nullable = true)\n",
      " |    |    |    |    |    |-- possibly_sensitive: boolean (nullable = true)\n",
      " |    |    |    |    |    |-- quoted_status_id: long (nullable = true)\n",
      " |    |    |    |    |    |-- quoted_status_id_str: string (nullable = true)\n",
      " |    |    |    |    |    |-- retweet_count: long (nullable = true)\n",
      " |    |    |    |    |    |-- retweeted: boolean (nullable = true)\n",
      " |    |    |    |    |    |-- source: string (nullable = true)\n",
      " |    |    |    |    |    |-- text: string (nullable = true)\n",
      " |    |    |    |    |    |-- truncated: boolean (nullable = true)\n",
      " |    |    |    |    |-- source: string (nullable = true)\n",
      " |    |    |    |    |-- text: string (nullable = true)\n",
      " |    |    |    |    |-- truncated: boolean (nullable = true)\n",
      " |    |    |    |-- statuses_count: long (nullable = true)\n",
      " |    |    |    |-- time_zone: string (nullable = true)\n",
      " |    |    |    |-- translator_type: string (nullable = true)\n",
      " |    |    |    |-- url: string (nullable = true)\n",
      " |    |    |    |-- utc_offset: string (nullable = true)\n",
      " |    |    |    |-- verified: boolean (nullable = true)\n",
      " |    |    |    |-- withheld_in_countries: array (nullable = true)\n",
      " |    |    |    |    |-- element: string (containsNull = true)\n",
      " |    |    |-- followers: array (nullable = true)\n",
      " |    |    |    |-- element: long (containsNull = true)\n",
      " |    |    |-- friends: array (nullable = true)\n",
      " |    |    |    |-- element: long (containsNull = true)\n",
      " |    |-- extractionTime: long (nullable = true)\n",
      " |    |-- user: string (nullable = true)\n",
      " |-- extractionTimestamp: long (nullable = true)"
     ]
    }
   ],
   "source": [
    "df = spark.read.schema(true_schema).option(\"multiline\",True).json(\"s3://hadoop-data-tja/hadoop/hadoop/*.json\")\n",
    "df.printSchema()"
   ]
  },
  {
   "cell_type": "code",
   "execution_count": 61,
   "id": "1778b31a",
   "metadata": {},
   "outputs": [
    {
     "data": {
      "application/vnd.jupyter.widget-view+json": {
       "model_id": "e4974e12ffc646fdbd1f4dc7fc42fb01",
       "version_major": 2,
       "version_minor": 0
      },
      "text/plain": [
       "VBox()"
      ]
     },
     "metadata": {},
     "output_type": "display_data"
    },
    {
     "data": {
      "application/vnd.jupyter.widget-view+json": {
       "model_id": "",
       "version_major": 2,
       "version_minor": 0
      },
      "text/plain": [
       "FloatProgress(value=0.0, bar_style='info', description='Progress:', layout=Layout(height='25px', width='50%'),…"
      ]
     },
     "metadata": {},
     "output_type": "display_data"
    },
    {
     "name": "stdout",
     "output_type": "stream",
     "text": [
      "(107, 458)"
     ]
    }
   ],
   "source": [
    "df.filter(df.body.isNull()).count(), df.filter(df.body.isNotNull()).count()"
   ]
  },
  {
   "cell_type": "code",
   "execution_count": 62,
   "id": "fdb6a38b",
   "metadata": {},
   "outputs": [
    {
     "data": {
      "application/vnd.jupyter.widget-view+json": {
       "model_id": "4bf6903a227a46389d6011b5da08f9f9",
       "version_major": 2,
       "version_minor": 0
      },
      "text/plain": [
       "VBox()"
      ]
     },
     "metadata": {},
     "output_type": "display_data"
    },
    {
     "data": {
      "application/vnd.jupyter.widget-view+json": {
       "model_id": "",
       "version_major": 2,
       "version_minor": 0
      },
      "text/plain": [
       "FloatProgress(value=0.0, bar_style='info', description='Progress:', layout=Layout(height='25px', width='50%'),…"
      ]
     },
     "metadata": {},
     "output_type": "display_data"
    },
    {
     "name": "stdout",
     "output_type": "stream",
     "text": [
      "+--------------------+-------------------+\n",
      "|                body|extractionTimestamp|\n",
      "+--------------------+-------------------+\n",
      "|[[[false, Mon Aug...|         1640724670|\n",
      "|[[[false, Mon Aug...|         1640728269|\n",
      "|[[[false, Mon Aug...|         1640735013|\n",
      "|[[[false, Wed Nov...|         1638197526|\n",
      "|[[[false, Wed Nov...|         1638190328|\n",
      "|[[[false, Wed Nov...|         1638193926|\n",
      "|[[[false, Wed Nov...|         1640861341|\n",
      "|[[[false, Wed Nov...|         1640857743|\n",
      "|[[[false, Wed Nov...|         1640864942|\n",
      "|[[[false, Wed Nov...|         1638135191|\n",
      "|[[[false, Wed Nov...|         1638138792|\n",
      "|[[[false, Thu Oct...|         1638135180|\n",
      "|[[[false, Thu Oct...|         1638193915|\n",
      "|[[[false, Thu Oct...|         1638190317|\n",
      "|[[[false, Thu Oct...|         1638197515|\n",
      "|[[[false, Thu Oct...|         1638138781|\n",
      "|[[[false, Thu Oct...|         1640728270|\n",
      "|[[[false, Thu Oct...|         1640724671|\n",
      "|[[[false, Thu Oct...|         1640864931|\n",
      "|[[[false, Thu Oct...|         1640861330|\n",
      "+--------------------+-------------------+\n",
      "only showing top 20 rows"
     ]
    }
   ],
   "source": [
    "df2 = df.filter(df.body.isNotNull())\n",
    "df2.show()"
   ]
  },
  {
   "cell_type": "code",
   "execution_count": 10,
   "id": "2121d6b5",
   "metadata": {},
   "outputs": [
    {
     "data": {
      "application/vnd.jupyter.widget-view+json": {
       "model_id": "3fc44a0ecc074e19bad37fe5623cb523",
       "version_major": 2,
       "version_minor": 0
      },
      "text/plain": [
       "VBox()"
      ]
     },
     "metadata": {},
     "output_type": "display_data"
    },
    {
     "data": {
      "application/vnd.jupyter.widget-view+json": {
       "model_id": "",
       "version_major": 2,
       "version_minor": 0
      },
      "text/plain": [
       "FloatProgress(value=0.0, bar_style='info', description='Progress:', layout=Layout(height='25px', width='50%'),…"
      ]
     },
     "metadata": {},
     "output_type": "display_data"
    },
    {
     "name": "stdout",
     "output_type": "stream",
     "text": [
      "+--------------------+--------------------+----------+\n",
      "|          created_at|         description|        id|\n",
      "+--------------------+--------------------+----------+\n",
      "|Mon Aug 11 14:41:...|U.S. Senator from...|  15808765|\n",
      "|Mon Aug 11 14:41:...|U.S. Senator from...|  15808765|\n",
      "|Mon Aug 11 14:41:...|U.S. Senator from...|  15808765|\n",
      "|Wed Nov 19 20:10:...|Official Account ...|  17494010|\n",
      "|Wed Nov 19 20:10:...|Official Account ...|  17494010|\n",
      "|Wed Nov 19 20:10:...|Official Account ...|  17494010|\n",
      "|Wed Nov 19 20:10:...|Official Account ...|  17494010|\n",
      "|Wed Nov 19 20:10:...|Official Account ...|  17494010|\n",
      "|Wed Nov 19 20:10:...|Official Account ...|  17494010|\n",
      "|Wed Nov 19 20:10:...|Official Account ...|  17494010|\n",
      "|Wed Nov 19 20:10:...|Official Account ...|  17494010|\n",
      "|Thu Oct 31 19:02:...|The U.S. Senate O...|2167097881|\n",
      "|Thu Oct 31 19:02:...|The U.S. Senate O...|2167097881|\n",
      "|Thu Oct 31 19:02:...|The U.S. Senate O...|2167097881|\n",
      "|Thu Oct 31 19:02:...|The U.S. Senate O...|2167097881|\n",
      "|Thu Oct 31 19:02:...|The U.S. Senate O...|2167097881|\n",
      "|Thu Oct 31 19:02:...|Proudly serving t...|2167097881|\n",
      "|Thu Oct 31 19:02:...|Proudly serving t...|2167097881|\n",
      "|Thu Oct 31 19:02:...|Proudly serving t...|2167097881|\n",
      "|Thu Oct 31 19:02:...|Proudly serving t...|2167097881|\n",
      "+--------------------+--------------------+----------+\n",
      "only showing top 20 rows"
     ]
    }
   ],
   "source": [
    "df2.select('body.data.account_data.created_at', 'body.data.account_data.description', 'body.data.account_data.id').show()"
   ]
  },
  {
   "cell_type": "markdown",
   "id": "dd890e93",
   "metadata": {},
   "source": [
    "# Get only the latest downloaded profiles in cases of redundancies"
   ]
  },
  {
   "cell_type": "code",
   "execution_count": 63,
   "id": "32808bfd",
   "metadata": {},
   "outputs": [
    {
     "data": {
      "application/vnd.jupyter.widget-view+json": {
       "model_id": "e5ff671662be4b59953bbefa32a6c77d",
       "version_major": 2,
       "version_minor": 0
      },
      "text/plain": [
       "VBox()"
      ]
     },
     "metadata": {},
     "output_type": "display_data"
    },
    {
     "data": {
      "application/vnd.jupyter.widget-view+json": {
       "model_id": "",
       "version_major": 2,
       "version_minor": 0
      },
      "text/plain": [
       "FloatProgress(value=0.0, bar_style='info', description='Progress:', layout=Layout(height='25px', width='50%'),…"
      ]
     },
     "metadata": {},
     "output_type": "display_data"
    },
    {
     "name": "stdout",
     "output_type": "stream",
     "text": [
      "+--------------------+-------------------+----------+----------------+\n",
      "|                body|extractionTimestamp|      user|            name|\n",
      "+--------------------+-------------------+----------+----------------+\n",
      "|[[[false, Mon Aug...|         1640724670|CoryBooker|     Cory Booker|\n",
      "|[[[false, Mon Aug...|         1640728269|CoryBooker|     Cory Booker|\n",
      "|[[[false, Mon Aug...|         1640735013|CoryBooker|     Cory Booker|\n",
      "|[[[false, Wed Nov...|         1638197526|SenSchumer|   Chuck Schumer|\n",
      "|[[[false, Wed Nov...|         1638190328|SenSchumer|   Chuck Schumer|\n",
      "|[[[false, Wed Nov...|         1638193926|SenSchumer|   Chuck Schumer|\n",
      "|[[[false, Wed Nov...|         1640861341|SenSchumer|   Chuck Schumer|\n",
      "|[[[false, Wed Nov...|         1640857743|SenSchumer|   Chuck Schumer|\n",
      "|[[[false, Wed Nov...|         1640864942|SenSchumer|   Chuck Schumer|\n",
      "|[[[false, Wed Nov...|         1638135191|SenSchumer|   Chuck Schumer|\n",
      "|[[[false, Wed Nov...|         1638138792|SenSchumer|   Chuck Schumer|\n",
      "|[[[false, Thu Oct...|         1638135180| SenBooker|Sen. Cory Booker|\n",
      "|[[[false, Thu Oct...|         1638193915| SenBooker|Sen. Cory Booker|\n",
      "|[[[false, Thu Oct...|         1638190317| SenBooker|Sen. Cory Booker|\n",
      "|[[[false, Thu Oct...|         1638197515| SenBooker|Sen. Cory Booker|\n",
      "|[[[false, Thu Oct...|         1638138781| SenBooker|Sen. Cory Booker|\n",
      "|[[[false, Thu Oct...|         1640728270| SenBooker|Sen. Cory Booker|\n",
      "|[[[false, Thu Oct...|         1640724671| SenBooker|Sen. Cory Booker|\n",
      "|[[[false, Thu Oct...|         1640864931| SenBooker|Sen. Cory Booker|\n",
      "|[[[false, Thu Oct...|         1640861330| SenBooker|Sen. Cory Booker|\n",
      "+--------------------+-------------------+----------+----------------+\n",
      "only showing top 20 rows"
     ]
    }
   ],
   "source": [
    "df3 = df2.withColumn(\"id\", df2['body.data.account_data.id'])\n",
    "df3 = df2.withColumn(\"user\", df2['body.user'])\n",
    "df3 = df3.withColumn(\"name\", df3['body.data.account_data.name'])\n",
    "df3.show()"
   ]
  },
  {
   "cell_type": "code",
   "execution_count": 64,
   "id": "63cd3a71",
   "metadata": {},
   "outputs": [
    {
     "data": {
      "application/vnd.jupyter.widget-view+json": {
       "model_id": "5432e235017348b7b975f557e7b7b4da",
       "version_major": 2,
       "version_minor": 0
      },
      "text/plain": [
       "VBox()"
      ]
     },
     "metadata": {},
     "output_type": "display_data"
    },
    {
     "data": {
      "application/vnd.jupyter.widget-view+json": {
       "model_id": "",
       "version_major": 2,
       "version_minor": 0
      },
      "text/plain": [
       "FloatProgress(value=0.0, bar_style='info', description='Progress:', layout=Layout(height='25px', width='50%'),…"
      ]
     },
     "metadata": {},
     "output_type": "display_data"
    },
    {
     "name": "stdout",
     "output_type": "stream",
     "text": [
      "+--------------------+-------------------+---------------+--------------------+\n",
      "|                body|extractionTimestamp|           user|                name|\n",
      "+--------------------+-------------------+---------------+--------------------+\n",
      "|[[[false, Wed Nov...|         1638197526|     SenSchumer|       Chuck Schumer|\n",
      "|[[[false, Tue Jul...|         1640728277|SenatorTomUdall|Archive: Senator ...|\n",
      "|[[[false, Tue Jul...|         1640734119|    TomCottonAR|          Tom Cotton|\n",
      "|[[[false, Tue Nov...|         1640724667|  SenatorHassan|  Sen. Maggie Hassan|\n",
      "|[[[false, Sat Aug...|         1640870169|      JeffFlake|          Jeff Flake|\n",
      "|[[[false, Tue Jan...|         1640790420|SenatorMenendez|Senator Bob Menendez|\n",
      "|[[[false, Mon Jun...|         1638190326|  TomUdallPress|     Tom Udall Press|\n",
      "|[[[false, Fri Sep...|         1638137891|DianneFeinstein|    Dianne Feinstein|\n",
      "|[[[false, Thu Aug...|         1638190314|  Maggie_Hassan|       Maggie Hassan|\n",
      "|[[[false, Mon Aug...|         1640724670|     CoryBooker|         Cory Booker|\n",
      "|[[[false, Wed Jun...|         1640860429|  LisaForSenate|      Lisa Murkowski|\n",
      "|[[[false, Mon Sep...|         1640790431|  SenGillibrand|  Kirsten Gillibrand|\n",
      "|[[[false, Wed Nov...|         1638173805| SenDanSullivan|   Sen. Dan Sullivan|\n",
      "|[[[false, Tue Feb...|         1638173800|      SenShelby|      Richard Shelby|\n",
      "|[[[false, Fri Jan...|         1640737720|   SenFeinstein|Senator Dianne Fe...|\n",
      "|[[[false, Thu Oct...|         1638135180|      SenBooker|    Sen. Cory Booker|\n",
      "|[[[false, Sat Nov...|         1640870172|   SenTomCotton|          Tom Cotton|\n",
      "|[[[false, Wed Dec...|         1640734109|   SenDougJones|Archived: Senator...|\n",
      "|[[[false, Thu Jul...|         1638138783|  Booker4Senate|   Booker for Senate|\n",
      "|[[[false, Thu Dec...|         1638196613|  lisamurkowski| Sen. Lisa Murkowski|\n",
      "+--------------------+-------------------+---------------+--------------------+\n",
      "only showing top 20 rows"
     ]
    }
   ],
   "source": [
    "duplicated = df3.dropDuplicates([\"user\"])\n",
    "duplicated.show()"
   ]
  },
  {
   "cell_type": "code",
   "execution_count": 65,
   "id": "697e556d",
   "metadata": {},
   "outputs": [
    {
     "data": {
      "application/vnd.jupyter.widget-view+json": {
       "model_id": "e0a3480e68154c14bcb1793e3d400fd6",
       "version_major": 2,
       "version_minor": 0
      },
      "text/plain": [
       "VBox()"
      ]
     },
     "metadata": {},
     "output_type": "display_data"
    },
    {
     "data": {
      "application/vnd.jupyter.widget-view+json": {
       "model_id": "",
       "version_major": 2,
       "version_minor": 0
      },
      "text/plain": [
       "FloatProgress(value=0.0, bar_style='info', description='Progress:', layout=Layout(height='25px', width='50%'),…"
      ]
     },
     "metadata": {},
     "output_type": "display_data"
    },
    {
     "name": "stdout",
     "output_type": "stream",
     "text": [
      "28"
     ]
    }
   ],
   "source": [
    "duplicated.count()"
   ]
  },
  {
   "cell_type": "markdown",
   "id": "ba5c7cd1",
   "metadata": {},
   "source": [
    "Only 28 users were really tweeting and active during the time we've garnered the tweets."
   ]
  },
  {
   "cell_type": "code",
   "execution_count": 66,
   "id": "308f1d05",
   "metadata": {},
   "outputs": [
    {
     "data": {
      "application/vnd.jupyter.widget-view+json": {
       "model_id": "c4c66f94bc3d44d2b1e0fefcbd85b999",
       "version_major": 2,
       "version_minor": 0
      },
      "text/plain": [
       "VBox()"
      ]
     },
     "metadata": {},
     "output_type": "display_data"
    },
    {
     "data": {
      "application/vnd.jupyter.widget-view+json": {
       "model_id": "",
       "version_major": 2,
       "version_minor": 0
      },
      "text/plain": [
       "FloatProgress(value=0.0, bar_style='info', description='Progress:', layout=Layout(height='25px', width='50%'),…"
      ]
     },
     "metadata": {},
     "output_type": "display_data"
    },
    {
     "name": "stdout",
     "output_type": "stream",
     "text": [
      "+--------------------+-------------------+---------------+--------------------+\n",
      "|                body|extractionTimestamp|           user|                name|\n",
      "+--------------------+-------------------+---------------+--------------------+\n",
      "|[[[false, Tue Jul...|         1640728277|SenatorTomUdall|Archive: Senator ...|\n",
      "|[[[false, Fri Sep...|         1638137891|DianneFeinstein|    Dianne Feinstein|\n",
      "|[[[false, Thu Dec...|         1638196613|  lisamurkowski| Sen. Lisa Murkowski|\n",
      "|[[[false, Thu Aug...|         1638190314|  Maggie_Hassan|       Maggie Hassan|\n",
      "|[[[false, Wed Dec...|         1640734109|   SenDougJones|Archived: Senator...|\n",
      "|[[[false, Wed Jun...|         1640860429|  LisaForSenate|      Lisa Murkowski|\n",
      "|[[[false, Wed Feb...|         1640778381|    SenatorBurr|        Richard Burr|\n",
      "|[[[false, Tue Jan...|         1640790420|SenatorMenendez|Senator Bob Menendez|\n",
      "|[[[false, Thu Jan...|         1640857737| MartinHeinrich|     Martin Heinrich|\n",
      "|[[[false, Tue Jul...|         1640734119|    TomCottonAR|          Tom Cotton|\n",
      "|[[[false, Mon Jun...|         1638190326|  TomUdallPress|     Tom Udall Press|\n",
      "|[[[false, Fri Jan...|         1640772525|   SenFeinstein|Senator Dianne Fe...|\n",
      "|[[[false, Mon Sep...|         1640790431|  SenGillibrand|  Kirsten Gillibrand|\n",
      "|[[[false, Thu Oct...|         1638135180|      SenBooker|    Sen. Cory Booker|\n",
      "|[[[false, Tue Feb...|         1638173800|      SenShelby|      Richard Shelby|\n",
      "|[[[false, Sat Aug...|         1640870169|      JeffFlake|          Jeff Flake|\n",
      "|[[[false, Tue Nov...|         1640724667|  SenatorHassan|  Sen. Maggie Hassan|\n",
      "|[[[false, Wed Nov...|         1638173805| SenDanSullivan|   Sen. Dan Sullivan|\n",
      "|[[[false, Tue May...|         1640774772|    Menendez4NJ|         Menendez4NJ|\n",
      "|[[[false, Wed Nov...|         1638197526|     SenSchumer|       Chuck Schumer|\n",
      "+--------------------+-------------------+---------------+--------------------+\n",
      "only showing top 20 rows\n",
      "\n",
      "(None, 25)"
     ]
    }
   ],
   "source": [
    "duplicated2 = df3.dropDuplicates([\"name\"])\n",
    "duplicated2.show(), duplicated2.count()"
   ]
  },
  {
   "cell_type": "code",
   "execution_count": 67,
   "id": "ce916b0c",
   "metadata": {},
   "outputs": [
    {
     "data": {
      "application/vnd.jupyter.widget-view+json": {
       "model_id": "fbbe0fdbc8a1415d816e14d201454625",
       "version_major": 2,
       "version_minor": 0
      },
      "text/plain": [
       "VBox()"
      ]
     },
     "metadata": {},
     "output_type": "display_data"
    },
    {
     "data": {
      "application/vnd.jupyter.widget-view+json": {
       "model_id": "",
       "version_major": 2,
       "version_minor": 0
      },
      "text/plain": [
       "FloatProgress(value=0.0, bar_style='info', description='Progress:', layout=Layout(height='25px', width='50%'),…"
      ]
     },
     "metadata": {},
     "output_type": "display_data"
    },
    {
     "name": "stdout",
     "output_type": "stream",
     "text": [
      "25"
     ]
    }
   ],
   "source": [
    "duplicated.select(\"name\").dropDuplicates().count()"
   ]
  },
  {
   "cell_type": "code",
   "execution_count": 69,
   "id": "040776a5",
   "metadata": {},
   "outputs": [
    {
     "data": {
      "application/vnd.jupyter.widget-view+json": {
       "model_id": "36fbaa59bd8e4872a3aae4449771b543",
       "version_major": 2,
       "version_minor": 0
      },
      "text/plain": [
       "VBox()"
      ]
     },
     "metadata": {},
     "output_type": "display_data"
    },
    {
     "data": {
      "application/vnd.jupyter.widget-view+json": {
       "model_id": "",
       "version_major": 2,
       "version_minor": 0
      },
      "text/plain": [
       "FloatProgress(value=0.0, bar_style='info', description='Progress:', layout=Layout(height='25px', width='50%'),…"
      ]
     },
     "metadata": {},
     "output_type": "display_data"
    },
    {
     "name": "stdout",
     "output_type": "stream",
     "text": [
      "+---------------+-----+\n",
      "|           name|count|\n",
      "+---------------+-----+\n",
      "|     Tom Cotton|    2|\n",
      "|Martin Heinrich|    2|\n",
      "|  Chuck Schumer|    2|\n",
      "+---------------+-----+"
     ]
    }
   ],
   "source": [
    "duplicated.select(['user', 'name']).groupby(['name']).count().where('count > 1').sort('count', ascending=False).show()"
   ]
  },
  {
   "cell_type": "markdown",
   "id": "ad6290b4",
   "metadata": {},
   "source": [
    "3 of those 25 active people have multiple accounts, some for their teams, some private versus the public ones."
   ]
  },
  {
   "cell_type": "code",
   "execution_count": 73,
   "id": "b5c6c523",
   "metadata": {},
   "outputs": [
    {
     "data": {
      "application/vnd.jupyter.widget-view+json": {
       "model_id": "1b17d035b7fe41009d23bf344300fa01",
       "version_major": 2,
       "version_minor": 0
      },
      "text/plain": [
       "VBox()"
      ]
     },
     "metadata": {},
     "output_type": "display_data"
    },
    {
     "data": {
      "application/vnd.jupyter.widget-view+json": {
       "model_id": "",
       "version_major": 2,
       "version_minor": 0
      },
      "text/plain": [
       "FloatProgress(value=0.0, bar_style='info', description='Progress:', layout=Layout(height='25px', width='50%'),…"
      ]
     },
     "metadata": {},
     "output_type": "display_data"
    },
    {
     "name": "stdout",
     "output_type": "stream",
     "text": [
      "+--------------------+-------------------+--------------+---------------+\n",
      "|                body|extractionTimestamp|          user|           name|\n",
      "+--------------------+-------------------+--------------+---------------+\n",
      "|[[[false, Wed Nov...|         1638197526|    SenSchumer|  Chuck Schumer|\n",
      "|[[[false, Tue Jul...|         1640734119|   TomCottonAR|     Tom Cotton|\n",
      "|[[[false, Sat Nov...|         1640870172|  SenTomCotton|     Tom Cotton|\n",
      "|[[[false, Mon Sep...|         1638197527|  chuckschumer|  Chuck Schumer|\n",
      "|[[[false, Thu Aug...|         1640864937|  TeamHeinrich|Martin Heinrich|\n",
      "|[[[false, Thu Jan...|         1640857737|MartinHeinrich|Martin Heinrich|\n",
      "+--------------------+-------------------+--------------+---------------+"
     ]
    }
   ],
   "source": [
    "duplicated.filter('name = \"Tom Cotton\" or name = \"Martin Heinrich\" or name = \"Chuck Schumer\"').show()"
   ]
  },
  {
   "cell_type": "code",
   "execution_count": 74,
   "id": "4408f139",
   "metadata": {},
   "outputs": [
    {
     "data": {
      "application/vnd.jupyter.widget-view+json": {
       "model_id": "d10ffeb648f84ce2a29b10029244d20b",
       "version_major": 2,
       "version_minor": 0
      },
      "text/plain": [
       "VBox()"
      ]
     },
     "metadata": {},
     "output_type": "display_data"
    },
    {
     "data": {
      "application/vnd.jupyter.widget-view+json": {
       "model_id": "",
       "version_major": 2,
       "version_minor": 0
      },
      "text/plain": [
       "FloatProgress(value=0.0, bar_style='info', description='Progress:', layout=Layout(height='25px', width='50%'),…"
      ]
     },
     "metadata": {},
     "output_type": "display_data"
    }
   ],
   "source": [
    "duplicated = duplicated.withColumn(\"favourites_count\", df2['body.data.account_data.favourites_count'])\n",
    "duplicated = duplicated.withColumn(\"followers_count\", df2['body.data.account_data.followers_count']) \n",
    "duplicated = duplicated.withColumn(\"friends_count\", df2['body.data.account_data.friends_count']) "
   ]
  },
  {
   "cell_type": "code",
   "execution_count": 27,
   "id": "c96b34f4",
   "metadata": {},
   "outputs": [
    {
     "data": {
      "text/html": [
       "Current session configs: <tt>{'conf': {'spark.pyspark.python': 'python3', 'spark.pyspark.virtualenv.enabled': 'true', 'spark.pyspark.virtualenv.type': 'native', 'spark.pyspark.virtualenv.bin.path': '/usr/bin/virtualenv'}, 'kind': 'pyspark'}</tt><br>"
      ],
      "text/plain": [
       "<IPython.core.display.HTML object>"
      ]
     },
     "metadata": {},
     "output_type": "display_data"
    },
    {
     "data": {
      "text/html": [
       "<table>\n",
       "<tr><th>ID</th><th>YARN Application ID</th><th>Kind</th><th>State</th><th>Spark UI</th><th>Driver log</th><th>Current session?</th></tr><tr><td>0</td><td>application_1641119298972_0001</td><td>pyspark</td><td>idle</td><td><a target=\"_blank\" href=\"http://ip-172-31-2-178.ec2.internal:20888/proxy/application_1641119298972_0001/\">Link</a></td><td><a target=\"_blank\" href=\"http://ip-172-31-3-75.ec2.internal:8042/node/containerlogs/container_1641119298972_0001_01_000001/livy\">Link</a></td><td>✔</td></tr></table>"
      ],
      "text/plain": [
       "<IPython.core.display.HTML object>"
      ]
     },
     "metadata": {},
     "output_type": "display_data"
    }
   ],
   "source": [
    "%%info"
   ]
  },
  {
   "cell_type": "code",
   "execution_count": 54,
   "id": "41f68576",
   "metadata": {},
   "outputs": [
    {
     "data": {
      "application/vnd.jupyter.widget-view+json": {
       "model_id": "b7dbdf151a2e42f79f5f3ce6329f42f5",
       "version_major": 2,
       "version_minor": 0
      },
      "text/plain": [
       "VBox()"
      ]
     },
     "metadata": {},
     "output_type": "display_data"
    },
    {
     "data": {
      "application/vnd.jupyter.widget-view+json": {
       "model_id": "",
       "version_major": 2,
       "version_minor": 0
      },
      "text/plain": [
       "FloatProgress(value=0.0, bar_style='info', description='Progress:', layout=Layout(height='25px', width='50%'),…"
      ]
     },
     "metadata": {},
     "output_type": "display_data"
    },
    {
     "name": "stdout",
     "output_type": "stream",
     "text": [
      "+--------------------+-------------------+------------------+--------------------+----------------+---------------+-------------+-----------+---------------+\n",
      "|                body|extractionTimestamp|                id|                name|favourites_count|followers_count|friends_count|geo_enabled|           user|\n",
      "+--------------------+-------------------+------------------+--------------------+----------------+---------------+-------------+-----------+---------------+\n",
      "|[[[false, Mon Sep...|         1640790431|          72198806|  Kirsten Gillibrand|             814|        1605545|         1085|       true|  SenGillibrand|\n",
      "|[[[false, Tue Nov...|         1640724667|         946549322|  Sen. Maggie Hassan|             261|         159425|          542|      false|  SenatorHassan|\n",
      "|[[[false, Wed Feb...|         1640778381|          21157904|        Richard Burr|              59|         173220|          862|       true|    SenatorBurr|\n",
      "|[[[false, Sat Nov...|         1640870172|         968650362|          Tom Cotton|             105|         445682|          360|       true|   SenTomCotton|\n",
      "|[[[false, Thu Oct...|         1638135180|        2167097881|    Sen. Cory Booker|            1338|         183905|         5771|      false|      SenBooker|\n",
      "|[[[false, Fri Jan...|         1640737720|         476256944|Senator Dianne Fe...|              87|        1497799|          256|      false|   SenFeinstein|\n",
      "|[[[false, Tue Jul...|         1640734119|         343041182|          Tom Cotton|             386|         210994|          837|      false|    TomCottonAR|\n",
      "|[[[false, Tue Mar...|         1640727371|          24905240|U.S. Senator Jon Kyl|               0|          11342|            0|      false|      SenJonKyl|\n",
      "|[[[false, Fri Sep...|         1638137891|         378631423|    Dianne Feinstein|               6|           7527|          298|      false|DianneFeinstein|\n",
      "|[[[false, Thu Jul...|         1638138783|        1603426344|   Booker for Senate|              25|           2560|          330|       true|  Booker4Senate|\n",
      "|[[[false, Thu Dec...|         1640737709|          18061669| Sen. Lisa Murkowski|             454|         325385|          590|      false|  lisamurkowski|\n",
      "|[[[false, Tue Jul...|         1640728277|          60828944|Archive: Senator ...|              81|         172852|          344|      false|SenatorTomUdall|\n",
      "|[[[false, Tue Jan...|         1640790420|          18695134|Senator Bob Menendez|            3308|         205943|         1038|       true|SenatorMenendez|\n",
      "|[[[false, Thu Aug...|         1638190314|         361569788|       Maggie Hassan|              19|          17374|          252|      false|  Maggie_Hassan|\n",
      "|[[[false, Wed Dec...|         1640734109|941080085121175552|Archived: Senator...|             297|          34275|          300|       true|   SenDougJones|\n",
      "|[[[false, Wed Nov...|         1638196616|        2891210047|   Sen. Dan Sullivan|             366|          60149|          721|       true| SenDanSullivan|\n",
      "|[[[false, Thu Aug...|         1640864937|         183062944|     Martin Heinrich|             597|           5699|          671|       true|   TeamHeinrich|\n",
      "|[[[false, Mon Jun...|         1638190326|         325231436|     Tom Udall Press|               0|           1566|          143|      false|  TomUdallPress|\n",
      "|[[[false, Thu Jan...|         1640857737|        1099199839|     Martin Heinrich|             904|         207739|          677|       true| MartinHeinrich|\n",
      "|[[[false, Tue Feb...|         1638173800|          21111098|      Richard Shelby|             352|          95620|          539|       true|      SenShelby|\n",
      "+--------------------+-------------------+------------------+--------------------+----------------+---------------+-------------+-----------+---------------+\n",
      "only showing top 20 rows"
     ]
    }
   ],
   "source": [
    "duplicated.show()"
   ]
  },
  {
   "cell_type": "code",
   "execution_count": 33,
   "id": "e7c26f17",
   "metadata": {},
   "outputs": [
    {
     "data": {
      "application/vnd.jupyter.widget-view+json": {
       "model_id": "564b6f82c9b045458c5f19b31e3987ad",
       "version_major": 2,
       "version_minor": 0
      },
      "text/plain": [
       "VBox()"
      ]
     },
     "metadata": {},
     "output_type": "display_data"
    },
    {
     "data": {
      "application/vnd.jupyter.widget-view+json": {
       "model_id": "",
       "version_major": 2,
       "version_minor": 0
      },
      "text/plain": [
       "FloatProgress(value=0.0, bar_style='info', description='Progress:', layout=Layout(height='25px', width='50%'),…"
      ]
     },
     "metadata": {},
     "output_type": "display_data"
    },
    {
     "name": "stdout",
     "output_type": "stream",
     "text": [
      "Package                    Version \n",
      "-------------------------- --------\n",
      "beautifulsoup4             4.9.1   \n",
      "boto                       2.49.0  \n",
      "click                      7.1.2   \n",
      "Cython                     0.29.26 \n",
      "jmespath                   0.10.0  \n",
      "joblib                     0.15.1  \n",
      "lxml                       4.5.1   \n",
      "mysqlclient                1.4.2   \n",
      "nltk                       3.5     \n",
      "nose                       1.3.4   \n",
      "numpy                      1.16.5  \n",
      "packaging                  21.3    \n",
      "pandas                     0.25.1  \n",
      "pip                        9.0.1   \n",
      "py-dateutil                2.2     \n",
      "pybind11                   2.9.0   \n",
      "pyparsing                  3.0.6   \n",
      "python-dateutil            2.8.2   \n",
      "python37-sagemaker-pyspark 1.3.0   \n",
      "pytz                       2020.1  \n",
      "PyYAML                     5.3.1   \n",
      "regex                      2020.6.8\n",
      "setuptools                 28.8.0  \n",
      "six                        1.13.0  \n",
      "soupsieve                  1.9.5   \n",
      "tqdm                       4.46.1  \n",
      "wheel                      0.29.0  \n",
      "windmill                   1.6"
     ]
    }
   ],
   "source": [
    "sc.list_packages()"
   ]
  },
  {
   "cell_type": "code",
   "execution_count": 100,
   "id": "5914e05a",
   "metadata": {},
   "outputs": [
    {
     "data": {
      "application/vnd.jupyter.widget-view+json": {
       "model_id": "1611f0beb4874e9dbcc43eae1f3ef31a",
       "version_major": 2,
       "version_minor": 0
      },
      "text/plain": [
       "VBox()"
      ]
     },
     "metadata": {},
     "output_type": "display_data"
    },
    {
     "data": {
      "application/vnd.jupyter.widget-view+json": {
       "model_id": "",
       "version_major": 2,
       "version_minor": 0
      },
      "text/plain": [
       "FloatProgress(value=0.0, bar_style='info', description='Progress:', layout=Layout(height='25px', width='50%'),…"
      ]
     },
     "metadata": {},
     "output_type": "display_data"
    }
   ],
   "source": [
    "duplicated.createOrReplaceTempView(\"duplicated\")"
   ]
  },
  {
   "cell_type": "code",
   "execution_count": 101,
   "id": "d485cb66",
   "metadata": {},
   "outputs": [
    {
     "data": {
      "application/vnd.jupyter.widget-view+json": {
       "model_id": "",
       "version_major": 2,
       "version_minor": 0
      },
      "text/plain": [
       "FloatProgress(value=0.0, bar_style='info', description='Progress:', layout=Layout(height='25px', width='50%'),…"
      ]
     },
     "metadata": {},
     "output_type": "display_data"
    },
    {
     "data": {
      "application/vnd.jupyter.widget-view+json": {
       "model_id": "c0a83c4c799f477cb932037a6b5902b9",
       "version_major": 2,
       "version_minor": 0
      },
      "text/plain": [
       "VBox(children=(HBox(children=(HTML(value='Type:'), Button(description='Table', layout=Layout(width='70px'), st…"
      ]
     },
     "metadata": {},
     "output_type": "display_data"
    },
    {
     "data": {
      "application/vnd.jupyter.widget-view+json": {
       "model_id": "d79e6ca520794ffe833c57a0edbd0fa3",
       "version_major": 2,
       "version_minor": 0
      },
      "text/plain": [
       "Output()"
      ]
     },
     "metadata": {},
     "output_type": "display_data"
    }
   ],
   "source": [
    "%%sql -o duplicated -n -1\n",
    "SELECT user, retweet_count as retweets, favourites_count AS favourites, followers_count AS followers, friends_count AS friends from duplicated ORDER BY favourites_count Desc"
   ]
  },
  {
   "cell_type": "code",
   "execution_count": 50,
   "id": "88ef191f",
   "metadata": {},
   "outputs": [
    {
     "data": {
      "application/vnd.jupyter.widget-view+json": {
       "model_id": "e756e5e0547e439e9f62767f20f3c278",
       "version_major": 2,
       "version_minor": 0
      },
      "text/plain": [
       "VBox()"
      ]
     },
     "metadata": {},
     "output_type": "display_data"
    },
    {
     "data": {
      "application/vnd.jupyter.widget-view+json": {
       "model_id": "",
       "version_major": 2,
       "version_minor": 0
      },
      "text/plain": [
       "FloatProgress(value=0.0, bar_style='info', description='Progress:', layout=Layout(height='25px', width='50%'),…"
      ]
     },
     "metadata": {},
     "output_type": "display_data"
    },
    {
     "name": "stdout",
     "output_type": "stream",
     "text": [
      "+---------+--------+-----+---------------+--------------------+--------------------+--------------------+--------------------+--------------------+------------------+\n",
      "|      _c0|     _c1|  _c2|            _c3|                 _c4|                 _c5|                 _c6|                 _c7|                 _c8|               _c9|\n",
      "+---------+--------+-----+---------------+--------------------+--------------------+--------------------+--------------------+--------------------+------------------+\n",
      "|firstname|lastname|party|       username|         description|          created_at|                name|            location|                 url|                id|\n",
      "|   Shelby| Richard|    R|      SenShelby|The official Twit...|2009-02-17 17:53:...|      Richard Shelby| Tuscaloosa, Alabama|https://t.co/1iUL...|          21111098|\n",
      "|    Jomes|    Doug|    D|   SenDougJones|Latest news from ...|2017-12-13 22:59:...|Archived: Senator...|      Birmingham, AL|https://t.co/ybmv...|941080085121175552|\n",
      "|Murkowski|    Lisa|    R|  lisamurkowski|Official Twitter ...|2008-12-11 21:55:...| Sen. Lisa Murkowski|Alaska & Washingt...|https://t.co/I9sM...|          18061669|\n",
      "|Murkowski|    Lisa|    R|  LisaForSenate|Fighting for Alas...|2010-06-02 23:58:...|      Lisa Murkowski|              Alaska|https://t.co/EOhO...|         151247615|\n",
      "| Sullivan|     Dan|    R| SenDanSullivan|Official twitter ...|2014-11-05 21:25:...|   Sen. Dan Sullivan|                None|http://t.co/9uIoL...|        2891210047|\n",
      "|      Kyl|     Jon|    R|      SenJonKyl|United States Sen...|2009-03-17 16:15:...|U.S. Senator Jon Kyl|Arizona, Washingt...|http://t.co/MZXDi...|          24905240|\n",
      "|    Flake|    Jeff|    R|      JeffFlake|Senator from Ariz...|2008-08-30 17:00:...|          Jeff Flake|            Mesa, AZ|https://t.co/gl4C...|          16056306|\n",
      "|    Flake|    Jeff|    R| FlakeforSenate|The official acco...|2011-03-01 23:35:...|    Flake for Senate|             Arizona|https://t.co/i3gU...|         259459455|\n",
      "|   Cotton|     Tom|    R|   SenTomCotton|U.S. Senator prou...|2012-11-24 19:33:...|          Tom Cotton|                None|http://t.co/gR93L...|         968650362|\n",
      "|   Cotton|     Tom|    R|    TomCottonAR|U.S. Senator for ...|2011-07-26 23:57:...|          Tom Cotton|      Dardanelle, AR|https://t.co/46xE...|         343041182|\n",
      "|  Boozman|    John|    R|    JohnBoozman|U.S. Senator for ...|2007-04-27 16:05:...|Senator John Boozman|            Arkansas|https://t.co/Aogv...|           5558312|\n",
      "|  Boozman|    John|    R|     Boozman4AR|Optometrist. Husb...|2010-02-05 19:18:...|        John Boozman|                None|https://t.co/OvL8...|         111671288|\n",
      "|Feinstein|  Dianne|    D|   SenFeinstein|United States Sen...|2012-01-27 23:06:...|Senator Dianne Fe...|          California|https://t.co/nLdP...|         476256944|\n",
      "|Feinstein|  Dianne|    D|DianneFeinstein|   California Values|2011-09-23 14:53:...|    Dianne Feinstein|     California, USA|https://t.co/UNyF...|         378631423|\n",
      "|   Harris|  Kamala|    D|   KamalaHarris|Fighting for the ...|2009-04-11 00:42:...|       Kamala Harris|      Washington, DC|https://t.co/uBcf...|          30354991|\n",
      "|   Harris|  Kamala|    D|   KamalaHarris|Fighting for the ...|2009-04-11 00:42:...|       Kamala Harris|      Washington, DC|https://t.co/uBcf...|          30354991|\n",
      "|   Kamala|  Harris|    D|   KamalaHarris|Fighting for the ...|2009-04-11 00:42:...|       Kamala Harris|      Washington, DC|https://t.co/uBcf...|          30354991|\n",
      "|   Kamala|  Harris|    D|   KamalaHarris|Fighting for the ...|2009-04-11 00:42:...|       Kamala Harris|      Washington, DC|https://t.co/uBcf...|          30354991|\n",
      "|  Gardner|    Cory|    R| SenCoryGardner|Proudly serving t...|2011-01-07 17:02:...|        Cory Gardner|            Colorado|                null|         235217558|\n",
      "+---------+--------+-----+---------------+--------------------+--------------------+--------------------+--------------------+--------------------+------------------+\n",
      "only showing top 20 rows"
     ]
    }
   ],
   "source": [
    "accounts = spark.read.csv(\"s3://hadoop-data-tja/*.csv\")\n",
    "accounts.show()"
   ]
  },
  {
   "cell_type": "code",
   "execution_count": 75,
   "id": "f62097a3",
   "metadata": {},
   "outputs": [
    {
     "data": {
      "application/vnd.jupyter.widget-view+json": {
       "model_id": "1430b3d323ac4acca6d9d20fc6f85081",
       "version_major": 2,
       "version_minor": 0
      },
      "text/plain": [
       "VBox()"
      ]
     },
     "metadata": {},
     "output_type": "display_data"
    },
    {
     "data": {
      "application/vnd.jupyter.widget-view+json": {
       "model_id": "",
       "version_major": 2,
       "version_minor": 0
      },
      "text/plain": [
       "FloatProgress(value=0.0, bar_style='info', description='Progress:', layout=Layout(height='25px', width='50%'),…"
      ]
     },
     "metadata": {},
     "output_type": "display_data"
    }
   ],
   "source": [
    "duplicated = duplicated.withColumn(\"geo_enabled\", df2['body.data.account_data.geo_enabled']) "
   ]
  },
  {
   "cell_type": "code",
   "execution_count": 99,
   "id": "457826b8",
   "metadata": {},
   "outputs": [
    {
     "data": {
      "application/vnd.jupyter.widget-view+json": {
       "model_id": "f7119a123b624982bf886487e231594a",
       "version_major": 2,
       "version_minor": 0
      },
      "text/plain": [
       "VBox()"
      ]
     },
     "metadata": {},
     "output_type": "display_data"
    },
    {
     "data": {
      "application/vnd.jupyter.widget-view+json": {
       "model_id": "",
       "version_major": 2,
       "version_minor": 0
      },
      "text/plain": [
       "FloatProgress(value=0.0, bar_style='info', description='Progress:', layout=Layout(height='25px', width='50%'),…"
      ]
     },
     "metadata": {},
     "output_type": "display_data"
    }
   ],
   "source": [
    "duplicated = duplicated.withColumn(\"retweet_count\", df2['body.data.account_data.status.retweet_count'])"
   ]
  },
  {
   "cell_type": "code",
   "execution_count": 80,
   "id": "e0667591",
   "metadata": {},
   "outputs": [
    {
     "data": {
      "application/vnd.jupyter.widget-view+json": {
       "model_id": "e9eb5fb022fe497096e39c1b9f613fb7",
       "version_major": 2,
       "version_minor": 0
      },
      "text/plain": [
       "VBox()"
      ]
     },
     "metadata": {},
     "output_type": "display_data"
    },
    {
     "data": {
      "application/vnd.jupyter.widget-view+json": {
       "model_id": "",
       "version_major": 2,
       "version_minor": 0
      },
      "text/plain": [
       "FloatProgress(value=0.0, bar_style='info', description='Progress:', layout=Layout(height='25px', width='50%'),…"
      ]
     },
     "metadata": {},
     "output_type": "display_data"
    },
    {
     "name": "stdout",
     "output_type": "stream",
     "text": [
      "+---------+--------+-----+---------------+--------------------+--------------------+--------------------+--------------------+--------------------+------------------+\n",
      "|      _c0|     _c1|  _c2|           user|                 _c4|                 _c5|                 _c6|                 _c7|                 _c8|               _c9|\n",
      "+---------+--------+-----+---------------+--------------------+--------------------+--------------------+--------------------+--------------------+------------------+\n",
      "|firstname|lastname|party|       username|         description|          created_at|                name|            location|                 url|                id|\n",
      "|   Shelby| Richard|    R|      SenShelby|The official Twit...|2009-02-17 17:53:...|      Richard Shelby| Tuscaloosa, Alabama|https://t.co/1iUL...|          21111098|\n",
      "|    Jomes|    Doug|    D|   SenDougJones|Latest news from ...|2017-12-13 22:59:...|Archived: Senator...|      Birmingham, AL|https://t.co/ybmv...|941080085121175552|\n",
      "|Murkowski|    Lisa|    R|  lisamurkowski|Official Twitter ...|2008-12-11 21:55:...| Sen. Lisa Murkowski|Alaska & Washingt...|https://t.co/I9sM...|          18061669|\n",
      "|Murkowski|    Lisa|    R|  LisaForSenate|Fighting for Alas...|2010-06-02 23:58:...|      Lisa Murkowski|              Alaska|https://t.co/EOhO...|         151247615|\n",
      "| Sullivan|     Dan|    R| SenDanSullivan|Official twitter ...|2014-11-05 21:25:...|   Sen. Dan Sullivan|                None|http://t.co/9uIoL...|        2891210047|\n",
      "|      Kyl|     Jon|    R|      SenJonKyl|United States Sen...|2009-03-17 16:15:...|U.S. Senator Jon Kyl|Arizona, Washingt...|http://t.co/MZXDi...|          24905240|\n",
      "|    Flake|    Jeff|    R|      JeffFlake|Senator from Ariz...|2008-08-30 17:00:...|          Jeff Flake|            Mesa, AZ|https://t.co/gl4C...|          16056306|\n",
      "|    Flake|    Jeff|    R| FlakeforSenate|The official acco...|2011-03-01 23:35:...|    Flake for Senate|             Arizona|https://t.co/i3gU...|         259459455|\n",
      "|   Cotton|     Tom|    R|   SenTomCotton|U.S. Senator prou...|2012-11-24 19:33:...|          Tom Cotton|                None|http://t.co/gR93L...|         968650362|\n",
      "|   Cotton|     Tom|    R|    TomCottonAR|U.S. Senator for ...|2011-07-26 23:57:...|          Tom Cotton|      Dardanelle, AR|https://t.co/46xE...|         343041182|\n",
      "|  Boozman|    John|    R|    JohnBoozman|U.S. Senator for ...|2007-04-27 16:05:...|Senator John Boozman|            Arkansas|https://t.co/Aogv...|           5558312|\n",
      "|  Boozman|    John|    R|     Boozman4AR|Optometrist. Husb...|2010-02-05 19:18:...|        John Boozman|                None|https://t.co/OvL8...|         111671288|\n",
      "|Feinstein|  Dianne|    D|   SenFeinstein|United States Sen...|2012-01-27 23:06:...|Senator Dianne Fe...|          California|https://t.co/nLdP...|         476256944|\n",
      "|Feinstein|  Dianne|    D|DianneFeinstein|   California Values|2011-09-23 14:53:...|    Dianne Feinstein|     California, USA|https://t.co/UNyF...|         378631423|\n",
      "|   Harris|  Kamala|    D|   KamalaHarris|Fighting for the ...|2009-04-11 00:42:...|       Kamala Harris|      Washington, DC|https://t.co/uBcf...|          30354991|\n",
      "|   Harris|  Kamala|    D|   KamalaHarris|Fighting for the ...|2009-04-11 00:42:...|       Kamala Harris|      Washington, DC|https://t.co/uBcf...|          30354991|\n",
      "|   Kamala|  Harris|    D|   KamalaHarris|Fighting for the ...|2009-04-11 00:42:...|       Kamala Harris|      Washington, DC|https://t.co/uBcf...|          30354991|\n",
      "|   Kamala|  Harris|    D|   KamalaHarris|Fighting for the ...|2009-04-11 00:42:...|       Kamala Harris|      Washington, DC|https://t.co/uBcf...|          30354991|\n",
      "|  Gardner|    Cory|    R| SenCoryGardner|Proudly serving t...|2011-01-07 17:02:...|        Cory Gardner|            Colorado|                null|         235217558|\n",
      "+---------+--------+-----+---------------+--------------------+--------------------+--------------------+--------------------+--------------------+------------------+\n",
      "only showing top 20 rows"
     ]
    }
   ],
   "source": [
    "accounts = accounts.withColumnRenamed(\"_c3\",\"user\") \n",
    "accounts.show()"
   ]
  },
  {
   "cell_type": "code",
   "execution_count": 82,
   "id": "fb605b16",
   "metadata": {},
   "outputs": [
    {
     "data": {
      "application/vnd.jupyter.widget-view+json": {
       "model_id": "1341c8c83f904defa038261d62301b81",
       "version_major": 2,
       "version_minor": 0
      },
      "text/plain": [
       "VBox()"
      ]
     },
     "metadata": {},
     "output_type": "display_data"
    },
    {
     "data": {
      "application/vnd.jupyter.widget-view+json": {
       "model_id": "",
       "version_major": 2,
       "version_minor": 0
      },
      "text/plain": [
       "FloatProgress(value=0.0, bar_style='info', description='Progress:', layout=Layout(height='25px', width='50%'),…"
      ]
     },
     "metadata": {},
     "output_type": "display_data"
    }
   ],
   "source": [
    "duplicated = duplicated.join(accounts,['user'],how='inner')\n",
    "duplicated = duplicated.withColumnRenamed(\"_c2\",\"party\")"
   ]
  },
  {
   "cell_type": "code",
   "execution_count": 83,
   "id": "85ea85be",
   "metadata": {},
   "outputs": [
    {
     "data": {
      "application/vnd.jupyter.widget-view+json": {
       "model_id": "3f26828626764941a5c0b7310957a486",
       "version_major": 2,
       "version_minor": 0
      },
      "text/plain": [
       "VBox()"
      ]
     },
     "metadata": {},
     "output_type": "display_data"
    },
    {
     "data": {
      "application/vnd.jupyter.widget-view+json": {
       "model_id": "",
       "version_major": 2,
       "version_minor": 0
      },
      "text/plain": [
       "FloatProgress(value=0.0, bar_style='info', description='Progress:', layout=Layout(height='25px', width='50%'),…"
      ]
     },
     "metadata": {},
     "output_type": "display_data"
    },
    {
     "name": "stdout",
     "output_type": "stream",
     "text": [
      "+---------------+--------------------+-------------------+--------------------+----------------+---------------+-------------+-----------+----------+-------+-----+--------------------+--------------------+--------------------+--------------------+--------------------+------------------+\n",
      "|           user|                body|extractionTimestamp|                name|favourites_count|followers_count|friends_count|geo_enabled|       _c0|    _c1|party|                 _c4|                 _c5|                 _c6|                 _c7|                 _c8|               _c9|\n",
      "+---------------+--------------------+-------------------+--------------------+----------------+---------------+-------------+-----------+----------+-------+-----+--------------------+--------------------+--------------------+--------------------+--------------------+------------------+\n",
      "|     SenSchumer|[[[false, Wed Nov...|         1638197526|       Chuck Schumer|             875|        3333807|        24351|      false|   Schumer|  Chuck|    D|Official Account ...|2008-11-19 20:10:...|       Chuck Schumer|        New York, NY|https://t.co/ABwR...|          17494010|\n",
      "|SenatorTomUdall|[[[false, Tue Jul...|         1640728277|Archive: Senator ...|              81|         172852|          344|      false|     Udall|    Tom|    D|The archived twee...|2009-07-28 06:10:...|Archive: Senator ...|Santa Fe and Wash...|https://t.co/TYj8...|          60828944|\n",
      "|    TomCottonAR|[[[false, Tue Jul...|         1640734119|          Tom Cotton|             386|         210994|          837|      false|    Cotton|    Tom|    R|U.S. Senator for ...|2011-07-26 23:57:...|          Tom Cotton|      Dardanelle, AR|https://t.co/46xE...|         343041182|\n",
      "|  SenatorHassan|[[[false, Tue Nov...|         1640724667|  Sen. Maggie Hassan|             261|         159425|          542|      false|    Hassan| Maggie|    D|New England sport...|2012-11-13 21:27:...|  Sen. Maggie Hassan|                None|https://t.co/AVRi...|         946549322|\n",
      "|      JeffFlake|[[[false, Sat Aug...|         1640870169|          Jeff Flake|               1|         686350|          230|      false|     Flake|   Jeff|    R|Senator from Ariz...|2008-08-30 17:00:...|          Jeff Flake|            Mesa, AZ|https://t.co/gl4C...|          16056306|\n",
      "|SenatorMenendez|[[[false, Tue Jan...|         1640790420|Senator Bob Menendez|            3308|         205943|         1038|       true|  Menendez|    Bob|    D|U.S. Senator from...|2009-01-06 21:01:...|Senator Bob Menendez|     New Jersey, USA|https://t.co/P6lB...|          18695134|\n",
      "|  TomUdallPress|[[[false, Mon Jun...|         1638190326|     Tom Udall Press|               0|           1566|          143|      false|     Udall|    Tom|    D|Press office for ...|2011-06-27 23:29:...|     Tom Udall Press|                None|http://t.co/rRbjF...|         325231436|\n",
      "|DianneFeinstein|[[[false, Fri Sep...|         1638137891|    Dianne Feinstein|               6|           7527|          298|      false| Feinstein| Dianne|    D|   California Values|2011-09-23 14:53:...|    Dianne Feinstein|     California, USA|https://t.co/UNyF...|         378631423|\n",
      "|  Maggie_Hassan|[[[false, Thu Aug...|         1638190314|       Maggie Hassan|              19|          17374|          252|      false|    Hassan| Maggie|    D|Senator. Mom. Sox...|2011-08-25 00:19:...|       Maggie Hassan|       Newfields, NH|https://t.co/aJhq...|         361569788|\n",
      "|     CoryBooker|[[[false, Mon Aug...|         1640724670|         Cory Booker|            1019|        4910095|        87983|       true|    Booker|   Cory|    D|U.S. Senator from...|2008-08-11 14:41:...|         Cory Booker|          Newark, NJ|https://t.co/fqpy...|          15808765|\n",
      "|  LisaForSenate|[[[false, Wed Jun...|         1640860429|      Lisa Murkowski|               5|           6762|          478|      false| Murkowski|   Lisa|    R|Fighting for Alas...|2010-06-02 23:58:...|      Lisa Murkowski|              Alaska|https://t.co/EOhO...|         151247615|\n",
      "|  SenGillibrand|[[[false, Mon Sep...|         1640790431|  Kirsten Gillibrand|             814|        1605545|         1085|       true|Gillibrand|Kirsten|    D|Mom to Theo, Henr...|2009-09-07 03:53:...|  Kirsten Gillibrand|            New York|https://t.co/qcco...|          72198806|\n",
      "| SenDanSullivan|[[[false, Wed Nov...|         1638196616|   Sen. Dan Sullivan|             366|          60149|          721|       true|  Sullivan|    Dan|    R|Official twitter ...|2014-11-05 21:25:...|   Sen. Dan Sullivan|                None|http://t.co/9uIoL...|        2891210047|\n",
      "|      SenShelby|[[[false, Tue Feb...|         1638173800|      Richard Shelby|             352|          95620|          539|       true|    Shelby|Richard|    R|The official Twit...|2009-02-17 17:53:...|      Richard Shelby| Tuscaloosa, Alabama|https://t.co/1iUL...|          21111098|\n",
      "|   SenFeinstein|[[[false, Fri Jan...|         1640772525|Senator Dianne Fe...|              87|        1497805|          256|      false| Feinstein| Dianne|    D|United States Sen...|2012-01-27 23:06:...|Senator Dianne Fe...|          California|https://t.co/nLdP...|         476256944|\n",
      "|      SenBooker|[[[false, Thu Oct...|         1638135180|    Sen. Cory Booker|            1338|         183905|         5771|      false|    Booker|   Cory|    D|The U.S. Senate O...|2013-10-31 19:02:...|    Sen. Cory Booker|New Jersey * Wash...|http://t.co/bl28y...|        2167097881|\n",
      "|   SenTomCotton|[[[false, Sat Nov...|         1640870172|          Tom Cotton|             105|         445682|          360|       true|    Cotton|    Tom|    R|U.S. Senator prou...|2012-11-24 19:33:...|          Tom Cotton|                None|http://t.co/gR93L...|         968650362|\n",
      "|   SenDougJones|[[[false, Wed Dec...|         1640734109|Archived: Senator...|             297|          34275|          300|       true|     Jomes|   Doug|    D|Latest news from ...|2017-12-13 22:59:...|Archived: Senator...|      Birmingham, AL|https://t.co/ybmv...|941080085121175552|\n",
      "|  Booker4Senate|[[[false, Thu Jul...|         1638138783|   Booker for Senate|              25|           2560|          330|       true|    Booker|   Cory|    D|Official Twitter ...|2013-07-18 13:31:...|   Booker for Senate|          New Jersey|http://t.co/Mwoev...|        1603426344|\n",
      "|  lisamurkowski|[[[false, Thu Dec...|         1640870165| Sen. Lisa Murkowski|             454|         325444|          590|      false| Murkowski|   Lisa|    R|Official Twitter ...|2008-12-11 21:55:...| Sen. Lisa Murkowski|Alaska & Washingt...|https://t.co/I9sM...|          18061669|\n",
      "+---------------+--------------------+-------------------+--------------------+----------------+---------------+-------------+-----------+----------+-------+-----+--------------------+--------------------+--------------------+--------------------+--------------------+------------------+\n",
      "only showing top 20 rows"
     ]
    }
   ],
   "source": [
    "duplicated.show()"
   ]
  },
  {
   "cell_type": "code",
   "execution_count": 85,
   "id": "4e54fdbf",
   "metadata": {},
   "outputs": [
    {
     "data": {
      "application/vnd.jupyter.widget-view+json": {
       "model_id": "2f98385382ff4176a32efebfe9685111",
       "version_major": 2,
       "version_minor": 0
      },
      "text/plain": [
       "VBox()"
      ]
     },
     "metadata": {},
     "output_type": "display_data"
    },
    {
     "data": {
      "application/vnd.jupyter.widget-view+json": {
       "model_id": "",
       "version_major": 2,
       "version_minor": 0
      },
      "text/plain": [
       "FloatProgress(value=0.0, bar_style='info', description='Progress:', layout=Layout(height='25px', width='50%'),…"
      ]
     },
     "metadata": {},
     "output_type": "display_data"
    },
    {
     "name": "stdout",
     "output_type": "stream",
     "text": [
      "['user', 'body', 'extractionTimestamp', 'name', 'favourites_count', 'followers_count', 'friends_count', 'geo_enabled', '_c0', '_c1', 'party', '_c4', '_c5', '_c6', '_c7', '_c8', '_c9']"
     ]
    }
   ],
   "source": [
    "duplicated.columns"
   ]
  },
  {
   "cell_type": "code",
   "execution_count": 86,
   "id": "800f0e61",
   "metadata": {},
   "outputs": [
    {
     "data": {
      "application/vnd.jupyter.widget-view+json": {
       "model_id": "f6ed0bf4e67a4115b8e173d68b6bc088",
       "version_major": 2,
       "version_minor": 0
      },
      "text/plain": [
       "VBox()"
      ]
     },
     "metadata": {},
     "output_type": "display_data"
    },
    {
     "data": {
      "application/vnd.jupyter.widget-view+json": {
       "model_id": "",
       "version_major": 2,
       "version_minor": 0
      },
      "text/plain": [
       "FloatProgress(value=0.0, bar_style='info', description='Progress:', layout=Layout(height='25px', width='50%'),…"
      ]
     },
     "metadata": {},
     "output_type": "display_data"
    }
   ],
   "source": [
    "duplicated.createOrReplaceTempView(\"duplicated\")"
   ]
  },
  {
   "cell_type": "code",
   "execution_count": 89,
   "id": "4011e46a",
   "metadata": {},
   "outputs": [
    {
     "data": {
      "application/vnd.jupyter.widget-view+json": {
       "model_id": "",
       "version_major": 2,
       "version_minor": 0
      },
      "text/plain": [
       "FloatProgress(value=0.0, bar_style='info', description='Progress:', layout=Layout(height='25px', width='50%'),…"
      ]
     },
     "metadata": {},
     "output_type": "display_data"
    },
    {
     "data": {
      "application/vnd.jupyter.widget-view+json": {
       "model_id": "44e9bc08b75c4382bdf3f7ee2e95aa87",
       "version_major": 2,
       "version_minor": 0
      },
      "text/plain": [
       "VBox(children=(HBox(children=(HTML(value='Type:'), Button(description='Table', layout=Layout(width='70px'), st…"
      ]
     },
     "metadata": {},
     "output_type": "display_data"
    },
    {
     "data": {
      "application/vnd.jupyter.widget-view+json": {
       "model_id": "7a5ddf1458d84ed2b58ba4bb986b39d8",
       "version_major": 2,
       "version_minor": 0
      },
      "text/plain": [
       "Output()"
      ]
     },
     "metadata": {},
     "output_type": "display_data"
    }
   ],
   "source": [
    "%%sql -o duplicated -n -1\n",
    "SELECT party, COUNT(party) as count from duplicated GROUP BY party"
   ]
  },
  {
   "cell_type": "code",
   "execution_count": 90,
   "id": "1155b730",
   "metadata": {},
   "outputs": [
    {
     "data": {
      "application/vnd.jupyter.widget-view+json": {
       "model_id": "",
       "version_major": 2,
       "version_minor": 0
      },
      "text/plain": [
       "FloatProgress(value=0.0, bar_style='info', description='Progress:', layout=Layout(height='25px', width='50%'),…"
      ]
     },
     "metadata": {},
     "output_type": "display_data"
    },
    {
     "data": {
      "application/vnd.jupyter.widget-view+json": {
       "model_id": "022a093804d947078c5fe6d4a0ad7ffa",
       "version_major": 2,
       "version_minor": 0
      },
      "text/plain": [
       "VBox(children=(HBox(children=(HTML(value='Type:'), Button(description='Table', layout=Layout(width='70px'), st…"
      ]
     },
     "metadata": {},
     "output_type": "display_data"
    },
    {
     "data": {
      "application/vnd.jupyter.widget-view+json": {
       "model_id": "03a3b7ec69e54f0ea4ce4dbed3d60fc7",
       "version_major": 2,
       "version_minor": 0
      },
      "text/plain": [
       "Output()"
      ]
     },
     "metadata": {},
     "output_type": "display_data"
    }
   ],
   "source": [
    "%%sql -o duplicated -n -1\n",
    "SELECT geo_enabled, COUNT(geo_enabled) from duplicated GROUP BY geo_enabled"
   ]
  },
  {
   "cell_type": "code",
   "execution_count": 103,
   "id": "9302991c",
   "metadata": {},
   "outputs": [
    {
     "data": {
      "application/vnd.jupyter.widget-view+json": {
       "model_id": "",
       "version_major": 2,
       "version_minor": 0
      },
      "text/plain": [
       "FloatProgress(value=0.0, bar_style='info', description='Progress:', layout=Layout(height='25px', width='50%'),…"
      ]
     },
     "metadata": {},
     "output_type": "display_data"
    },
    {
     "data": {
      "application/vnd.jupyter.widget-view+json": {
       "model_id": "2c17f8a47f1347978431be3e51d13d0f",
       "version_major": 2,
       "version_minor": 0
      },
      "text/plain": [
       "VBox(children=(HBox(children=(HTML(value='Type:'), Button(description='Table', layout=Layout(width='70px'), st…"
      ]
     },
     "metadata": {},
     "output_type": "display_data"
    },
    {
     "data": {
      "application/vnd.jupyter.widget-view+json": {
       "model_id": "fb2a0ac999134256a69f9b366031f9f4",
       "version_major": 2,
       "version_minor": 0
      },
      "text/plain": [
       "Output()"
      ]
     },
     "metadata": {},
     "output_type": "display_data"
    }
   ],
   "source": [
    "%%sql -o duplicated -n -1\n",
    "SELECT party, AVG(retweet_count) as retweets, AVG(followers_count) AS followers, AVG(friends_count) as friends, AVG(favourites_count) AS favourites, COUNT(party) AS count from duplicated GROUP BY party"
   ]
  },
  {
   "cell_type": "code",
   "execution_count": 93,
   "id": "23c08428",
   "metadata": {},
   "outputs": [
    {
     "data": {
      "application/vnd.jupyter.widget-view+json": {
       "model_id": "c80958052ba74dffa68d6cd9966dd355",
       "version_major": 2,
       "version_minor": 0
      },
      "text/plain": [
       "VBox()"
      ]
     },
     "metadata": {},
     "output_type": "display_data"
    },
    {
     "data": {
      "application/vnd.jupyter.widget-view+json": {
       "model_id": "",
       "version_major": 2,
       "version_minor": 0
      },
      "text/plain": [
       "FloatProgress(value=0.0, bar_style='info', description='Progress:', layout=Layout(height='25px', width='50%'),…"
      ]
     },
     "metadata": {},
     "output_type": "display_data"
    }
   ],
   "source": [
    "df2 = df2.withColumn(\"user\", df2['body.user']) \n",
    "df2.createOrReplaceTempView(\"df2\")"
   ]
  },
  {
   "cell_type": "code",
   "execution_count": 95,
   "id": "7e3170f9",
   "metadata": {},
   "outputs": [
    {
     "data": {
      "application/vnd.jupyter.widget-view+json": {
       "model_id": "",
       "version_major": 2,
       "version_minor": 0
      },
      "text/plain": [
       "FloatProgress(value=0.0, bar_style='info', description='Progress:', layout=Layout(height='25px', width='50%'),…"
      ]
     },
     "metadata": {},
     "output_type": "display_data"
    },
    {
     "data": {
      "application/vnd.jupyter.widget-view+json": {
       "model_id": "40812cc9a14b44db84d02f55b831b0d1",
       "version_major": 2,
       "version_minor": 0
      },
      "text/plain": [
       "VBox(children=(HBox(children=(HTML(value='Type:'), Button(description='Table', layout=Layout(width='70px'), st…"
      ]
     },
     "metadata": {},
     "output_type": "display_data"
    },
    {
     "data": {
      "application/vnd.jupyter.widget-view+json": {
       "model_id": "113e78fe33a648ae85977b23e801162d",
       "version_major": 2,
       "version_minor": 0
      },
      "text/plain": [
       "Output()"
      ]
     },
     "metadata": {},
     "output_type": "display_data"
    }
   ],
   "source": [
    "%%sql -o df2 -n -1\n",
    "SELECT user, COUNT(user) AS count from df2 GROUP BY user"
   ]
  }
 ],
 "metadata": {
  "kernelspec": {
   "display_name": "PySpark",
   "language": "",
   "name": "pysparkkernel"
  },
  "language_info": {
   "codemirror_mode": {
    "name": "python",
    "version": 2
   },
   "mimetype": "text/x-python",
   "name": "pyspark",
   "pygments_lexer": "python2"
  }
 },
 "nbformat": 4,
 "nbformat_minor": 5
}