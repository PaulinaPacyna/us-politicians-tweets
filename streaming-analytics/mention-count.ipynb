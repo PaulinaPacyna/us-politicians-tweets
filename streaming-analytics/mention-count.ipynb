﻿{
  "metadata": {
    "name": "Untitled Note 1",
    "kernelspec": {
      "language": "scala",
      "name": "spark2-scala"
    },
    "language_info": {
      "codemirror_mode": "text/x-scala",
      "file_extension": ".scala",
      "mimetype": "text/x-scala",
      "name": "scala",
      "pygments_lexer": "scala"
    }
  },
  "nbformat": 4,
  "nbformat_minor": 2,
  "cells": [
    {
      "cell_type": "code",
      "execution_count": 0,
      "metadata": {
        "autoscroll": "auto"
      },
      "outputs": [],
      "source": "%flink.ssql(type\u003dappend)\r\nCREATE TABLE AGGR (\r\n                NROWS BIGINT,\r\n                mention string\r\n              )\r\n              PARTITIONED BY (mention)\r\n              WITH (\r\n\u0027connector\u0027 \u003d \u0027kinesis\u0027,\r\n\u0027stream\u0027 \u003d \u0027test-mentions-count\u0027,\r\n\u0027aws.region\u0027 \u003d \u0027us-east-1\u0027,\r\n\u0027scan.stream.initpos\u0027 \u003d \u0027LATEST\u0027,\r\n\u0027format\u0027 \u003d \u0027json\u0027\r\n              )"
    },
    {
      "cell_type": "code",
      "execution_count": 1,
      "metadata": {
        "autoscroll": "auto"
      },
      "outputs": [],
      "source": "%flink.ssql(type\u003dappend)\nINSERT INTO AGGR (\nselect \nCOUNT(*) OVER (PARTITION BY REGEXP_EXTRACT(text, \u0027@([A-Za-z0-9]*)\u0027) ORDER BY proctime) as NROWS, \nREGEXP_EXTRACT(text, \u0027@([A-Za-z0-9]*)\u0027) as mention\nfrom stock\n    )"
    },
    {
      "cell_type": "code",
      "execution_count": 2,
      "metadata": {
        "autoscroll": "auto"
      },
      "outputs": [],
      "source": "%flink.ssql(type\u003dupdate, parallelism\u003d16, refreshInterval\u003d1000,)\nselect * from aggr"
    },
    {
      "cell_type": "code",
      "execution_count": 3,
      "metadata": {
        "autoscroll": "auto"
      },
      "outputs": [],
      "source": "%flink.ssql\n"
    }
  ]
}