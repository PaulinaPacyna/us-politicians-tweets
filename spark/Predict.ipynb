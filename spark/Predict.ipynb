{
 "cells": [
  {
   "cell_type": "code",
   "execution_count": 1,
   "id": "d1785693-2cf4-4c0c-917e-bfdc0ca3b714",
   "metadata": {
    "execution": {
     "iopub.execute_input": "2022-01-23T13:00:56.104275Z",
     "iopub.status.busy": "2022-01-23T13:00:56.103440Z",
     "iopub.status.idle": "2022-01-23T13:00:56.463405Z",
     "shell.execute_reply": "2022-01-23T13:00:56.462593Z",
     "shell.execute_reply.started": "2022-01-23T13:00:56.104213Z"
    }
   },
   "outputs": [
    {
     "data": {
      "text/html": [
       "Current session configs: <tt>{'conf': {'org.bytedeco.javacpp.maxPhysicalBytes': '0', 'spark.jars.packages': 'com.audienceproject:spark-dynamodb_2.12:1.1.1,com.johnsnowlabs.nlp:spark-nlp_2.12:3.3.4', 'spark.pyspark.python': 'python3', 'spark.pyspark.virtualenv.enabled': 'true', 'spark.pyspark.virtualenv.type': 'native', 'spark.pyspark.virtualenv.bin.path': '/usr/bin/virtualenv', 'spark.driver.memory': '12g'}, 'kind': 'pyspark'}</tt><br>"
      ],
      "text/plain": [
       "<IPython.core.display.HTML object>"
      ]
     },
     "metadata": {},
     "output_type": "display_data"
    },
    {
     "data": {
      "text/html": [
       "<table>\n",
       "<tr><th>ID</th><th>YARN Application ID</th><th>Kind</th><th>State</th><th>Spark UI</th><th>Driver log</th><th>Current session?</th></tr><tr><td>1</td><td>application_1642937945784_0005</td><td>pyspark</td><td>idle</td><td><a target=\"_blank\" href=\"http://ip-172-31-25-192.ec2.internal:20888/proxy/application_1642937945784_0005/\">Link</a></td><td><a target=\"_blank\" href=\"http://ip-172-31-17-49.ec2.internal:8042/node/containerlogs/container_1642937945784_0005_01_000001/livy\">Link</a></td><td></td></tr><tr><td>5</td><td>application_1642937945784_0009</td><td>pyspark</td><td>shutting_down</td><td><a target=\"_blank\" href=\"http://ip-172-31-25-192.ec2.internal:20888/proxy/application_1642937945784_0009/\">Link</a></td><td><a target=\"_blank\" href=\"http://ip-172-31-27-130.ec2.internal:8042/node/containerlogs/container_1642937945784_0009_01_000001/livy\">Link</a></td><td></td></tr></table>"
      ],
      "text/plain": [
       "<IPython.core.display.HTML object>"
      ]
     },
     "metadata": {},
     "output_type": "display_data"
    }
   ],
   "source": [
    "%%configure -f\n",
    "{\n",
    "    \"conf\": {\n",
    "        \"org.bytedeco.javacpp.maxPhysicalBytes\": \"0\",\n",
    "        \"spark.jars.packages\": \"com.audienceproject:spark-dynamodb_2.12:1.1.1,com.johnsnowlabs.nlp:spark-nlp_2.12:3.3.4\",\n",
    "        \"spark.pyspark.python\": \"python3\",\n",
    "        \"spark.pyspark.virtualenv.enabled\": \"true\",\n",
    "        \"spark.pyspark.virtualenv.type\":\"native\",\n",
    "        \"spark.pyspark.virtualenv.bin.path\":\"/usr/bin/virtualenv\",\n",
    "        \"spark.driver.memory\":\"12g\"\n",
    "    }\n",
    "}"
   ]
  },
  {
   "cell_type": "code",
   "execution_count": 2,
   "id": "d7e97543-b641-4434-9202-bda71dd78997",
   "metadata": {
    "execution": {
     "iopub.execute_input": "2022-01-23T13:00:56.465196Z",
     "iopub.status.busy": "2022-01-23T13:00:56.464905Z",
     "iopub.status.idle": "2022-01-23T13:01:22.786260Z",
     "shell.execute_reply": "2022-01-23T13:01:22.785247Z",
     "shell.execute_reply.started": "2022-01-23T13:00:56.465155Z"
    }
   },
   "outputs": [
    {
     "data": {
      "application/vnd.jupyter.widget-view+json": {
       "model_id": "2a5f72733fec445f9ad9c020d3a49298",
       "version_major": 2,
       "version_minor": 0
      },
      "text/plain": [
       "VBox()"
      ]
     },
     "metadata": {},
     "output_type": "display_data"
    },
    {
     "name": "stdout",
     "output_type": "stream",
     "text": [
      "Starting Spark application\n"
     ]
    },
    {
     "data": {
      "text/html": [
       "<table>\n",
       "<tr><th>ID</th><th>YARN Application ID</th><th>Kind</th><th>State</th><th>Spark UI</th><th>Driver log</th><th>Current session?</th></tr><tr><td>6</td><td>application_1642937945784_0010</td><td>pyspark</td><td>idle</td><td><a target=\"_blank\" href=\"http://ip-172-31-25-192.ec2.internal:20888/proxy/application_1642937945784_0010/\">Link</a></td><td><a target=\"_blank\" href=\"http://ip-172-31-27-130.ec2.internal:8042/node/containerlogs/container_1642937945784_0010_01_000001/livy\">Link</a></td><td>✔</td></tr></table>"
      ],
      "text/plain": [
       "<IPython.core.display.HTML object>"
      ]
     },
     "metadata": {},
     "output_type": "display_data"
    },
    {
     "data": {
      "application/vnd.jupyter.widget-view+json": {
       "model_id": "",
       "version_major": 2,
       "version_minor": 0
      },
      "text/plain": [
       "FloatProgress(value=0.0, bar_style='info', description='Progress:', layout=Layout(height='25px', width='50%'),…"
      ]
     },
     "metadata": {},
     "output_type": "display_data"
    },
    {
     "name": "stdout",
     "output_type": "stream",
     "text": [
      "SparkSession available as 'spark'.\n"
     ]
    },
    {
     "data": {
      "application/vnd.jupyter.widget-view+json": {
       "model_id": "",
       "version_major": 2,
       "version_minor": 0
      },
      "text/plain": [
       "FloatProgress(value=0.0, bar_style='info', description='Progress:', layout=Layout(height='25px', width='50%'),…"
      ]
     },
     "metadata": {},
     "output_type": "display_data"
    },
    {
     "name": "stdout",
     "output_type": "stream",
     "text": [
      "<pyspark.sql.session.SparkSession object at 0x7f6c359e9450>"
     ]
    }
   ],
   "source": [
    "spark"
   ]
  },
  {
   "cell_type": "code",
   "execution_count": 3,
   "id": "6b783db3-ca44-4e70-a3da-586f76c62bbe",
   "metadata": {
    "execution": {
     "iopub.execute_input": "2022-01-23T13:01:22.788229Z",
     "iopub.status.busy": "2022-01-23T13:01:22.787700Z",
     "iopub.status.idle": "2022-01-23T13:01:40.666220Z",
     "shell.execute_reply": "2022-01-23T13:01:40.665245Z",
     "shell.execute_reply.started": "2022-01-23T13:01:22.788188Z"
    }
   },
   "outputs": [
    {
     "data": {
      "application/vnd.jupyter.widget-view+json": {
       "model_id": "2bcb1cd9a0cc4db29a5fc3ba42db10b1",
       "version_major": 2,
       "version_minor": 0
      },
      "text/plain": [
       "VBox()"
      ]
     },
     "metadata": {},
     "output_type": "display_data"
    },
    {
     "data": {
      "application/vnd.jupyter.widget-view+json": {
       "model_id": "",
       "version_major": 2,
       "version_minor": 0
      },
      "text/plain": [
       "FloatProgress(value=0.0, bar_style='info', description='Progress:', layout=Layout(height='25px', width='50%'),…"
      ]
     },
     "metadata": {},
     "output_type": "display_data"
    },
    {
     "name": "stdout",
     "output_type": "stream",
     "text": [
      "Collecting spark-nlp==3.3.4\n",
      "  Using cached https://files.pythonhosted.org/packages/48/8c/0d83c7e606651d0bec6c8c9a03bf3acbe1d9fbf8f840aa115505222e6328/spark_nlp-3.3.4-py2.py3-none-any.whl\n",
      "Installing collected packages: spark-nlp\n",
      "Successfully installed spark-nlp-3.3.4\n",
      "\n",
      "Requirement already satisfied: numpy in /usr/local/lib64/python3.7/site-packages\n",
      "\n",
      "Requirement already satisfied: nltk in /usr/local/lib/python3.7/site-packages\n",
      "Requirement already satisfied: click in /usr/lib64/python3.7/site-packages (from nltk)\n",
      "Requirement already satisfied: joblib in /usr/lib64/python3.7/site-packages (from nltk)\n",
      "Requirement already satisfied: regex in /usr/local/lib64/python3.7/site-packages (from nltk)\n",
      "Requirement already satisfied: tqdm in /usr/lib64/python3.7/site-packages (from nltk)\n",
      "\n",
      "Collecting pandas==0.25.1\n",
      "  Using cached https://files.pythonhosted.org/packages/7e/ab/ea76361f9d3e732e114adcd801d2820d5319c23d0ac5482fa3b412db217e/pandas-0.25.1-cp37-cp37m-manylinux1_x86_64.whl\n",
      "Requirement already satisfied: pytz>=2017.2 in /usr/local/lib/python3.7/site-packages (from pandas==0.25.1)\n",
      "Requirement already satisfied: numpy>=1.13.3 in /usr/local/lib64/python3.7/site-packages (from pandas==0.25.1)\n",
      "Collecting python-dateutil>=2.6.1 (from pandas==0.25.1)\n",
      "  Using cached https://files.pythonhosted.org/packages/36/7a/87837f39d0296e723bb9b62bbb257d0355c7f6128853c78955f57342a56d/python_dateutil-2.8.2-py2.py3-none-any.whl\n",
      "Requirement already satisfied: six>=1.5 in /usr/local/lib/python3.7/site-packages (from python-dateutil>=2.6.1->pandas==0.25.1)\n",
      "Installing collected packages: python-dateutil, pandas\n",
      "Successfully installed pandas-0.25.1 python-dateutil-2.8.2"
     ]
    }
   ],
   "source": [
    "sc.install_pypi_package(\"spark-nlp==3.3.4\")\n",
    "sc.install_pypi_package(\"numpy\")\n",
    "sc.install_pypi_package(\"nltk\")\n",
    "sc.install_pypi_package(\"pandas==0.25.1\")"
   ]
  },
  {
   "cell_type": "code",
   "execution_count": 4,
   "id": "2c74cad4-58be-4c4b-bd4d-6cf487183141",
   "metadata": {
    "execution": {
     "iopub.execute_input": "2022-01-23T13:01:40.668389Z",
     "iopub.status.busy": "2022-01-23T13:01:40.667932Z",
     "iopub.status.idle": "2022-01-23T13:01:41.150917Z",
     "shell.execute_reply": "2022-01-23T13:01:41.149945Z",
     "shell.execute_reply.started": "2022-01-23T13:01:40.668346Z"
    }
   },
   "outputs": [
    {
     "data": {
      "application/vnd.jupyter.widget-view+json": {
       "model_id": "5a4890b8f9d442caa8a10aa640bc609d",
       "version_major": 2,
       "version_minor": 0
      },
      "text/plain": [
       "VBox()"
      ]
     },
     "metadata": {},
     "output_type": "display_data"
    },
    {
     "data": {
      "application/vnd.jupyter.widget-view+json": {
       "model_id": "",
       "version_major": 2,
       "version_minor": 0
      },
      "text/plain": [
       "FloatProgress(value=0.0, bar_style='info', description='Progress:', layout=Layout(height='25px', width='50%'),…"
      ]
     },
     "metadata": {},
     "output_type": "display_data"
    }
   ],
   "source": [
    "from datetime import datetime\n",
    "from time import sleep\n",
    "\n",
    "import pyspark.sql.functions as f\n",
    "from pyspark.ml import PipelineModel\n",
    "from pyspark.sql import Window\n",
    "from pyspark.sql.functions import *\n",
    "from pyspark.sql.types import StructType, StructField, StringType\n",
    "from sparknlp.annotator import * "
   ]
  },
  {
   "cell_type": "code",
   "execution_count": 5,
   "id": "b4bdc896-1358-46b8-bed9-0534beac4196",
   "metadata": {
    "execution": {
     "iopub.execute_input": "2022-01-23T13:01:41.153651Z",
     "iopub.status.busy": "2022-01-23T13:01:41.153357Z",
     "iopub.status.idle": "2022-01-23T13:02:10.163119Z",
     "shell.execute_reply": "2022-01-23T13:02:10.076881Z",
     "shell.execute_reply.started": "2022-01-23T13:01:41.153608Z"
    },
    "tags": []
   },
   "outputs": [
    {
     "data": {
      "application/vnd.jupyter.widget-view+json": {
       "model_id": "65bbf828aac443f1abac332f038738b1",
       "version_major": 2,
       "version_minor": 0
      },
      "text/plain": [
       "VBox()"
      ]
     },
     "metadata": {},
     "output_type": "display_data"
    },
    {
     "data": {
      "application/vnd.jupyter.widget-view+json": {
       "model_id": "",
       "version_major": 2,
       "version_minor": 0
      },
      "text/plain": [
       "FloatProgress(value=0.0, bar_style='info', description='Progress:', layout=Layout(height='25px', width='50%'),…"
      ]
     },
     "metadata": {},
     "output_type": "display_data"
    }
   ],
   "source": [
    "path_to_model = \"s3://danonki-code3/bert_clf_pipelineModel.model/\"\n",
    "model = PipelineModel.load(path_to_model)"
   ]
  },
  {
   "cell_type": "code",
   "execution_count": null,
   "id": "18922cb3-8089-4d4a-af81-734251f491a9",
   "metadata": {
    "execution": {
     "iopub.execute_input": "2022-01-23T13:02:10.165750Z",
     "iopub.status.busy": "2022-01-23T13:02:10.165485Z"
    },
    "tags": []
   },
   "outputs": [
    {
     "data": {
      "application/vnd.jupyter.widget-view+json": {
       "model_id": "14e2ab7b09d54af8839cc646723fd143",
       "version_major": 2,
       "version_minor": 0
      },
      "text/plain": [
       "VBox()"
      ]
     },
     "metadata": {},
     "output_type": "display_data"
    },
    {
     "data": {
      "application/vnd.jupyter.widget-view+json": {
       "model_id": "51e039f6ace5430e849aa5023be1ff7a",
       "version_major": 2,
       "version_minor": 0
      },
      "text/plain": [
       "FloatProgress(value=0.0, bar_style='info', description='Progress:', layout=Layout(height='25px', width='50%'),…"
      ]
     },
     "metadata": {},
     "output_type": "display_data"
    }
   ],
   "source": [
    "while True:\n",
    "    df_tweet = (\n",
    "        spark.read.option(\"tableName\", \"Tweets\")\n",
    "        .format(\"dynamodb\")\n",
    "        .load()\n",
    "        .select(f.col(\"text\"), f.col(\"extractionTime\").alias(\"created\"))\n",
    "    )\n",
    "    df_tweet = df_tweet.withColumn(\n",
    "        \"text\", regexp_replace(\"text\", r\"@[A-Za-z0-9]+\", \"\")\n",
    "    ).withColumn(\"text\", regexp_replace(\"text\", \"RT[\\s:]+\", \"\"))\n",
    "    df_tweet = df_tweet.withColumn(\n",
    "        \"row_number\",\n",
    "        f.row_number().over(Window.partitionBy().orderBy(f.col(\"created\").desc())),\n",
    "    ).filter(\"row_number <= 10\")\n",
    "    df_reddit = (\n",
    "        spark.read.option(\"tableName\", \"RedditPosts\")\n",
    "        .format(\"dynamodb\")\n",
    "        .load(\n",
    "            schema=StructType(\n",
    "                [\n",
    "                    StructField(\"subreddit\", StringType()),\n",
    "                    StructField(\"created\", StringType()),\n",
    "                    StructField(\"post_body\", StringType()),\n",
    "                    StructField(\"post_id\", StringType()),\n",
    "                    StructField(\"submission_id\", StringType()),\n",
    "                ]\n",
    "            )\n",
    "        )\n",
    "    )\n",
    "    df_reddit = (\n",
    "        df_reddit.select(f.col(\"post_body\").alias(\"text\"), f.col(\"created\"))\n",
    "        .withColumn(\n",
    "            \"row_number\",\n",
    "            f.row_number().over(Window.partitionBy().orderBy(f.col(\"created\").desc())),\n",
    "        )\n",
    "        .filter(\"row_number <= 10\")\n",
    "    )\n",
    "    df = df_tweet.union(df_reddit).select(\"text\", \"created\")\n",
    "    pred = model.transform(df).select(\"text\", \"created\", \"class\")\\\n",
    "    .drop_duplicates([\"text\"])\\\n",
    "    .withColumn(\"class\", f.col(\"class\").getItem(\"result\")[0])\\\n",
    "    .withColumn(\"processed\", f.lit(str(int(datetime.now().timestamp()))))\n",
    "    pred.write.mode(\"append\").option(\"tableName\", \"bert-predictions\").format(\"dynamodb\").save()\n",
    "    sleep(10)"
   ]
  },
  {
   "cell_type": "code",
   "execution_count": null,
   "id": "fadb3b40-191c-4cf2-8011-161712d14d7a",
   "metadata": {},
   "outputs": [],
   "source": []
  }
 ],
 "metadata": {
  "kernelspec": {
   "display_name": "PySpark",
   "language": "",
   "name": "pysparkkernel"
  },
  "language_info": {
   "codemirror_mode": {
    "name": "python",
    "version": 2
   },
   "mimetype": "text/x-python",
   "name": "pyspark",
   "pygments_lexer": "python2"
  }
 },
 "nbformat": 4,
 "nbformat_minor": 5
}
