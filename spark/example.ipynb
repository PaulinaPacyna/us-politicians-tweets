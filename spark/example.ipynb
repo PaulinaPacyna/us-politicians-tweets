{
 "cells": [
  {
   "cell_type": "code",
   "execution_count": 1,
   "id": "e8c15231",
   "metadata": {},
   "outputs": [
    {
     "data": {
      "text/html": [
       "\n",
       "            <div>\n",
       "                <p><b>SparkSession - hive</b></p>\n",
       "                \n",
       "        <div>\n",
       "            <p><b>SparkContext</b></p>\n",
       "\n",
       "            <p><a href=\"http://ip-172-31-89-253.ec2.internal:4040\">Spark UI</a></p>\n",
       "\n",
       "            <dl>\n",
       "              <dt>Version</dt>\n",
       "                <dd><code>v3.1.2</code></dd>\n",
       "              <dt>Master</dt>\n",
       "                <dd><code>local[*]</code></dd>\n",
       "              <dt>AppName</dt>\n",
       "                <dd><code>PySparkShell</code></dd>\n",
       "            </dl>\n",
       "        </div>\n",
       "        \n",
       "            </div>\n",
       "        "
      ],
      "text/plain": [
       "<pyspark.sql.session.SparkSession at 0x7f1ee840c908>"
      ]
     },
     "execution_count": 1,
     "metadata": {},
     "output_type": "execute_result"
    }
   ],
   "source": [
    "spark"
   ]
  },
  {
   "cell_type": "markdown",
   "id": "6888286c",
   "metadata": {},
   "source": [
    "Here is an example of the spark API. Reading a local csv file and some basic aggregations. Obviously we won't use local files for the processing, but this is just an example. If you run it, you may be interested in the spark UI, which can be viewed under public-ip:8080"
   ]
  },
  {
   "cell_type": "code",
   "execution_count": 2,
   "id": "8d894abc",
   "metadata": {},
   "outputs": [
    {
     "name": "stdout",
     "output_type": "stream",
     "text": [
      "+---------+----------+--------------------+--------------------+-----------+---------+-----------------+-------------------+-------------------+----------+-----+------------------+-------------------+\n",
      "|#image_id|  unixtime|             rawtime|               title|total_votes|reddit_id|number_of_upvotes|          subreddit|number_of_downvotes| localtime|score|number_of_comments|           username|\n",
      "+---------+----------+--------------------+--------------------+-----------+---------+-----------------+-------------------+-------------------+----------+-----+------------------+-------------------+\n",
      "|        0|1333172439|2012-03-31T12:40:...|And here's a down...|      63470|    rmqjs|            32657|              funny|              30813|1333197639| 1844|               622|Animates_Everything|\n",
      "|        0|1333178161|2012-03-31T14:16:...|         Expectation|         35|    rmun4|               29|           GifSound|                  6|1333203361|   23|                 3|      Gangsta_Raper|\n",
      "|        0|1333199913|2012-03-31T20:18:...|            Downvote|         41|    rna86|               32|           GifSound|                  9|1333225113|   23|                 0|      Gangsta_Raper|\n",
      "|        0|1333252330|2012-04-01T10:52:...|Every time I down...|         10|    ro7e4|                6|           GifSound|                  4|1333277530|    2|                 0|      Gangsta_Raper|\n",
      "|        0|1333272954|2012-04-01T16:35:...|Downvote &quot;Di...|         65|    rooof|               57|           GifSound|                  8|1333298154|   49|                 0|      Gangsta_Raper|\n",
      "|        0|1333761060|2012-04-07T08:11:...|Demolished, every...|         40|    rxwjg|               17|               gifs|                 23|1333786260|   -6|                 3|  Hellothereawesome|\n",
      "|        0|1335503834|2012-04-27T12:17:...|how i feel whenev...|        104|    svpq7|               67|fffffffuuuuuuuuuuuu|                 37|1335529034|   30|                12|               null|\n",
      "|        0|1339160075|2012-06-08T19:54:...|getting that firs...|         13|    usmxn|                5|              funny|                  8|1339185275|   -3|                 0|               null|\n",
      "|        0|1339407879|2012-06-11T16:44:...|How reddit seems ...|         14|    uwzrd|                6|              funny|                  8|1339433079|   -2|                 0|               null|\n",
      "|        0|1339425291|2012-06-11T21:34:...|Every LastAirBend...|         20|    uxf5q|                9|               pics|                 11|1339450491|   -2|                 0|        HadManySons|\n",
      "|        0|1340008115|2012-06-18T15:28:...|How I felt when i...|         21|    v8vl7|               10|               gifs|                 11|1340033315|   -1|                 0|       TraumaticASH|\n",
      "|        0|1340020566|2012-06-18T18:56:...|What r/AskReddit ...|        271|    v970d|              210|               gifs|                 61|1340045766|  149|                 5|    MidgetDance1337|\n",
      "|        0|1340084902|2012-06-19T12:48:...|My brother when h...|       8494|    vah9p|             4612|              funny|               3882|1340110102|  730|                64|             Pazzaz|\n",
      "|        0|1341036761|2012-06-30T13:12:...|The reaction i fa...|         23|    vuqcr|               15|            atheism|                  8|1341061961|    7|                 4|               null|\n",
      "|        0|1341408717|2012-07-04T20:31:...|How I feel on r/a...|         21|    w27bp|                8|              funny|                 13|1341433917|   -5|                 3|           koolkows|\n",
      "|        0|1341779603|2012-07-09T03:33:...|When I see a rage...|         24|    w9k12|               14|              funny|                 10|1341804803|    4|                 0|            Moncole|\n",
      "|        0|1342782548|2012-07-20T18:09:...|Sitting as a /new...|         21|    wwjak|                8|             gaming|                 13|1342807748|   -5|                 4|        shortguy014|\n",
      "|        0|1343172264|2012-07-25T06:24:...|How I act when I ...|         14|    x4ogv|                6|              funny|                  8|1343197464|   -2|                 0|         Killer2000|\n",
      "|        0|1343626962|2012-07-30T12:42:...|Ohhh, that's a lo...|         14|    xenyw|                7|               pics|                  7|1343652162|    0|                 0| todaysuckstomorrow|\n",
      "|        0|1344874478|2012-08-13T23:14:...|Pretty much what ...|          1|    y6v1k|                1|               gifs|                  0|1344899678|    1|                 0|               null|\n",
      "+---------+----------+--------------------+--------------------+-----------+---------+-----------------+-------------------+-------------------+----------+-----+------------------+-------------------+\n",
      "only showing top 20 rows\n",
      "\n"
     ]
    }
   ],
   "source": [
    "df = spark.read.csv(\"redditSubmissions.csv.gz\", header=True)\n",
    "df.show()"
   ]
  },
  {
   "cell_type": "code",
   "execution_count": 4,
   "id": "dd67ac91",
   "metadata": {},
   "outputs": [
    {
     "name": "stdout",
     "output_type": "stream",
     "text": [
      "+-----------------+---------------------+\n",
      "|        subreddit|max_number_of_upvotes|\n",
      "+-----------------+---------------------+\n",
      "|             null|                 null|\n",
      "|        worldnews|                19374|\n",
      "|    AdviceAnimals|                 9997|\n",
      "|             pics|                 9996|\n",
      "|            funny|                 9996|\n",
      "|            trees|                 9993|\n",
      "|              WTF|                 9991|\n",
      "|              aww|                 9981|\n",
      "|           gaming|                 9931|\n",
      "|           movies|                 9875|\n",
      "|            4chan|                 9719|\n",
      "|mildlyinteresting|                 9713|\n",
      "|         politics|                 9618|\n",
      "|      LifeProTips|                 9530|\n",
      "|            Music|                 8775|\n",
      "|         hug life|                 8239|\n",
      "|          College|                 8226|\n",
      "|       Black Cops|                 8172|\n",
      "|       conspiracy|                 7527|\n",
      "|          : funny|                 6209|\n",
      "+-----------------+---------------------+\n",
      "only showing top 20 rows\n",
      "\n"
     ]
    }
   ],
   "source": [
    "import pyspark.sql.functions as f\n",
    "df.groupBy(\"subreddit\").agg(f.max(\"number_of_upvotes\").alias(\"max_number_of_upvotes\")).\\\n",
    "orderBy(-f.col(\"max_number_of_upvotes\")).show()"
   ]
  },
  {
   "cell_type": "code",
   "execution_count": null,
   "id": "ea6d3fc5",
   "metadata": {},
   "outputs": [],
   "source": []
  }
 ],
 "metadata": {
  "kernelspec": {
   "display_name": "Python 3",
   "language": "python",
   "name": "python3"
  },
  "language_info": {
   "codemirror_mode": {
    "name": "ipython",
    "version": 3
   },
   "file_extension": ".py",
   "mimetype": "text/x-python",
   "name": "python",
   "nbconvert_exporter": "python",
   "pygments_lexer": "ipython3",
   "version": "3.6.9"
  }
 },
 "nbformat": 4,
 "nbformat_minor": 5
}
