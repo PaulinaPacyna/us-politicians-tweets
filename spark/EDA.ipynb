{
 "cells": [
  {
   "cell_type": "code",
   "execution_count": 1,
   "id": "6b5ac11a",
   "metadata": {},
   "outputs": [],
   "source": [
    "import pyspark.sql.functions as f"
   ]
  },
  {
   "cell_type": "code",
   "execution_count": 2,
   "id": "da483f4c",
   "metadata": {
    "scrolled": true
   },
   "outputs": [
    {
     "data": {
      "text/html": [
       "\n",
       "            <div>\n",
       "                <p><b>SparkSession - hive</b></p>\n",
       "                \n",
       "        <div>\n",
       "            <p><b>SparkContext</b></p>\n",
       "\n",
       "            <p><a href=\"http://ip-172-31-89-17.ec2.internal:4041\">Spark UI</a></p>\n",
       "\n",
       "            <dl>\n",
       "              <dt>Version</dt>\n",
       "                <dd><code>v3.1.2</code></dd>\n",
       "              <dt>Master</dt>\n",
       "                <dd><code>local[*]</code></dd>\n",
       "              <dt>AppName</dt>\n",
       "                <dd><code>PySparkShell</code></dd>\n",
       "            </dl>\n",
       "        </div>\n",
       "        \n",
       "            </div>\n",
       "        "
      ],
      "text/plain": [
       "<pyspark.sql.session.SparkSession at 0x7fa0e4226d68>"
      ]
     },
     "execution_count": 2,
     "metadata": {},
     "output_type": "execute_result"
    }
   ],
   "source": [
    "spark"
   ]
  },
  {
   "cell_type": "code",
   "execution_count": 3,
   "id": "d109779f",
   "metadata": {},
   "outputs": [
    {
     "name": "stdout",
     "output_type": "stream",
     "text": [
      "+--------------+----+-------------------+----+--------------------+---------------+\n",
      "|extractionTime| geo|                 id|lang|                text|           user|\n",
      "+--------------+----+-------------------+----+--------------------+---------------+\n",
      "|    1639929240|null|1472596084853600263|  hi|@JoeBiden उत्तर प...|   mayankshukl1|\n",
      "|    1639929328|null|1472596451905531905| und|@Sen_JoeManchin ?...|    snowstars22|\n",
      "|    1639929571|null|1472597472530681860|  en|@Sen_JoeManchin ?...| mindfulliving1|\n",
      "|    1639929243|null|1472596097419730946|  en|@Sen_JoeManchin  ...|    FacedSchiff|\n",
      "|    1639929309|null|1472596372654276610|  en|@Sen_JoeManchin “...|       EricAEPA|\n",
      "|    1639929253|null|1472596139442688011|  en|@Sen_JoeManchin “...|       EricAEPA|\n",
      "|    1639929571|null|1472597472597979137|  en|@Sen_JoeManchin P...|       MWoody29|\n",
      "|    1639929284|null|1472596268430118916|  en|RT @TheDemocrats:...|   JKim30498725|\n",
      "|    1639929254|null|1472596143897034752|  en|RT @TheDemocrats:...|    lilmama4180|\n",
      "|    1639929287|null|1472596282229211138|  en|RT @PattyMurray: ...|TerriCh88780793|\n",
      "|    1639929337|null|1472596491306876928|  en|RT @TheDemocrats:...|     GloriaWear|\n",
      "|    1639929258|null|1472596158736441346|  en|RT @ChuckGrassley...|EinsteinKaleath|\n",
      "|    1639929247|null|1472596113525985285|  en|RT @TheDemocrats:...|KristinBeaucha3|\n",
      "|    1639929572|null|1472597476637122562|  en|@Sen_JoeManchin I...| GreatOdinsRa77|\n",
      "|    1639929600|null|1472597593297506309|  en|@Sen_JoeManchin Y...|      the_enema|\n",
      "|    1639929569|null|1472597463156592649|  en|@Sen_JoeManchin i...|   purpleH2Oski|\n",
      "|    1639929577|null|1472597496534908941|  en|RT @BIZPACReview:...| theoriginalCP1|\n",
      "|    1639929571|null|1472597470194675712|  en|RT @ChuckGrassley...|BellaMi35684856|\n",
      "|    1639929293|null|1472596307697143809|  en|@Sen_JoeManchin y...| PinkyTuscedero|\n",
      "|    1639929270|null|1472596210359975937|  en|RT @TomCottonAR: ...| janeanderson54|\n",
      "+--------------+----+-------------------+----+--------------------+---------------+\n",
      "only showing top 20 rows\n",
      "\n"
     ]
    }
   ],
   "source": [
    "df = spark.read.json(\"/home/ubuntu/temp-data\")\n",
    "df.show()"
   ]
  },
  {
   "cell_type": "code",
   "execution_count": 8,
   "id": "c64b0b56",
   "metadata": {},
   "outputs": [],
   "source": [
    "stopwords = [\"i\", \"me\", \"my\", \"myself\", \"we\", \"our\", \"ours\", \"ourselves\", \"you\", \"your\", \"yours\", \"yourself\", \"yourselves\", \"he\", \"him\", \"his\", \"himself\", \"she\", \"her\", \"hers\", \"herself\", \"it\", \"its\", \"itself\", \"they\", \"them\", \"their\", \"theirs\", \"themselves\", \"what\", \"which\", \"who\", \"whom\", \"this\", \"that\", \"these\", \"those\", \"am\", \"is\", \"are\", \"was\", \"were\", \"be\", \"been\", \"being\", \"have\", \"has\", \"had\", \"having\", \"do\", \"does\", \"did\", \"doing\", \"a\", \"an\", \"the\", \"and\", \"but\", \"if\", \"or\", \"because\", \"as\", \"until\", \"while\", \"of\", \"at\", \"by\", \"for\", \"with\", \"about\", \"against\", \"between\", \"into\", \"through\", \"during\", \"before\", \"after\", \"above\", \"below\", \"to\", \"from\", \"up\", \"down\", \"in\", \"out\", \"on\", \"off\", \"over\", \"under\", \"again\", \"further\", \"then\", \"once\", \"here\", \"there\", \"when\", \"where\", \"why\", \"how\", \"all\", \"any\", \"both\", \"each\", \"few\", \"more\", \"most\", \"other\", \"some\", \"such\", \"no\", \"nor\", \"not\", \"only\", \"own\", \"same\", \"so\", \"than\", \"too\", \"very\", \"s\", \"t\", \"can\", \"will\", \"just\", \"don\", \"should\", \"now\"]"
   ]
  },
  {
   "cell_type": "code",
   "execution_count": 12,
   "id": "db08c3ac",
   "metadata": {
    "scrolled": true
   },
   "outputs": [
    {
     "name": "stdout",
     "output_type": "stream",
     "text": [
      "+----------------+-----+\n",
      "|            word|count|\n",
      "+----------------+-----+\n",
      "| @Sen_JoeManchin|  149|\n",
      "|              RT|   79|\n",
      "|                |   33|\n",
      "|          @POTUS|   29|\n",
      "|             one|   25|\n",
      "|     @SenSchumer|   21|\n",
      "|@LindseyGrahamSC|   19|\n",
      "|       @JoeBiden|   17|\n",
      "|               .|   15|\n",
      "|          people|   14|\n",
      "|           going|   13|\n",
      "|          Senate|   12|\n",
      "|  @amyklobuchar:|   11|\n",
      "|            must|   11|\n",
      "|            Cruz|   11|\n",
      "|         federal|   11|\n",
      "|          Thanks|   11|\n",
      "|          agreed|   10|\n",
      "|           thro…|   10|\n",
      "|         session|   10|\n",
      "+----------------+-----+\n",
      "only showing top 20 rows\n",
      "\n"
     ]
    }
   ],
   "source": [
    "df.select(f.explode(f.split(\"text\", \" \")).alias(\"word\"))\\\n",
    ".filter(~f.lower(\"word\").isin(stopwords))\\\n",
    ".groupby(\"word\").count().orderBy(f.col(\"count\").desc()).show()"
   ]
  },
  {
   "cell_type": "code",
   "execution_count": 7,
   "id": "8c63fbdb",
   "metadata": {},
   "outputs": [
    {
     "data": {
      "text/plain": [
       "336"
      ]
     },
     "execution_count": 7,
     "metadata": {},
     "output_type": "execute_result"
    }
   ],
   "source": [
    "df.count()"
   ]
  },
  {
   "cell_type": "code",
   "execution_count": null,
   "id": "22992292",
   "metadata": {},
   "outputs": [],
   "source": []
  }
 ],
 "metadata": {
  "kernelspec": {
   "display_name": "Python 3",
   "language": "python",
   "name": "python3"
  },
  "language_info": {
   "codemirror_mode": {
    "name": "ipython",
    "version": 3
   },
   "file_extension": ".py",
   "mimetype": "text/x-python",
   "name": "python",
   "nbconvert_exporter": "python",
   "pygments_lexer": "ipython3",
   "version": "3.6.9"
  }
 },
 "nbformat": 4,
 "nbformat_minor": 5
}
