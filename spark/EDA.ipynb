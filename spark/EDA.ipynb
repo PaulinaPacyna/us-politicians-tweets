{
 "cells": [
  {
   "cell_type": "code",
   "execution_count": 1,
   "id": "6b5ac11a",
   "metadata": {},
   "outputs": [],
   "source": [
    "import pyspark.sql.functions as f"
   ]
  },
  {
   "cell_type": "code",
   "execution_count": 2,
   "id": "da483f4c",
   "metadata": {
    "scrolled": true
   },
   "outputs": [
    {
     "data": {
      "text/html": [
       "\n",
       "            <div>\n",
       "                <p><b>SparkSession - hive</b></p>\n",
       "                \n",
       "        <div>\n",
       "            <p><b>SparkContext</b></p>\n",
       "\n",
       "            <p><a href=\"http://ip-172-31-6-63.ec2.internal:4040\">Spark UI</a></p>\n",
       "\n",
       "            <dl>\n",
       "              <dt>Version</dt>\n",
       "                <dd><code>v3.1.2</code></dd>\n",
       "              <dt>Master</dt>\n",
       "                <dd><code>local[*]</code></dd>\n",
       "              <dt>AppName</dt>\n",
       "                <dd><code>PySparkShell</code></dd>\n",
       "            </dl>\n",
       "        </div>\n",
       "        \n",
       "            </div>\n",
       "        "
      ],
      "text/plain": [
       "<pyspark.sql.session.SparkSession at 0x7f235c9ef400>"
      ]
     },
     "execution_count": 2,
     "metadata": {},
     "output_type": "execute_result"
    }
   ],
   "source": [
    "spark"
   ]
  },
  {
   "cell_type": "code",
   "execution_count": 3,
   "id": "d109779f",
   "metadata": {},
   "outputs": [
    {
     "name": "stdout",
     "output_type": "stream",
     "text": [
      "+--------------+----+-------------------+----+------------------------------+---------------+\n",
      "|extractionTime| geo|                 id|lang|                          text|           user|\n",
      "+--------------+----+-------------------+----+------------------------------+---------------+\n",
      "|    1639926584|null|1472584944698499073| und|          @Sen_JoeManchin ?...|     TopcatHuff|\n",
      "|    1639926547|null|1472584789505028104| und|          @Sen_JoeManchin =...|    Retrievals1|\n",
      "|    1639929022|null|1472595168285310981|  ja|@POTUS 私が大統領に就任して...|    Xmyqh597God|\n",
      "|    1639928268|null|1472592005180301312|  ja|@POTUS どのクラスも卒業する...|    Xmyqh597God|\n",
      "|    1639927408|null|1472588397696851969|  hi|          @JoeBiden #पढ़ी_ल...|  aao_deen_jane|\n",
      "|    1639927413|null|1472588421310808068|  hi|          @POTUS @JoeBiden ...|  aao_deen_jane|\n",
      "|    1639927382|null|1472588292486877184|  hi|          @HillaryClinton @...|  aao_deen_jane|\n",
      "|    1639927395|null|1472588346874425345|  hi|          @MichelleObama @O...|  aao_deen_jane|\n",
      "|    1639926916|null|1472586335487672330|  en|          @Sen_JoeManchin ?...|    MikeyOZPK15|\n",
      "|    1639925938|null|1472582235534594052|  ru|          @JoeBiden чо там ...| nbstfgjgdre111|\n",
      "|    1639929240|null|1472596084853600263|  hi|          @JoeBiden उत्तर प...|   mayankshukl1|\n",
      "|    1639926073|null|1472582800884879361|  en|          @Sen_JoeManchin \n",
      "...|  sabine_durden|\n",
      "|    1639928876|null|1472594558827433987|  en|          @Sen_JoeManchin \n",
      "...|     Mufflah_69|\n",
      "|    1639929200|null|1472595914552655872|  ja|   @JoeBiden 浜崎に殺されそ...|uMCNZVET53Kwqae|\n",
      "|    1639926056|null|1472582729560571908|  ru|          @POTUS @pevchikh ...|    AVenidiktov|\n",
      "|    1639925818|null|1472581729777033228|  en|          @Sen_JoeManchin ?...|  Becca68225663|\n",
      "|    1639929328|null|1472596451905531905| und|          @Sen_JoeManchin ?...|    snowstars22|\n",
      "|    1639926469|null|1472584462433230852|  en|          @Sen_JoeManchin T...| PatriciaDeBow1|\n",
      "|    1639929205|null|1472595938837340176|  en|          @tedcruz CRUZ 👀:...|   hugo_pleites|\n",
      "|    1639927442|null|1472588543562297344|  en|          @Sen_JoeManchin B...|   marciajmccoy|\n",
      "+--------------+----+-------------------+----+------------------------------+---------------+\n",
      "only showing top 20 rows\n",
      "\n"
     ]
    },
    {
     "data": {
      "text/plain": [
       "8219"
      ]
     },
     "execution_count": 3,
     "metadata": {},
     "output_type": "execute_result"
    }
   ],
   "source": [
    "df = spark.read.json(\"/home/ubuntu/temp-data\")\n",
    "df.show()\n",
    "df.count()"
   ]
  },
  {
   "cell_type": "code",
   "execution_count": 4,
   "id": "7c05c398",
   "metadata": {},
   "outputs": [
    {
     "name": "stdout",
     "output_type": "stream",
     "text": [
      "+--------------+----+-------------------+----+--------------------+---------------+\n",
      "|extractionTime| geo|                 id|lang|                text|           user|\n",
      "+--------------+----+-------------------+----+--------------------+---------------+\n",
      "|    1639926584|null|1472584944698499073| und|@SenJoeManchin  h...|     TopcatHuff|\n",
      "|    1639926547|null|1472584789505028104| und|    @SenJoeManchin  |    Retrievals1|\n",
      "|    1639929022|null|1472595168285310981|  ja|    @POTUS 60021969 |    Xmyqh597God|\n",
      "|    1639928268|null|1472592005180301312|  ja|@POTUS 2021 https...|    Xmyqh597God|\n",
      "|    1639927408|null|1472588397696851969|  hi|@JoeBiden        ...|  aao_deen_jane|\n",
      "|    1639927413|null|1472588421310808068|  hi|@POTUS @JoeBiden ...|  aao_deen_jane|\n",
      "|    1639927382|null|1472588292486877184|  hi|@HillaryClinton @...|  aao_deen_jane|\n",
      "|    1639927395|null|1472588346874425345|  hi|@MichelleObama @O...|  aao_deen_jane|\n",
      "|    1639926916|null|1472586335487672330|  en|@SenJoeManchin On...|    MikeyOZPK15|\n",
      "|    1639925938|null|1472582235534594052|  ru|@JoeBiden        ...| nbstfgjgdre111|\n",
      "|    1639929240|null|1472596084853600263|  hi|@JoeBiden      @m...|   mayankshukl1|\n",
      "|    1639926073|null|1472582800884879361|  en|@SenJoeManchin th...|  sabine_durden|\n",
      "|    1639928876|null|1472594558827433987|  en|@SenJoeManchin Th...|     Mufflah_69|\n",
      "|    1639929200|null|1472595914552655872|  ja|          @JoeBiden |uMCNZVET53Kwqae|\n",
      "|    1639926056|null|1472582729560571908|  ru|@POTUS @pevchikh ...|    AVenidiktov|\n",
      "|    1639925818|null|1472581729777033228|  en| @SenJoeManchin This|  Becca68225663|\n",
      "|    1639929328|null|1472596451905531905| und|     @SenJoeManchin |    snowstars22|\n",
      "|    1639926469|null|1472584462433230852|  en|@SenJoeManchin Tr...| PatriciaDeBow1|\n",
      "|    1639929205|null|1472595938837340176|  en|@tedcruz CRUZ  UN...|   hugo_pleites|\n",
      "|    1639927442|null|1472588543562297344|  en|@SenJoeManchin BB...|   marciajmccoy|\n",
      "+--------------+----+-------------------+----+--------------------+---------------+\n",
      "only showing top 20 rows\n",
      "\n"
     ]
    }
   ],
   "source": [
    "df = df.withColumn(\"text\", f.regexp_replace(f.col(\"text\"), \"[^A-Za-z0-9@ ]\", \"\"))\n",
    "df.show()"
   ]
  },
  {
   "cell_type": "code",
   "execution_count": 5,
   "id": "c64b0b56",
   "metadata": {},
   "outputs": [],
   "source": [
    "stopwords = [\"i\", \"me\", \"my\", \"myself\", \"we\", \"our\", \"ours\", \"ourselves\", \"you\", \"your\", \"yours\", \"yourself\", \"yourselves\", \"he\", \"him\", \"his\", \"himself\", \"she\", \"her\", \"hers\", \"herself\", \"it\", \"its\", \"itself\", \"they\", \"them\", \"their\", \"theirs\", \"themselves\", \"what\", \"which\", \"who\", \"whom\", \"this\", \"that\", \"these\", \"those\", \"am\", \"is\", \"are\", \"was\", \"were\", \"be\", \"been\", \"being\", \"have\", \"has\", \"had\", \"having\", \"do\", \"does\", \"did\", \"doing\", \"a\", \"an\", \"the\", \"and\", \"but\", \"if\", \"or\", \"because\", \"as\", \"until\", \"while\", \"of\", \"at\", \"by\", \"for\", \"with\", \"about\", \"against\", \"between\", \"into\", \"through\", \"during\", \"before\", \"after\", \"above\", \"below\", \"to\", \"from\", \"up\", \"down\", \"in\", \"out\", \"on\", \"off\", \"over\", \"under\", \"again\", \"further\", \"then\", \"once\", \"here\", \"there\", \"when\", \"where\", \"why\", \"how\", \"all\", \"any\", \"both\", \"each\", \"few\", \"more\", \"most\", \"other\", \"some\", \"such\", \"no\", \"nor\", \"not\", \"only\", \"own\", \"same\", \"so\", \"than\", \"too\", \"very\", \"s\", \"t\", \"can\", \"will\", \"just\", \"don\", \"should\", \"now\"]"
   ]
  },
  {
   "cell_type": "code",
   "execution_count": 6,
   "id": "db08c3ac",
   "metadata": {
    "scrolled": true
   },
   "outputs": [
    {
     "name": "stdout",
     "output_type": "stream",
     "text": [
      "+--------+-----+\n",
      "|    word|count|\n",
      "+--------+-----+\n",
      "|        | 2656|\n",
      "|      rt| 1563|\n",
      "| manchin|  472|\n",
      "|  people|  461|\n",
      "|    must|  449|\n",
      "|    back|  429|\n",
      "|   party|  420|\n",
      "|    vote|  388|\n",
      "|     one|  386|\n",
      "|     joe|  375|\n",
      "|  better|  369|\n",
      "|     get|  360|\n",
      "|democrat|  350|\n",
      "|   youre|  309|\n",
      "|    dont|  302|\n",
      "|   build|  301|\n",
      "|    mask|  290|\n",
      "|     bbb|  277|\n",
      "|   would|  268|\n",
      "| senator|  259|\n",
      "+--------+-----+\n",
      "only showing top 20 rows\n",
      "\n"
     ]
    }
   ],
   "source": [
    "words = df.select(f.explode(f.split(\"text\", \" \")).alias(\"word\"), \"id\")\\\n",
    ".select(f.lower(\"word\").alias(\"word\"), \"id\")\\\n",
    ".filter(~f.lower(\"word\").isin(stopwords))\n",
    "\n",
    "words.filter(~f.col(\"word\").startswith(\"@\")).groupby(\"word\").count().orderBy(f.desc(\"count\")).show()"
   ]
  },
  {
   "cell_type": "code",
   "execution_count": 7,
   "id": "8c63fbdb",
   "metadata": {},
   "outputs": [
    {
     "name": "stdout",
     "output_type": "stream",
     "text": [
      "+-------------------+--------------------+\n",
      "|                 id|                text|\n",
      "+-------------------+--------------------+\n",
      "|1472582346029293578|rt @thedemocrats ...|\n",
      "|1472582970590601217|@senblumenthal sa...|\n",
      "|1472592728060055569|@lindseygrahamsc ...|\n",
      "|1472589476530728960|@senjoemanchin @s...|\n",
      "|1472583138752749573|@senjoemanchin ma...|\n",
      "|1472594552892629002|rt @thedemocrats ...|\n",
      "|1472596619975704576|@joebiden look re...|\n",
      "|1472587458659463169|@senschumer manch...|\n",
      "|1472587098456797188|@potus hypocritic...|\n",
      "|1472593009199960069|@tedcruz wow sick...|\n",
      "|1472583260945403911|@potus dont 300k ...|\n",
      "|1472596424869220353|rt @tedcruz  offi...|\n",
      "|1472593611543830530|@senjoemanchin @w...|\n",
      "|1472583625405353988|@senjoemanchin gr...|\n",
      "|1472597546874949633|@senjoemanchin of...|\n",
      "|1472589004042350592|@senjoemanchin de...|\n",
      "|1472592485708967941|rt @senwarren mak...|\n",
      "|1472586136165961735|rt @senwarren mak...|\n",
      "|1472585067058847755|@joemanchinwv tha...|\n",
      "|1472583949562126346|rt @tedcruz  offi...|\n",
      "+-------------------+--------------------+\n",
      "only showing top 20 rows\n",
      "\n"
     ]
    }
   ],
   "source": [
    "df = words.groupby(\"id\").agg(f.concat_ws(\" \", f.collect_list(\"word\")).alias(\"text\"))\n",
    "df.show()"
   ]
  },
  {
   "cell_type": "code",
   "execution_count": 8,
   "id": "22992292",
   "metadata": {},
   "outputs": [
    {
     "data": {
      "text/plain": [
       "[Row(id=1472582346029293578, text='rt @thedemocrats battles must pass freedom vote act john lewis voting rights act must president', words=['rt', '@thedemocrats', 'battles', 'must', 'pass', 'freedom', 'vote', 'act', 'john', 'lewis', 'voting', 'rights', 'act', 'must', 'president'], rawFeatures=SparseVector(200, {14: 1.0, 23: 2.0, 46: 1.0, 57: 1.0, 69: 1.0, 101: 2.0, 106: 1.0, 128: 2.0, 132: 1.0, 183: 1.0, 190: 1.0, 192: 1.0}), features=SparseVector(200, {14: 2.2153, 23: 4.6519, 46: 3.3867, 57: 2.7471, 69: 3.5547, 101: 4.2823, 106: 2.8853, 128: 4.9236, 132: 2.8447, 183: 1.5188, 190: 3.0901, 192: 3.294})),\n",
       " Row(id=1472582970590601217, text='@senblumenthal say continue working referring communist party credentials p httpstcojl17bvmnka', words=['@senblumenthal', 'say', 'continue', 'working', 'referring', 'communist', 'party', 'credentials', 'p', 'httpstcojl17bvmnka'], rawFeatures=SparseVector(200, {62: 1.0, 90: 1.0, 91: 1.0, 143: 1.0, 161: 1.0, 168: 1.0, 169: 1.0, 172: 1.0, 179: 1.0, 184: 1.0}), features=SparseVector(200, {62: 3.3939, 90: 3.2973, 91: 3.4849, 143: 2.5085, 161: 3.8158, 168: 3.0559, 169: 3.2336, 172: 1.8161, 179: 2.5041, 184: 3.6672})),\n",
       " Row(id=1472592728060055569, text='@lindseygrahamsc @robertkroupa dont forget changed bill wasnt real bill lying unbecomin httpstco3r4yek89js', words=['@lindseygrahamsc', '@robertkroupa', 'dont', 'forget', 'changed', 'bill', 'wasnt', 'real', 'bill', 'lying', 'unbecomin', 'httpstco3r4yek89js'], rawFeatures=SparseVector(200, {6: 1.0, 29: 1.0, 38: 1.0, 56: 1.0, 91: 1.0, 131: 1.0, 135: 2.0, 139: 1.0, 146: 1.0, 177: 1.0, 191: 1.0}), features=SparseVector(200, {6: 3.0611, 29: 2.5529, 38: 2.8809, 56: 2.0799, 91: 3.4849, 131: 3.9517, 135: 5.5248, 139: 2.9276, 146: 3.3724, 177: 3.1008, 191: 3.1338})),\n",
       " Row(id=1472589476530728960, text='@senjoemanchin @secbecerra  hateful man mr manchin youve become even worse mitch comes screwin httpstcodziczb4grl', words=['@senjoemanchin', '@secbecerra', '', 'hateful', 'man', 'mr', 'manchin', 'youve', 'become', 'even', 'worse', 'mitch', 'comes', 'screwin', 'httpstcodziczb4grl'], rawFeatures=SparseVector(200, {6: 1.0, 26: 1.0, 47: 1.0, 50: 1.0, 56: 1.0, 65: 1.0, 76: 2.0, 86: 1.0, 90: 1.0, 109: 1.0, 137: 1.0, 164: 1.0, 169: 1.0, 172: 1.0}), features=SparseVector(200, {6: 3.0611, 26: 0.6949, 47: 3.6207, 50: 3.2745, 56: 2.0799, 65: 3.6116, 76: 7.7571, 86: 2.8831, 90: 3.2973, 109: 3.9145, 137: 2.8489, 164: 2.5639, 169: 3.2336, 172: 1.8161})),\n",
       " Row(id=1472583138752749573, text='@senjoemanchin maybe state get tax payers teat dont want vote help state httpstcodtysnfrgzn', words=['@senjoemanchin', 'maybe', 'state', 'get', 'tax', 'payers', 'teat', 'dont', 'want', 'vote', 'help', 'state', 'httpstcodtysnfrgzn'], rawFeatures=SparseVector(200, {8: 2.0, 9: 1.0, 14: 1.0, 18: 1.0, 26: 2.0, 68: 1.0, 73: 1.0, 112: 1.0, 147: 1.0, 177: 1.0, 187: 1.0}), features=SparseVector(200, {8: 6.1909, 9: 3.1795, 14: 2.2153, 18: 3.9904, 26: 1.3897, 68: 3.7621, 73: 3.8325, 112: 2.5176, 147: 3.1254, 177: 3.1008, 187: 3.3006}))]"
      ]
     },
     "execution_count": 8,
     "metadata": {},
     "output_type": "execute_result"
    }
   ],
   "source": [
    "from pyspark.ml.feature import Tokenizer, HashingTF, IDF\n",
    "tokenizer = Tokenizer(inputCol=\"text\", outputCol=\"words\")\n",
    "wordsData = tokenizer.transform(df)\n",
    "hashingTF = HashingTF(inputCol=\"words\", outputCol=\"rawFeatures\", numFeatures=200)\n",
    "featurizedData = hashingTF.transform(wordsData)\n",
    "# alternatively, CountVectorizer can also be used to get term frequency vectors\n",
    "\n",
    "idf = IDF(inputCol=\"rawFeatures\", outputCol=\"features\")\n",
    "idfModel = idf.fit(featurizedData)\n",
    "rescaledData = idfModel.transform(featurizedData)\n",
    "rescaledData.limit(5).collect()"
   ]
  },
  {
   "cell_type": "code",
   "execution_count": 9,
   "id": "6e8660c7",
   "metadata": {},
   "outputs": [],
   "source": [
    "from pyspark.ml import Pipeline\n",
    "from pyspark.ml.feature import Tokenizer, Normalizer, StopWordsRemover"
   ]
  },
  {
   "cell_type": "code",
   "execution_count": 11,
   "id": "76ece113",
   "metadata": {},
   "outputs": [
    {
     "name": "stdout",
     "output_type": "stream",
     "text": [
      "+-------------------+--------------------+--------------------+--------------------+\n",
      "|                 id|                text|              tokens|                 out|\n",
      "+-------------------+--------------------+--------------------+--------------------+\n",
      "|1472582346029293578|rt @thedemocrats ...|[rt, @thedemocrat...|[rt, @thedemocrat...|\n",
      "|1472582970590601217|@senblumenthal sa...|[@senblumenthal, ...|[@senblumenthal, ...|\n",
      "|1472592728060055569|@lindseygrahamsc ...|[@lindseygrahamsc...|[@lindseygrahamsc...|\n",
      "|1472589476530728960|@senjoemanchin @s...|[@senjoemanchin, ...|[@senjoemanchin, ...|\n",
      "|1472583138752749573|@senjoemanchin ma...|[@senjoemanchin, ...|[@senjoemanchin, ...|\n",
      "|1472594552892629002|rt @thedemocrats ...|[rt, @thedemocrat...|[rt, @thedemocrat...|\n",
      "|1472596619975704576|@joebiden look re...|[@joebiden, look,...|[@joebiden, look,...|\n",
      "|1472587458659463169|@senschumer manch...|[@senschumer, man...|[@senschumer, man...|\n",
      "|1472587098456797188|@potus hypocritic...|[@potus, hypocrit...|[@potus, hypocrit...|\n",
      "|1472593009199960069|@tedcruz wow sick...|[@tedcruz, wow, s...|[@tedcruz, wow, s...|\n",
      "|1472583260945403911|@potus dont 300k ...|[@potus, dont, 30...|[@potus, dont, 30...|\n",
      "|1472596424869220353|rt @tedcruz  offi...|[rt, @tedcruz, , ...|[rt, @tedcruz, , ...|\n",
      "|1472593611543830530|@senjoemanchin @w...|[@senjoemanchin, ...|[@senjoemanchin, ...|\n",
      "|1472583625405353988|@senjoemanchin gr...|[@senjoemanchin, ...|[@senjoemanchin, ...|\n",
      "|1472597546874949633|@senjoemanchin of...|[@senjoemanchin, ...|[@senjoemanchin, ...|\n",
      "|1472589004042350592|@senjoemanchin de...|[@senjoemanchin, ...|[@senjoemanchin, ...|\n",
      "|1472592485708967941|rt @senwarren mak...|[rt, @senwarren, ...|[rt, @senwarren, ...|\n",
      "|1472586136165961735|rt @senwarren mak...|[rt, @senwarren, ...|[rt, @senwarren, ...|\n",
      "|1472585067058847755|@joemanchinwv tha...|[@joemanchinwv, t...|[@joemanchinwv, t...|\n",
      "|1472583949562126346|rt @tedcruz  offi...|[rt, @tedcruz, , ...|[rt, @tedcruz, , ...|\n",
      "+-------------------+--------------------+--------------------+--------------------+\n",
      "only showing top 20 rows\n",
      "\n"
     ]
    }
   ],
   "source": [
    "tokenizer = Tokenizer(inputCol=\"text\", outputCol=\"tokens\")\n",
    "stopwords_cleaner = StopWordsRemover(inputCol=\"tokens\", outputCol=\"out\")\n",
    "nlp_pipeline = Pipeline(\n",
    "    stages=[tokenizer,\n",
    "            stopwords_cleaner])\n",
    "nlp_model = nlp_pipeline.fit(df)\n",
    "processed_df  = nlp_model.transform(df)\n",
    "processed_df.show()"
   ]
  },
  {
   "cell_type": "code",
   "execution_count": 12,
   "id": "ddc9411d",
   "metadata": {},
   "outputs": [
    {
     "name": "stdout",
     "output_type": "stream",
     "text": [
      "+-------------------+--------------------+--------------------+--------------------+--------------------+\n",
      "|                 id|                text|              tokens|                 out|            features|\n",
      "+-------------------+--------------------+--------------------+--------------------+--------------------+\n",
      "|1472582346029293578|rt @thedemocrats ...|[rt, @thedemocrat...|[rt, @thedemocrat...|(500,[2,7,11,29,3...|\n",
      "|1472582970590601217|@senblumenthal sa...|[@senblumenthal, ...|[@senblumenthal, ...|(500,[10,80,107,1...|\n",
      "|1472592728060055569|@lindseygrahamsc ...|[@lindseygrahamsc...|[@lindseygrahamsc...|(500,[8,21,41,256...|\n",
      "|1472589476530728960|@senjoemanchin @s...|[@senjoemanchin, ...|[@senjoemanchin, ...|(500,[0,1,5,111,1...|\n",
      "|1472583138752749573|@senjoemanchin ma...|[@senjoemanchin, ...|[@senjoemanchin, ...|(500,[0,11,15,21,...|\n",
      "|1472594552892629002|rt @thedemocrats ...|[rt, @thedemocrat...|[rt, @thedemocrat...|(500,[2,34,53,76,...|\n",
      "|1472596619975704576|@joebiden look re...|[@joebiden, look,...|[@joebiden, look,...|(500,[18,356],[1....|\n",
      "|1472587458659463169|@senschumer manch...|[@senschumer, man...|[@senschumer, man...|(500,[5,17,90,92,...|\n",
      "|1472587098456797188|@potus hypocritic...|[@potus, hypocrit...|[@potus, hypocrit...|(500,[1,3,10,85],...|\n",
      "|1472593009199960069|@tedcruz wow sick...|[@tedcruz, wow, s...|[@tedcruz, wow, s...|(500,[4,74,456],[...|\n",
      "|1472583260945403911|@potus dont 300k ...|[@potus, dont, 30...|[@potus, dont, 30...|(500,[3,21,29,70,...|\n",
      "|1472596424869220353|rt @tedcruz  offi...|[rt, @tedcruz, , ...|[rt, @tedcruz, , ...|(500,[1,2,4,7,10,...|\n",
      "|1472593611543830530|@senjoemanchin @w...|[@senjoemanchin, ...|[@senjoemanchin, ...|(500,[0,13,24,36,...|\n",
      "|1472583625405353988|@senjoemanchin gr...|[@senjoemanchin, ...|[@senjoemanchin, ...|(500,[0,6,13,24,6...|\n",
      "|1472597546874949633|@senjoemanchin of...|[@senjoemanchin, ...|[@senjoemanchin, ...|(500,[0,9,14,22,4...|\n",
      "|1472589004042350592|@senjoemanchin de...|[@senjoemanchin, ...|[@senjoemanchin, ...|(500,[0,6,16,24,4...|\n",
      "|1472592485708967941|rt @senwarren mak...|[rt, @senwarren, ...|[rt, @senwarren, ...|(500,[2,50,51,87,...|\n",
      "|1472586136165961735|rt @senwarren mak...|[rt, @senwarren, ...|[rt, @senwarren, ...|(500,[2,50,51,87,...|\n",
      "|1472585067058847755|@joemanchinwv tha...|[@joemanchinwv, t...|[@joemanchinwv, t...|(500,[44,101,106,...|\n",
      "|1472583949562126346|rt @tedcruz  offi...|[rt, @tedcruz, , ...|[rt, @tedcruz, , ...|(500,[1,2,4,7,10,...|\n",
      "+-------------------+--------------------+--------------------+--------------------+--------------------+\n",
      "only showing top 20 rows\n",
      "\n"
     ]
    }
   ],
   "source": [
    "from pyspark.ml.feature import CountVectorizer\n",
    "cv = CountVectorizer(inputCol=\"out\", outputCol=\"features\", vocabSize=500, minDF=3.0)\n",
    "cv_model = cv.fit(processed_df)\n",
    "vectorized_tokens = cv_model.transform(processed_df)\n",
    "vectorized_tokens.show()"
   ]
  },
  {
   "cell_type": "code",
   "execution_count": null,
   "id": "f0f0009a",
   "metadata": {},
   "outputs": [],
   "source": [
    "from pyspark.ml.clustering import LDA\n",
    "lda = LDA(k=5, maxIter=100)\n",
    "model = lda.fit(vectorized_tokens)"
   ]
  },
  {
   "cell_type": "code",
   "execution_count": null,
   "id": "36946c28",
   "metadata": {},
   "outputs": [],
   "source": [
    "for indices in model.describeTopics(20).select(\"termIndices\").rdd.flatMap(lambda x: x ).collect():\n",
    "    print([cv_model.vocabulary[i] for i in indices])"
   ]
  },
  {
   "cell_type": "code",
   "execution_count": null,
   "id": "0eacf031",
   "metadata": {},
   "outputs": [],
   "source": [
    "cv_model.vocabulary"
   ]
  },
  {
   "cell_type": "code",
   "execution_count": null,
   "id": "d26a0c29",
   "metadata": {},
   "outputs": [],
   "source": []
  },
  {
   "cell_type": "code",
   "execution_count": null,
   "id": "360b023a",
   "metadata": {},
   "outputs": [],
   "source": []
  },
  {
   "cell_type": "code",
   "execution_count": null,
   "id": "d5d66430",
   "metadata": {},
   "outputs": [],
   "source": []
  },
  {
   "cell_type": "code",
   "execution_count": null,
   "id": "44af4943",
   "metadata": {},
   "outputs": [],
   "source": []
  },
  {
   "cell_type": "code",
   "execution_count": null,
   "id": "3156d321",
   "metadata": {},
   "outputs": [],
   "source": []
  },
  {
   "cell_type": "code",
   "execution_count": null,
   "id": "b4b41b97",
   "metadata": {},
   "outputs": [],
   "source": []
  },
  {
   "cell_type": "code",
   "execution_count": null,
   "id": "cf5e9908",
   "metadata": {},
   "outputs": [],
   "source": []
  },
  {
   "cell_type": "code",
   "execution_count": null,
   "id": "8632a44e",
   "metadata": {},
   "outputs": [],
   "source": []
  },
  {
   "cell_type": "code",
   "execution_count": null,
   "id": "4c202397",
   "metadata": {},
   "outputs": [],
   "source": []
  },
  {
   "cell_type": "code",
   "execution_count": null,
   "id": "5c5b86cb",
   "metadata": {},
   "outputs": [],
   "source": []
  },
  {
   "cell_type": "code",
   "execution_count": null,
   "id": "f1b8b7e7",
   "metadata": {},
   "outputs": [],
   "source": []
  },
  {
   "cell_type": "code",
   "execution_count": null,
   "id": "04845e8d",
   "metadata": {},
   "outputs": [],
   "source": []
  },
  {
   "cell_type": "code",
   "execution_count": null,
   "id": "f84db1d0",
   "metadata": {},
   "outputs": [],
   "source": []
  },
  {
   "cell_type": "code",
   "execution_count": null,
   "id": "efe2e064",
   "metadata": {},
   "outputs": [],
   "source": []
  },
  {
   "cell_type": "code",
   "execution_count": null,
   "id": "fb4c6671",
   "metadata": {},
   "outputs": [],
   "source": []
  },
  {
   "cell_type": "code",
   "execution_count": null,
   "id": "173e6006",
   "metadata": {},
   "outputs": [],
   "source": []
  },
  {
   "cell_type": "code",
   "execution_count": null,
   "id": "4933ba0c",
   "metadata": {},
   "outputs": [],
   "source": []
  },
  {
   "cell_type": "code",
   "execution_count": null,
   "id": "12e1aef5",
   "metadata": {},
   "outputs": [],
   "source": []
  },
  {
   "cell_type": "code",
   "execution_count": null,
   "id": "04227091",
   "metadata": {},
   "outputs": [],
   "source": []
  },
  {
   "cell_type": "code",
   "execution_count": null,
   "id": "0be22a90",
   "metadata": {},
   "outputs": [],
   "source": []
  },
  {
   "cell_type": "code",
   "execution_count": null,
   "id": "25badb4a",
   "metadata": {},
   "outputs": [],
   "source": []
  },
  {
   "cell_type": "code",
   "execution_count": null,
   "id": "39584288",
   "metadata": {},
   "outputs": [],
   "source": []
  },
  {
   "cell_type": "code",
   "execution_count": null,
   "id": "1bbe9dc2",
   "metadata": {},
   "outputs": [],
   "source": []
  },
  {
   "cell_type": "code",
   "execution_count": null,
   "id": "7600ab44",
   "metadata": {},
   "outputs": [],
   "source": []
  },
  {
   "cell_type": "code",
   "execution_count": null,
   "id": "ab2249cc",
   "metadata": {},
   "outputs": [],
   "source": []
  },
  {
   "cell_type": "code",
   "execution_count": null,
   "id": "84ad617a",
   "metadata": {},
   "outputs": [],
   "source": []
  },
  {
   "cell_type": "code",
   "execution_count": null,
   "id": "2ce2de16",
   "metadata": {},
   "outputs": [],
   "source": []
  },
  {
   "cell_type": "code",
   "execution_count": null,
   "id": "42bcc48e",
   "metadata": {},
   "outputs": [],
   "source": []
  },
  {
   "cell_type": "code",
   "execution_count": null,
   "id": "64c3fe00",
   "metadata": {},
   "outputs": [],
   "source": []
  }
 ],
 "metadata": {
  "kernelspec": {
   "display_name": "Python 3",
   "language": "python",
   "name": "python3"
  },
  "language_info": {
   "codemirror_mode": {
    "name": "ipython",
    "version": 3
   },
   "file_extension": ".py",
   "mimetype": "text/x-python",
   "name": "python",
   "nbconvert_exporter": "python",
   "pygments_lexer": "ipython3",
   "version": "3.6.9"
  }
 },
 "nbformat": 4,
 "nbformat_minor": 5
}
