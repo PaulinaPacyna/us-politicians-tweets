{
 "cells": [
  {
   "cell_type": "markdown",
   "id": "1c103e12",
   "metadata": {},
   "source": [
    "# 0. Libraries and spark session"
   ]
  },
  {
   "cell_type": "code",
   "execution_count": 1,
   "id": "95a9b339",
   "metadata": {},
   "outputs": [
    {
     "name": "stdout",
     "output_type": "stream",
     "text": [
      "Requirement already satisfied: spark-nlp==3.3.4 in /usr/local/lib/python3.6/dist-packages\n",
      "Note: you may need to restart the kernel to use updated packages.\n"
     ]
    }
   ],
   "source": [
    "pip install spark-nlp==3.3.4"
   ]
  },
  {
   "cell_type": "code",
   "execution_count": 2,
   "id": "c32acb2d",
   "metadata": {},
   "outputs": [
    {
     "name": "stdout",
     "output_type": "stream",
     "text": [
      "Requirement already satisfied: numpy in /usr/local/lib/python3.6/dist-packages\n",
      "Requirement already satisfied: pandas in /usr/local/lib/python3.6/dist-packages\n",
      "Requirement already satisfied: nltk in /usr/local/lib/python3.6/dist-packages\n",
      "Requirement already satisfied: pytz>=2017.2 in /usr/local/lib/python3.6/dist-packages (from pandas)\n",
      "Requirement already satisfied: python-dateutil>=2.7.3 in /usr/local/lib/python3.6/dist-packages (from pandas)\n",
      "Requirement already satisfied: regex>=2021.8.3 in /usr/local/lib/python3.6/dist-packages (from nltk)\n",
      "Requirement already satisfied: click in /usr/lib/python3/dist-packages (from nltk)\n",
      "Requirement already satisfied: joblib in /usr/local/lib/python3.6/dist-packages (from nltk)\n",
      "Requirement already satisfied: tqdm in /usr/local/lib/python3.6/dist-packages (from nltk)\n",
      "Requirement already satisfied: six>=1.5 in /usr/lib/python3/dist-packages (from python-dateutil>=2.7.3->pandas)\n",
      "Note: you may need to restart the kernel to use updated packages.\n"
     ]
    }
   ],
   "source": [
    "pip install numpy pandas nltk"
   ]
  },
  {
   "cell_type": "code",
   "execution_count": 3,
   "id": "da483f4c",
   "metadata": {
    "scrolled": true
   },
   "outputs": [
    {
     "data": {
      "text/html": [
       "\n",
       "            <div>\n",
       "                <p><b>SparkSession - hive</b></p>\n",
       "                \n",
       "        <div>\n",
       "            <p><b>SparkContext</b></p>\n",
       "\n",
       "            <p><a href=\"http://ip-172-31-11-226.ec2.internal:4040\">Spark UI</a></p>\n",
       "\n",
       "            <dl>\n",
       "              <dt>Version</dt>\n",
       "                <dd><code>v3.1.2</code></dd>\n",
       "              <dt>Master</dt>\n",
       "                <dd><code>local[*]</code></dd>\n",
       "              <dt>AppName</dt>\n",
       "                <dd><code>Spark NLP</code></dd>\n",
       "            </dl>\n",
       "        </div>\n",
       "        \n",
       "            </div>\n",
       "        "
      ],
      "text/plain": [
       "<pyspark.sql.session.SparkSession at 0x7f0f496bcf28>"
      ]
     },
     "execution_count": 3,
     "metadata": {},
     "output_type": "execute_result"
    }
   ],
   "source": [
    "spark.stop()\n",
    "spark = SparkSession.builder \\\n",
    "    .appName(\"Spark NLP\")\\\n",
    "    .master(\"local[*]\")\\\n",
    "    .config(\"spark.driver.memory\",\"4G\")\\\n",
    "    .config(\"spark.driver.maxResultSize\", \"0\") \\\n",
    "    .config(\"spark.kryoserializer.buffer.max\", \"2000M\")\\\n",
    "    .config(\"spark.jars.packages\", \"com.johnsnowlabs.nlp:spark-nlp_2.12:3.3.4\")\\\n",
    "    .getOrCreate()\n",
    "spark"
   ]
  },
  {
   "cell_type": "code",
   "execution_count": 4,
   "id": "6b5ac11a",
   "metadata": {},
   "outputs": [
    {
     "name": "stderr",
     "output_type": "stream",
     "text": [
      "[nltk_data] Downloading package stopwords to /root/nltk_data...\n",
      "[nltk_data]   Package stopwords is already up-to-date!\n"
     ]
    },
    {
     "data": {
      "text/plain": [
       "True"
      ]
     },
     "execution_count": 4,
     "metadata": {},
     "output_type": "execute_result"
    }
   ],
   "source": [
    "from sparknlp.annotator import LemmatizerModel\n",
    "import pyspark.sql.functions as f\n",
    "from pyspark.ml.feature import Tokenizer as pysparkTokenizer, HashingTF, StopWordsRemover, CountVectorizer\n",
    "from pyspark.ml import Pipeline\n",
    "from sparknlp.base import DocumentAssembler, Finisher\n",
    "from sparknlp.annotator import Tokenizer, Normalizer, LemmatizerModel, StopWordsCleaner, PerceptronModel, Chunker\n",
    "from pyspark.ml.clustering import LDA\n",
    "from nltk.corpus import stopwords\n",
    "import nltk\n",
    "nltk.download('stopwords')"
   ]
  },
  {
   "cell_type": "markdown",
   "id": "81c7fe3c",
   "metadata": {},
   "source": [
    "# 1. Loading the data"
   ]
  },
  {
   "cell_type": "code",
   "execution_count": 6,
   "id": "d109779f",
   "metadata": {
    "scrolled": false
   },
   "outputs": [
    {
     "name": "stdout",
     "output_type": "stream",
     "text": [
      "+--------------+----+-------------------+----+--------------------+---------------+\n",
      "|extractionTime| geo|                 id|lang|                text|           user|\n",
      "+--------------+----+-------------------+----+--------------------+---------------+\n",
      "|    1639928596|null|1472593384531689478|  en|@LindseyGrahamSC ...|    GreatLenny1|\n",
      "|    1639928987|null|1472595022021337097|  en|@Sen_JoeManchin B...|      AltickRob|\n",
      "|    1639927784|null|1472589977263513604|  en|@Sen_JoeManchin @...|realnewsrealnfo|\n",
      "|    1639929352|null|1472596551369469964|  en|@SenSchumer @POTU...|        THE_ECB|\n",
      "|    1639926510|null|1472584634005344266|  en|@SenBlumenthal Fo...|GrinningSinner9|\n",
      "|    1639929167|null|1472595778342375428|  en|@Sen_JoeManchin T...|     Hoganknows|\n",
      "|    1639927804|null|1472590058683306006|  en|@POTUS Lol as of ...|  Dylan19135270|\n",
      "|    1639926726|null|1472585539224227848|  en|@Sen_JoeManchin  ...|      lynrouse1|\n",
      "|    1640627214|null|1475523600253952000|  en|@KamalaHarris Let...| HTX_Groutsmith|\n",
      "|    1639928430|null|1472592686876135424|  en|@HillaryClinton t...|       NYAnna22|\n",
      "|    1639927997|null|1472590870235037696|  en|@SenWarren This i...|  isabeldzuviak|\n",
      "|    1639925607|null|1472580844019662853|  en|@tedcruz Is that ...|      marczahav|\n",
      "|    1640628908|null|1475530703882186752|  en|@SenJeffMerkley C...|     madlaine63|\n",
      "|    1639927018|null|1472586763583606785|  en|@Sen_JoeManchin c...|MikaelaSkyeSays|\n",
      "|    1640625621|null|1475516918215819267|  en|@POTUS When you t...|tinalindstrom19|\n",
      "|    1640627997|null|1475526882275692545| und|@Mike_Pence @USNa...|       JordyAri|\n",
      "|    1640629947|null|1475535061051052032|  en|@BarackObama Any ...|      DaR8iders|\n",
      "|    1640626574|null|1475520914166976520|  en|@POTUS @POTUS Why...|  Dr_Decible_Jr|\n",
      "|    1640628390|null|1475528532608622593| und|@POTUS https://t....|      ads_adfzc|\n",
      "|    1639928152|null|1472591519320363018|  en|@Sen_JoeManchin Y...|  jbell73903754|\n",
      "+--------------+----+-------------------+----+--------------------+---------------+\n",
      "only showing top 20 rows\n",
      "\n"
     ]
    },
    {
     "data": {
      "text/plain": [
       "'Lenght: 16653'"
      ]
     },
     "execution_count": 6,
     "metadata": {},
     "output_type": "execute_result"
    }
   ],
   "source": [
    "df = spark.read.json(\"/home/ubuntu/temp-data\").drop_duplicates([\"text\"])\n",
    "df.repartition(50).write.mode(\"overwrite\").parquet(\"/home/ubuntu/temp-data2\")\n",
    "df = spark.read.parquet(\"/home/ubuntu/temp-data2\")\n",
    "# df = spark.read.option(\"tableName\", \"tweets\").format(\"dynamodb\").load()\n",
    "df.show()\n",
    "f\"Lenght: {df.count()}\""
   ]
  },
  {
   "cell_type": "markdown",
   "id": "5308ca20",
   "metadata": {},
   "source": [
    "Removing special chacaters and changing to lowercase"
   ]
  },
  {
   "cell_type": "code",
   "execution_count": 7,
   "id": "7c05c398",
   "metadata": {
    "scrolled": true
   },
   "outputs": [
    {
     "name": "stdout",
     "output_type": "stream",
     "text": [
      "+--------------+----+-------------------+----+--------------------+---------------+\n",
      "|extractionTime| geo|                 id|lang|                text|           user|\n",
      "+--------------+----+-------------------+----+--------------------+---------------+\n",
      "|    1639928596|null|1472593384531689478|  en|@lindseygrahamsc ...|    GreatLenny1|\n",
      "|    1639928987|null|1472595022021337097|  en|@senjoemanchin bu...|      AltickRob|\n",
      "|    1639927784|null|1472589977263513604|  en|@senjoemanchin @s...|realnewsrealnfo|\n",
      "|    1639929352|null|1472596551369469964|  en|@senschumer @potu...|        THE_ECB|\n",
      "|    1639926510|null|1472584634005344266|  en|@senblumenthal fo...|GrinningSinner9|\n",
      "|    1639929167|null|1472595778342375428|  en|@senjoemanchin th...|     Hoganknows|\n",
      "|    1639927804|null|1472590058683306006|  en|@potus lol as of ...|  Dylan19135270|\n",
      "|    1639926726|null|1472585539224227848|  en|@senjoemanchin  u...|      lynrouse1|\n",
      "|    1640627214|null|1475523600253952000|  en|@kamalaharris let...| HTX_Groutsmith|\n",
      "|    1639928430|null|1472592686876135424|  en|@hillaryclinton t...|       NYAnna22|\n",
      "|    1639927997|null|1472590870235037696|  en|@senwarren this i...|  isabeldzuviak|\n",
      "|    1639925607|null|1472580844019662853|  en|@tedcruz is that ...|      marczahav|\n",
      "|    1640628908|null|1475530703882186752|  en|@senjeffmerkley c...|     madlaine63|\n",
      "|    1639927018|null|1472586763583606785|  en|@senjoemanchin co...|MikaelaSkyeSays|\n",
      "|    1640625621|null|1475516918215819267|  en|@potus when you t...|tinalindstrom19|\n",
      "|    1640627997|null|1475526882275692545| und|@mikepence @usnat...|       JordyAri|\n",
      "|    1640629947|null|1475535061051052032|  en|@barackobama any ...|      DaR8iders|\n",
      "|    1640626574|null|1475520914166976520|  en|@potus @potus why...|  Dr_Decible_Jr|\n",
      "|    1640628390|null|1475528532608622593| und|@potus httpstcoq9...|      ads_adfzc|\n",
      "|    1639928152|null|1472591519320363018|  en|@senjoemanchin yo...|  jbell73903754|\n",
      "+--------------+----+-------------------+----+--------------------+---------------+\n",
      "only showing top 20 rows\n",
      "\n"
     ]
    }
   ],
   "source": [
    "df = df.withColumn(\"text\", f.lower(f.regexp_replace(f.col(\"text\"), \"[^A-Za-z0-9@ ]\", \"\")))\n",
    "df.show()"
   ]
  },
  {
   "cell_type": "markdown",
   "id": "13867c2a",
   "metadata": {},
   "source": [
    "# 2. LDA - topics analysis - Pyspark only"
   ]
  },
  {
   "cell_type": "code",
   "execution_count": 8,
   "id": "76ece113",
   "metadata": {},
   "outputs": [
    {
     "name": "stdout",
     "output_type": "stream",
     "text": [
      "+--------------+----+-------------------+----+--------------------+---------------+--------------------+--------------------+\n",
      "|extractionTime| geo|                 id|lang|                text|           user|              tokens|       no stop words|\n",
      "+--------------+----+-------------------+----+--------------------+---------------+--------------------+--------------------+\n",
      "|    1639928596|null|1472593384531689478|  en|@lindseygrahamsc ...|    GreatLenny1|[@lindseygrahamsc...|[@lindseygrahamsc...|\n",
      "|    1639928987|null|1472595022021337097|  en|@senjoemanchin bu...|      AltickRob|[@senjoemanchin, ...|[@senjoemanchin, ...|\n",
      "|    1639927784|null|1472589977263513604|  en|@senjoemanchin @s...|realnewsrealnfo|[@senjoemanchin, ...|[@senjoemanchin, ...|\n",
      "|    1639929352|null|1472596551369469964|  en|@senschumer @potu...|        THE_ECB|[@senschumer, @po...|[@senschumer, @po...|\n",
      "|    1639926510|null|1472584634005344266|  en|@senblumenthal fo...|GrinningSinner9|[@senblumenthal, ...|[@senblumenthal, ...|\n",
      "+--------------+----+-------------------+----+--------------------+---------------+--------------------+--------------------+\n",
      "only showing top 5 rows\n",
      "\n"
     ]
    },
    {
     "data": {
      "text/plain": [
       "[{'extractionTime': 1639928596,\n",
       "  'geo': None,\n",
       "  'id': 1472593384531689478,\n",
       "  'lang': 'en',\n",
       "  'text': '@lindseygrahamsc so glad to have a sane competent responsible responsive potus and administration in power now aft httpstcomwtejuxqsi',\n",
       "  'user': 'GreatLenny1',\n",
       "  'tokens': ['@lindseygrahamsc',\n",
       "   'so',\n",
       "   'glad',\n",
       "   'to',\n",
       "   'have',\n",
       "   'a',\n",
       "   'sane',\n",
       "   'competent',\n",
       "   'responsible',\n",
       "   'responsive',\n",
       "   'potus',\n",
       "   'and',\n",
       "   'administration',\n",
       "   'in',\n",
       "   'power',\n",
       "   'now',\n",
       "   'aft',\n",
       "   'httpstcomwtejuxqsi'],\n",
       "  'no stop words': ['@lindseygrahamsc',\n",
       "   'glad',\n",
       "   'sane',\n",
       "   'competent',\n",
       "   'responsible',\n",
       "   'responsive',\n",
       "   'potus',\n",
       "   'administration',\n",
       "   'power',\n",
       "   'aft',\n",
       "   'httpstcomwtejuxqsi']},\n",
       " {'extractionTime': 1639928987,\n",
       "  'geo': None,\n",
       "  'id': 1472595022021337097,\n",
       "  'lang': 'en',\n",
       "  'text': '@senjoemanchin but you cant help the people of wv by voting for the build back better deal why because it hurts httpstcoorbi5zgwdh',\n",
       "  'user': 'AltickRob',\n",
       "  'tokens': ['@senjoemanchin',\n",
       "   'but',\n",
       "   'you',\n",
       "   'cant',\n",
       "   'help',\n",
       "   'the',\n",
       "   'people',\n",
       "   'of',\n",
       "   'wv',\n",
       "   'by',\n",
       "   'voting',\n",
       "   'for',\n",
       "   'the',\n",
       "   'build',\n",
       "   'back',\n",
       "   'better',\n",
       "   'deal',\n",
       "   'why',\n",
       "   'because',\n",
       "   'it',\n",
       "   'hurts',\n",
       "   'httpstcoorbi5zgwdh'],\n",
       "  'no stop words': ['@senjoemanchin',\n",
       "   'cant',\n",
       "   'help',\n",
       "   'people',\n",
       "   'wv',\n",
       "   'voting',\n",
       "   'build',\n",
       "   'back',\n",
       "   'better',\n",
       "   'deal',\n",
       "   'hurts',\n",
       "   'httpstcoorbi5zgwdh']},\n",
       " {'extractionTime': 1639927784,\n",
       "  'geo': None,\n",
       "  'id': 1472589977263513604,\n",
       "  'lang': 'en',\n",
       "  'text': '@senjoemanchin @secbecerra west virginians get rid of this selfinterest drivenprogress impeding trojan horse httpstcoeuhewb87i8',\n",
       "  'user': 'realnewsrealnfo',\n",
       "  'tokens': ['@senjoemanchin',\n",
       "   '@secbecerra',\n",
       "   'west',\n",
       "   'virginians',\n",
       "   'get',\n",
       "   'rid',\n",
       "   'of',\n",
       "   'this',\n",
       "   'selfinterest',\n",
       "   'drivenprogress',\n",
       "   'impeding',\n",
       "   'trojan',\n",
       "   'horse',\n",
       "   'httpstcoeuhewb87i8'],\n",
       "  'no stop words': ['@senjoemanchin',\n",
       "   '@secbecerra',\n",
       "   'west',\n",
       "   'virginians',\n",
       "   'get',\n",
       "   'rid',\n",
       "   'selfinterest',\n",
       "   'drivenprogress',\n",
       "   'impeding',\n",
       "   'trojan',\n",
       "   'horse',\n",
       "   'httpstcoeuhewb87i8']}]"
      ]
     },
     "execution_count": 8,
     "metadata": {},
     "output_type": "execute_result"
    }
   ],
   "source": [
    "tokenizer = pysparkTokenizer(inputCol=\"text\", outputCol=\"tokens\")\n",
    "stopwords_cleaner = StopWordsRemover(inputCol=\"tokens\", outputCol=\"no stop words\")\n",
    "nlp_pipeline = Pipeline(\n",
    "    stages=[tokenizer,\n",
    "            stopwords_cleaner])\n",
    "nlp_model = nlp_pipeline.fit(df)\n",
    "processed_df  = nlp_model.transform(df)\n",
    "processed_df.show(5)\n",
    "processed_df.limit(3).toPandas().to_dict(\"records\")"
   ]
  },
  {
   "cell_type": "code",
   "execution_count": 9,
   "id": "f0f0009a",
   "metadata": {},
   "outputs": [
    {
     "name": "stdout",
     "output_type": "stream",
     "text": [
      "['@tedcruz', 'rt', '@barackobama', '@randpaul', 'ted', 'people', '@chuckgrassley', '@chrismurphyct', 'christmas', 'dont', 'thats', 'one', 'cruz', 'states', 'covid'] \n",
      "\n",
      "['@potus', '', 'money', 'dont', 'go', 'inflation', 'need', '@joebiden', 'time', 'know', 'americans', 'economy', '@vp', 'biden', 'people'] \n",
      "\n",
      "['back', '@lindseygrahamsc', '@sentedcruz', '@amyklobuchar', '@foxnews', 'voting', 'better', 'rights', 'build', 'need', 'every', '@sensherrodbrown', '@senronjohnson', 'bill', 'get'] \n",
      "\n",
      "['@senjoemanchin', '', 'youre', 'people', 'manchin', 'joe', 'bbb', 'vote', 'amp', '@senwarren', 'party', 'thank', 'american', 'republican', 'west'] \n",
      "\n",
      "['@joebiden', '@senschumer', '@kamalaharris', '@vp', 'president', '@thedemocrats', 'biden', 'hes', 'still', 'senate', '@johncornyn', 'going', 'anything', 'get', '@speakerpelosi'] \n",
      "\n"
     ]
    }
   ],
   "source": [
    "cv = CountVectorizer(inputCol=\"no stop words\", outputCol=\"features\", vocabSize=500, minDF=3.0)\n",
    "cv_model = cv.fit(processed_df)\n",
    "lda = LDA(k=5, maxIter=100)\n",
    "model = lda.fit(cv_model.transform(processed_df))\n",
    "for indices in model.describeTopics(15).select(\"termIndices\").rdd.flatMap(lambda x: x).collect():\n",
    "    print([cv_model.vocabulary[i] for i in indices], '\\n')"
   ]
  },
  {
   "cell_type": "markdown",
   "id": "e00101ca",
   "metadata": {},
   "source": [
    "# 3. LDA - topics analysis - SparkNLP"
   ]
  },
  {
   "cell_type": "code",
   "execution_count": 10,
   "id": "00280e7d",
   "metadata": {},
   "outputs": [
    {
     "name": "stdout",
     "output_type": "stream",
     "text": [
      "lemma_antbnc download started this may take some time.\n",
      "Approximate size to download 907.6 KB\n",
      "[OK!]\n",
      "pos_anc download started this may take some time.\n",
      "Approximate size to download 3.9 MB\n",
      "[OK!]\n",
      "+--------------+----+-------------------+----+--------------------+---------------+--------------------+--------------------+--------------------+\n",
      "|extractionTime| geo|                 id|lang|                text|           user|   finished_unigrams|     finished_ngrams|               final|\n",
      "+--------------+----+-------------------+----+--------------------+---------------+--------------------+--------------------+--------------------+\n",
      "|    1639928596|null|1472593384531689478|  en|@lindseygrahamsc ...|    GreatLenny1|[lindseygrahamsc,...|[glad to have a s...|[lindseygrahamsc,...|\n",
      "|    1639928987|null|1472595022021337097|  en|@senjoemanchin bu...|      AltickRob|[senjoemanchin, c...|[wv by voting, @s...|[senjoemanchin, c...|\n",
      "|    1639927784|null|1472589977263513604|  en|@senjoemanchin @s...|realnewsrealnfo|[senjoemanchin, s...|[@senjoemanchin @...|[senjoemanchin, s...|\n",
      "|    1639929352|null|1472596551369469964|  en|@senschumer @potu...|        THE_ECB|[senschumer, potu...|[@senschumer @pot...|[senschumer, potu...|\n",
      "|    1639926510|null|1472584634005344266|  en|@senblumenthal fo...|GrinningSinner9|[senblumenthal, y...|[@senblumenthal f...|[senblumenthal, y...|\n",
      "|    1639929167|null|1472595778342375428|  en|@senjoemanchin th...|     Hoganknows|[senjoemanchin, t...|                  []|[senjoemanchin, t...|\n",
      "|    1639927804|null|1472590058683306006|  en|@potus lol as of ...|  Dylan19135270|[potus, lol, toda...|[big nope, @potus...|[potus, lol, toda...|\n",
      "|    1639926726|null|1472585539224227848|  en|@senjoemanchin  u...|      lynrouse1|[senjoemanchin, u...|[@senjoemanchin  ...|[senjoemanchin, u...|\n",
      "|    1640627214|null|1475523600253952000|  en|@kamalaharris let...| HTX_Groutsmith|[kamalaharris, le...|                  []|[kamalaharris, le...|\n",
      "|    1639928430|null|1472592686876135424|  en|@hillaryclinton t...|       NYAnna22|[hillaryclinton, ...|[fabulous in her ...|[hillaryclinton, ...|\n",
      "|    1639927997|null|1472590870235037696|  en|@senwarren this i...|  isabeldzuviak|[senwarren, wrong...|      [wrong i cant]|[senwarren, wrong...|\n",
      "|    1639925607|null|1472580844019662853|  en|@tedcruz is that ...|      marczahav|[tedcruz, change,...|[@tedcruz is that...|[tedcruz, change,...|\n",
      "|    1640628908|null|1475530703882186752|  en|@senjeffmerkley c...|     madlaine63|[senjeffmerkley, ...|[abolish the fili...|[senjeffmerkley, ...|\n",
      "|    1639927018|null|1472586763583606785|  en|@senjoemanchin co...|MikaelaSkyeSays|[senjoemanchin, c...|[state that ranks...|[senjoemanchin, c...|\n",
      "|    1640625621|null|1475516918215819267|  en|@potus when you t...|tinalindstrom19|[potus, take, off...|[@potus when you ...|[potus, take, off...|\n",
      "|    1640627997|null|1475526882275692545| und|@mikepence @usnat...|       JordyAri|[mikepence, usnat...|[@mikepence @usna...|[mikepence, usnat...|\n",
      "|    1640629947|null|1475535061051052032|  en|@barackobama any ...|      DaR8iders|[barackobama, kin...|[political land, ...|[barackobama, kin...|\n",
      "|    1640626574|null|1475520914166976520|  en|@potus @potus why...|  Dr_Decible_Jr|[potus, potus, u,...|[strong 2 then u,...|[potus, potus, u,...|\n",
      "|    1640628390|null|1475528532608622593| und|@potus httpstcoq9...|      ads_adfzc|[potus, httpstcoq...|[@potus httpstcoq...|[potus, httpstcoq...|\n",
      "|    1639928152|null|1472591519320363018|  en|@senjoemanchin yo...|  jbell73903754|[senjoemanchin, r...|[good government,...|[senjoemanchin, r...|\n",
      "+--------------+----+-------------------+----+--------------------+---------------+--------------------+--------------------+--------------------+\n",
      "only showing top 20 rows\n",
      "\n"
     ]
    }
   ],
   "source": [
    "documentAssembler = DocumentAssembler().setInputCol(\"text\").setOutputCol('document')\n",
    "tokenizer = Tokenizer().setInputCols(['document']).setOutputCol('tokenized')\n",
    "normalizer = Normalizer().setInputCols(['tokenized']).setOutputCol('normalized')\n",
    "lemmatizer = LemmatizerModel.pretrained().setInputCols(['normalized']).setOutputCol('lemmatized')\n",
    "stopwords_cleaner = StopWordsCleaner().setInputCols(['lemmatized'])\\\n",
    ".setOutputCol('unigrams').setStopWords(stopwords.words('english'))\n",
    "pos_tagger = PerceptronModel.pretrained('pos_anc').setInputCols(['document', 'unigrams']).setOutputCol('pos')\n",
    "chunker = Chunker().setInputCols(['document', 'pos']).setOutputCol('ngrams').setRegexParsers(['<JJ>+<NN>', '<NN>+<NN>'])\n",
    "finisher = Finisher().setInputCols(['unigrams', 'ngrams'])\n",
    "pipeline = Pipeline() \\\n",
    "     .setStages([documentAssembler,\n",
    "                 tokenizer,\n",
    "                 normalizer,\n",
    "                 lemmatizer,\n",
    "                 stopwords_cleaner,\n",
    "                 pos_tagger,\n",
    "                 chunker,\n",
    "                 finisher])\n",
    "processed_df = pipeline.fit(df).transform(df).withColumn(\"final\", f.concat(\"finished_unigrams\", \"finished_ngrams\"))\n",
    "processed_df.show()"
   ]
  },
  {
   "cell_type": "code",
   "execution_count": 11,
   "id": "24050e7c",
   "metadata": {},
   "outputs": [
    {
     "name": "stdout",
     "output_type": "stream",
     "text": [
      "['vote', 'right', 'people', 'potus', 'amyklobuchar', 'get', 'make', 'tax', 'senwarren', 'dont', 'want', 'one', 'rt', 'student', 'pay'] \n",
      "\n",
      "['potus', 'joebiden', 'vp', 'lie', 'president', 'go', 'biden', 'lindseygrahamsc', 'senwarren', 'stop', 'trump', 'inflation', 'liar', 'kamalaharris', 'please'] \n",
      "\n",
      "['tedcruz', 'senschumer', 'sentedcruz', 'barackobama', 'party', 'foxnews', 'ted', 'joemanchinwv', 'cruz', 'mask', 'gop', 'republican', 'democratic', 'marcorubio', 'senate'] \n",
      "\n",
      "['senjoemanchin', 'manchin', 'joe', 'people', 'youre', 'vote', 'care', 'thank', 'bbb', 'republican', 'money', 'state', 'american', 'dont', 'west'] \n",
      "\n",
      "['get', 'back', 'senjoemanchin', 'rt', 'well', 'need', 'kamalaharris', 'bill', 'build', 'thedemocrats', 'shit', 'go', 'joebiden', 'fox', 'randpaul'] \n",
      "\n"
     ]
    }
   ],
   "source": [
    "cv = CountVectorizer(inputCol=\"final\", outputCol=\"features\", vocabSize=500, minDF=3.0)\n",
    "cv_model = cv.fit(processed_df)\n",
    "lda = LDA(k=5, maxIter=100)\n",
    "model = lda.fit(cv_model.transform(processed_df))\n",
    "for indices in model.describeTopics(15).select(\"termIndices\").rdd.flatMap(lambda x: x).collect():\n",
    "    print([cv_model.vocabulary[i] for i in indices], '\\n')"
   ]
  },
  {
   "cell_type": "code",
   "execution_count": null,
   "id": "2356aa98",
   "metadata": {},
   "outputs": [],
   "source": []
  }
 ],
 "metadata": {
  "kernelspec": {
   "display_name": "Python 3",
   "language": "python",
   "name": "python3"
  },
  "language_info": {
   "codemirror_mode": {
    "name": "ipython",
    "version": 3
   },
   "file_extension": ".py",
   "mimetype": "text/x-python",
   "name": "python",
   "nbconvert_exporter": "python",
   "pygments_lexer": "ipython3",
   "version": "3.6.9"
  }
 },
 "nbformat": 4,
 "nbformat_minor": 5
}
